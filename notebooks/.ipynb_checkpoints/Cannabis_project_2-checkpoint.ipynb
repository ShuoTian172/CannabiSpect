{
 "cells": [
  {
   "cell_type": "code",
   "execution_count": 7,
   "metadata": {},
   "outputs": [],
   "source": [
    "import pandas as pd\n",
    "from pandas import DataFrame\n",
    "import nltk\n",
    "from nltk import FreqDist\n",
    "import pandas as pd\n",
    "pd.set_option(\"display.max_colwidth\", 200)\n",
    "import numpy as np\n",
    "import re\n",
    "import spacy\n",
    "\n",
    "import gensim\n",
    "from gensim import corpora\n",
    "\n",
    "import pickle\n",
    "from textblob import TextBlob, Word\n",
    "\n",
    "# libraries for visualization\n",
    "import matplotlib.pyplot as plt\n",
    "import seaborn as sns\n",
    "%matplotlib inline"
   ]
  },
  {
   "cell_type": "code",
   "execution_count": 8,
   "metadata": {},
   "outputs": [],
   "source": [
    "df = pd.read_csv('Cannabis_reviews.csv')"
   ]
  },
  {
   "cell_type": "code",
   "execution_count": 7,
   "metadata": {
    "scrolled": true
   },
   "outputs": [
    {
     "data": {
      "text/plain": [
       "0                                                                                                                                                                                   fire get it why it's hot\n",
       "1                                                                                                                                  Extremely relaxing. Good head space. Does well to remove stress and pain.\n",
       "2                                                                                                                                  I really like the taste of this strain, great for morning and afternoon. \n",
       "3    Great flavor takes me back to when I first smoked weed. Just the aroma and flavor of the weed is just so nostalgic. Recommend it to every who wants to smoke for the first time/smoke for the first ...\n",
       "4                                                                                                                                                       This 1 is dankkk\\nMy favourite strain at the moment!\n",
       "Name: text, dtype: object"
      ]
     },
     "execution_count": 7,
     "metadata": {},
     "output_type": "execute_result"
    }
   ],
   "source": [
    "reviews=df['text']\n",
    "reviews.head()"
   ]
  },
  {
   "cell_type": "code",
   "execution_count": null,
   "metadata": {},
   "outputs": [],
   "source": [
    "def get_segment(review_text, aspect, aspects_dic):\n",
    "\n",
    "    cur_aspect_index = review_text.index(aspect)\n",
    "    cur_aspect_end_index_begin = cur_aspect_index + len(aspect)\n",
    "    cur_aspect_end_index_end = cur_aspect_end_index_begin\n",
    "    end_pos = len(review_text) - 1\n",
    "\n",
    "    stop_punct_map = {c: None for c in ',.!?;'}\n",
    "    relation_punct_list = [\"and\", \"when\", \"but\"]\n",
    "\n",
    "    # next_aspect = self.get_next_aspect(review_text[cur_aspect_end_index_begin:end_pos])\n",
    "    cur_aspect_des = self.get_cur_aspect_adj(review_text[cur_aspect_end_index_begin:end_pos])\n",
    "\n",
    "    while cur_aspect_end_index_end <= end_pos:\n",
    "        # 在标点符号处截取\n",
    "        cur_str = review_text[cur_aspect_end_index_end:min(cur_aspect_end_index_end + 1, end_pos)]\n",
    "        if cur_str in stop_punct_map:\n",
    "            break\n",
    "\n",
    "        # 在转移符号处截取\n",
    "        cur_strs = review_text[cur_aspect_end_index_begin:cur_aspect_end_index_end]\n",
    "        relation_store = \"\"\n",
    "        for relation in relation_punct_list:\n",
    "            if relation in cur_strs.lower():\n",
    "                relation_store = relation\n",
    "                break\n",
    "\n",
    "        if relation_store != \"\":\n",
    "            cur_aspect_end_index_end -= len(relation_store)\n",
    "            break\n",
    "\n",
    "        # 在aspect最近的形容词截取\n",
    "        if cur_aspect_des != None:\n",
    "            if cur_aspect_des in cur_strs:\n",
    "                break\n",
    "\n",
    "        cur_aspect_end_index_end += 1\n",
    "\n",
    "    cur_aspect_end_index_end = min(cur_aspect_end_index_end, end_pos)\n",
    "    return review_text[cur_aspect_index:cur_aspect_end_index_end]"
   ]
  },
  {
   "cell_type": "code",
   "execution_count": null,
   "metadata": {},
   "outputs": [],
   "source": [
    "dic_aspect_summary = {}\n",
    "for aspect, reviews in aspects_dic.items():\n",
    "if aspect not in dic_aspect_summary:\n",
    "\tdic_aspect_summary[aspect] = {}\n",
    "\n",
    "# 算某个aspect的得分\n",
    "pos_aspect_review_nums = len(pos_aspect_dic[aspect])\n",
    "pos_aspect_total_scores = 0\n",
    "for item in pos_aspect_dic[aspect]:\n",
    "\tpos_aspect_total_scores += item[1]\n",
    "\n",
    "neg_aspect_review_nums = len(neg_aspect_dic[aspect])\n",
    "neg_aspect_total_scores = 0\n",
    "for item in neg_aspect_dic[aspect]:\n",
    "\tneg_aspect_total_scores += item[1]\n",
    "\n",
    "aspect_review_nums = pos_aspect_review_nums +neg_aspect_review_nums\n",
    "aspect_score = (pos_aspect_total_scores + neg_aspect_total_scores) / aspect_review_nums\n",
    "\n",
    "dic_aspect_summary[aspect][\"rating\"] = aspect_score\n",
    "\n",
    "# TOP 5 正面\n",
    "aspects_pos_sorted = sorted(pos_aspect_dic[aspect], key=lambda x: x[1], reverse=True)\n",
    "aspects_pos_contents = {}\n",
    "dic_aspect_summary[aspect][\"pos\"] = []\n",
    "for index, item in enumerate(aspects_pos_sorted):\n",
    "\tif len(dic_aspect_summary[aspect][\"pos\"]) >= 5:\n",
    "\t\tbreak\n",
    "\treview_content = review_segment_dic[item[0]]\n",
    "\tif review_content not in aspects_pos_contents:\n",
    "\t\tdic_aspect_summary[aspect][\"pos\"].append(review_content)\n",
    "\t\taspects_pos_contents[review_content] = None\n",
    "\n",
    "# TOP 5 负面\n",
    "aspects_neg_sorted = sorted(neg_aspect_dic[aspect], key=lambda x: x[1], reverse=False)\n",
    "aspects_neg_contents = {}\n",
    "dic_aspect_summary[aspect][\"neg\"] = []\n",
    "for index, item in enumerate(aspects_neg_sorted):\n",
    "\tif len(dic_aspect_summary[aspect][\"neg\"]) >= 5:\n",
    "\t\tbreak\n",
    "\treview_content = review_segment_dic[item[0]]\n",
    "\tif review_content not in aspects_neg_contents:\n",
    "\t\tdic_aspect_summary[aspect][\"neg\"].append(review_content)\n",
    "\t\taspects_neg_contents[review_content] = None\n",
    "\n",
    "all_aspect_scores = 0\n",
    "for item in dic_aspect_summary.items():\n",
    "all_aspect_scores += item[1][\"rating\"]\n",
    "\n",
    "business_rating = all_aspect_scores / len(dic_aspect_summary.items())\n",
    "\n",
    "return {'business_id':business_id,\n",
    "'business_name':business_name,\n",
    "'business_rating':business_rating,\n",
    "'aspect_summary':dic_aspect_summary\n",
    "}"
   ]
  },
  {
   "cell_type": "code",
   "execution_count": null,
   "metadata": {},
   "outputs": [],
   "source": []
  },
  {
   "cell_type": "code",
   "execution_count": null,
   "metadata": {},
   "outputs": [],
   "source": []
  },
  {
   "cell_type": "code",
   "execution_count": null,
   "metadata": {},
   "outputs": [],
   "source": []
  },
  {
   "cell_type": "code",
   "execution_count": 4,
   "metadata": {},
   "outputs": [],
   "source": [
    "reviewSample='Good head space. Does well to remove stress and pain.'"
   ]
  },
  {
   "cell_type": "code",
   "execution_count": 5,
   "metadata": {},
   "outputs": [
    {
     "data": {
      "text/plain": [
       "27"
      ]
     },
     "execution_count": 5,
     "metadata": {},
     "output_type": "execute_result"
    }
   ],
   "source": [
    "reviewSample.index('to')"
   ]
  },
  {
   "cell_type": "code",
   "execution_count": 6,
   "metadata": {},
   "outputs": [],
   "source": [
    "Pain=df[df['text'].str.contains('pain', na=False)]"
   ]
  },
  {
   "cell_type": "code",
   "execution_count": null,
   "metadata": {},
   "outputs": [],
   "source": [
    "len(Pain)"
   ]
  },
  {
   "cell_type": "code",
   "execution_count": 32,
   "metadata": {},
   "outputs": [],
   "source": [
    "df = df[df['rating'] > 0]"
   ]
  },
  {
   "cell_type": "code",
   "execution_count": 33,
   "metadata": {},
   "outputs": [
    {
     "data": {
      "image/png": "[encoded data removed]",
      "text/plain": [
       "<Figure size 720x432 with 1 Axes>"
      ]
     },
     "metadata": {
      "needs_background": "light"
     },
     "output_type": "display_data"
    }
   ],
   "source": [
    "x=df['rating'].value_counts()\n",
    "x=x.sort_index()\n",
    "plt.figure(figsize=(10,6))\n",
    "ax= sns.barplot(x.index, x.values, alpha=0.8)\n",
    "plt.title(\"Star Rating Distribution\")\n",
    "plt.ylabel('count')\n",
    "plt.xlabel('Star Ratings')\n",
    "rects = ax.patches\n",
    "labels = x.values\n",
    "for rect, label in zip(rects, labels):\n",
    "    height = rect.get_height()\n",
    "    ax.text(rect.get_x() + rect.get_width()/2, height + 5, label, ha='center', va='bottom')\n",
    "plt.show();"
   ]
  },
  {
   "cell_type": "code",
   "execution_count": 35,
   "metadata": {},
   "outputs": [
    {
     "data": {
      "image/png": "[encoded data removed]",
      "text/plain": [
       "<Figure size 1008x288 with 2 Axes>"
      ]
     },
     "metadata": {
      "needs_background": "light"
     },
     "output_type": "display_data"
    }
   ],
   "source": [
    "fig, axes = plt.subplots(ncols=2, figsize=(14, 4))\n",
    "df.year.value_counts().sort_index().plot.bar(title='Reviews per Year', ax=axes[0]);\n",
    "sns.lineplot(x='year', y='rating', data=df, ax=axes[1])\n",
    "axes[1].set_title('Stars per year');"
   ]
  },
  {
   "cell_type": "code",
   "execution_count": null,
   "metadata": {},
   "outputs": [],
   "source": []
  },
  {
   "cell_type": "code",
   "execution_count": 8,
   "metadata": {},
   "outputs": [
    {
     "data": {
      "text/html": [
       "<div>\n",
       "<style scoped>\n",
       "    .dataframe tbody tr th:only-of-type {\n",
       "        vertical-align: middle;\n",
       "    }\n",
       "\n",
       "    .dataframe tbody tr th {\n",
       "        vertical-align: top;\n",
       "    }\n",
       "\n",
       "    .dataframe thead th {\n",
       "        text-align: right;\n",
       "    }\n",
       "</style>\n",
       "<table border=\"1\" class=\"dataframe\">\n",
       "  <thead>\n",
       "    <tr style=\"text-align: right;\">\n",
       "      <th></th>\n",
       "      <th>review_id</th>\n",
       "      <th>username</th>\n",
       "      <th>text</th>\n",
       "      <th>review_added</th>\n",
       "      <th>rating</th>\n",
       "      <th>star_image</th>\n",
       "      <th>location_slug</th>\n",
       "      <th>location_name</th>\n",
       "      <th>avatar</th>\n",
       "      <th>log_rating</th>\n",
       "      <th>...</th>\n",
       "      <th>negative_effects</th>\n",
       "      <th>flavors</th>\n",
       "      <th>symptoms</th>\n",
       "      <th>conditions</th>\n",
       "      <th>kiosk_curated_list_scores</th>\n",
       "      <th>permalink</th>\n",
       "      <th>sort_name</th>\n",
       "      <th>log_tags</th>\n",
       "      <th>created_at.1</th>\n",
       "      <th>polarity</th>\n",
       "    </tr>\n",
       "  </thead>\n",
       "  <tbody>\n",
       "    <tr>\n",
       "      <th>0</th>\n",
       "      <td>1264200</td>\n",
       "      <td>hardknoxxlif3</td>\n",
       "      <td>fire get it why it's hot</td>\n",
       "      <td>2016-04-23 03:36:25+00</td>\n",
       "      <td>5</td>\n",
       "      <td>https://d3ix816x6wuc0d.cloudfront.net/stars/5/240</td>\n",
       "      <td>NaN</td>\n",
       "      <td>NaN</td>\n",
       "      <td>https://ddd33q3967xhi.cloudfront.net/_LwUSia9OLq1vh_A-_6Ux_-Ybj0=/fit-in/300x300/https%3a%2f%2fpublic.leafly.com%2favatars%2f70.png</td>\n",
       "      <td>{\"score\": 1, \"upVotes\": 1, \"downVotes\": 0}</td>\n",
       "      <td>...</td>\n",
       "      <td>[{\"Id\": \"LogTags-dizzy\", \"Name\": \"Dizzy\", \"Active\": true, \"Category\": \"Negative\", \"DisplayLabel\": \"Dizzy\"}, {\"Id\": \"LogTags-dry-eyes\", \"Name\": \"Dry Eyes\", \"Active\": true, \"Category\": \"Negative\", \"...</td>\n",
       "      <td>[{\"Id\": \"LogTags-sweet\", \"Name\": \"Sweet\", \"Active\": true, \"Category\": \"Flavor\", \"DisplayLabel\": \"Sweet\"}, {\"Id\": \"LogTags-citrus\", \"Name\": \"Citrus\", \"Active\": true, \"Category\": \"Flavor\", \"DisplayL...</td>\n",
       "      <td>[{\"Id\": \"LogTags-depression\", \"Name\": \"Depression\", \"Active\": true, \"Category\": \"Symptom\", \"DisplayLabel\": \"Depression\"}, {\"Id\": \"LogTags-inflammation\", \"Name\": \"Inflammation\", \"Active\": true, \"Ca...</td>\n",
       "      <td>[{\"Id\": \"LogTags-addadhd\", \"Name\": \"ADD/ADHD\", \"Active\": true, \"Category\": \"Condition\", \"DisplayLabel\": \"ADD/ADHD\"}, {\"Id\": \"LogTags-anxiety\", \"Name\": \"Anxiety\", \"Active\": true, \"Category\": \"Condi...</td>\n",
       "      <td>{\"berry-burst\": 0.0, \"diesel-fuel\": 15.605824907095325, \"manage-pain\": 25.035919540229884, \"citrus-squeeze\": 14.054532883933973, \"overcome-anxiety\": 104.58905885403161, \"good-nights-sleep\": 50.855...</td>\n",
       "      <td>https://mobileapi.leafly.com/hybrid/707-headband</td>\n",
       "      <td>707 Headband</td>\n",
       "      <td>{creative,euphoric,happy,relaxed,uplifted,dizzy,dry-eyes,dry-mouth,paranoid,anxious,addadhd,anxiety,migraines,pms,ptsd,depression,inflammation,muscle-spasms,pain,stress,sweet,citrus,earthy,pungent...</td>\n",
       "      <td>2019-10-10 03:54:37+00</td>\n",
       "      <td>0.250000</td>\n",
       "    </tr>\n",
       "    <tr>\n",
       "      <th>1</th>\n",
       "      <td>2200248</td>\n",
       "      <td>BrazilianRedneck870</td>\n",
       "      <td>Extremely relaxing. Good head space. Does well to remove stress and pain.</td>\n",
       "      <td>2019-10-27 17:20:30+00</td>\n",
       "      <td>4</td>\n",
       "      <td>https://d3ix816x6wuc0d.cloudfront.net/stars/4/240</td>\n",
       "      <td>NaN</td>\n",
       "      <td>NaN</td>\n",
       "      <td>https://ddd33q3967xhi.cloudfront.net/mB7zjHN07KpJA9EMeBhVV9a1An0=/fit-in/300x300/https%3a%2f%2fpublic.leafly.com%2favatars%2f16.png</td>\n",
       "      <td>{\"score\": 0, \"upVotes\": 0, \"downVotes\": 0}</td>\n",
       "      <td>...</td>\n",
       "      <td>[{\"Id\": \"LogTags-dizzy\", \"Name\": \"Dizzy\", \"Active\": true, \"Category\": \"Negative\", \"DisplayLabel\": \"Dizzy\"}, {\"Id\": \"LogTags-dry-eyes\", \"Name\": \"Dry Eyes\", \"Active\": true, \"Category\": \"Negative\", \"...</td>\n",
       "      <td>[{\"Id\": \"LogTags-sweet\", \"Name\": \"Sweet\", \"Active\": true, \"Category\": \"Flavor\", \"DisplayLabel\": \"Sweet\"}, {\"Id\": \"LogTags-berry\", \"Name\": \"Berry\", \"Active\": true, \"Category\": \"Flavor\", \"DisplayLab...</td>\n",
       "      <td>[{\"Id\": \"LogTags-depression\", \"Name\": \"Depression\", \"Active\": true, \"Category\": \"Symptom\", \"DisplayLabel\": \"Depression\"}, {\"Id\": \"LogTags-insomnia\", \"Name\": \"Insomnia\", \"Active\": true, \"Category\":...</td>\n",
       "      <td>[{\"Id\": \"LogTags-addadhd\", \"Name\": \"ADD/ADHD\", \"Active\": true, \"Category\": \"Condition\", \"DisplayLabel\": \"ADD/ADHD\"}, {\"Id\": \"LogTags-anxiety\", \"Name\": \"Anxiety\", \"Active\": true, \"Category\": \"Condi...</td>\n",
       "      <td>{\"berry-burst\": 13.323500491642084, \"diesel-fuel\": 17.593411996066862, \"manage-pain\": 12.146017699115049, \"citrus-squeeze\": 0.0, \"overcome-anxiety\": -56.666666666666686, \"good-nights-sleep\": 150.9...</td>\n",
       "      <td>https://mobileapi.leafly.com/indica/3x-crazy</td>\n",
       "      <td>3X Crazy</td>\n",
       "      <td>{euphoric,happy,relaxed,sleepy,tingly,dizzy,dry-eyes,dry-mouth,paranoid,anxious,addadhd,anxiety,fibromyalgia,migraines,ptsd,depression,insomnia,lack-of-appetite,pain,stress,sweet,berry,lavender,ea...</td>\n",
       "      <td>2019-10-10 03:54:37+00</td>\n",
       "      <td>0.287500</td>\n",
       "    </tr>\n",
       "    <tr>\n",
       "      <th>2</th>\n",
       "      <td>1261599</td>\n",
       "      <td>dubabud</td>\n",
       "      <td>I really like the taste of this strain, great for morning and afternoon.</td>\n",
       "      <td>2016-04-21 20:42:57+00</td>\n",
       "      <td>5</td>\n",
       "      <td>https://d3ix816x6wuc0d.cloudfront.net/stars/5/240</td>\n",
       "      <td>NaN</td>\n",
       "      <td>NaN</td>\n",
       "      <td>https://ddd33q3967xhi.cloudfront.net/zL9jSVD3kxPJsOKmdrIVVcQ0X2E=/fit-in/300x300/https%3a%2f%2fpublic.leafly.com%2favatars%2f114.png</td>\n",
       "      <td>{\"score\": 0, \"upVotes\": 0, \"downVotes\": 0}</td>\n",
       "      <td>...</td>\n",
       "      <td>[{\"Id\": \"LogTags-dizzy\", \"Name\": \"Dizzy\", \"Active\": true, \"Category\": \"Negative\", \"DisplayLabel\": \"Dizzy\"}, {\"Id\": \"LogTags-dry-eyes\", \"Name\": \"Dry Eyes\", \"Active\": true, \"Category\": \"Negative\", \"...</td>\n",
       "      <td>[{\"Id\": \"LogTags-sweet\", \"Name\": \"Sweet\", \"Active\": true, \"Category\": \"Flavor\", \"DisplayLabel\": \"Sweet\"}, {\"Id\": \"LogTags-citrus\", \"Name\": \"Citrus\", \"Active\": true, \"Category\": \"Flavor\", \"DisplayL...</td>\n",
       "      <td>[{\"Id\": \"LogTags-depression\", \"Name\": \"Depression\", \"Active\": true, \"Category\": \"Symptom\", \"DisplayLabel\": \"Depression\"}, {\"Id\": \"LogTags-inflammation\", \"Name\": \"Inflammation\", \"Active\": true, \"Ca...</td>\n",
       "      <td>[{\"Id\": \"LogTags-addadhd\", \"Name\": \"ADD/ADHD\", \"Active\": true, \"Category\": \"Condition\", \"DisplayLabel\": \"ADD/ADHD\"}, {\"Id\": \"LogTags-anxiety\", \"Name\": \"Anxiety\", \"Active\": true, \"Category\": \"Condi...</td>\n",
       "      <td>{\"berry-burst\": 0.0, \"diesel-fuel\": 15.605824907095325, \"manage-pain\": 25.035919540229884, \"citrus-squeeze\": 14.054532883933973, \"overcome-anxiety\": 104.58905885403161, \"good-nights-sleep\": 50.855...</td>\n",
       "      <td>https://mobileapi.leafly.com/hybrid/707-headband</td>\n",
       "      <td>707 Headband</td>\n",
       "      <td>{creative,euphoric,happy,relaxed,uplifted,dizzy,dry-eyes,dry-mouth,paranoid,anxious,addadhd,anxiety,migraines,pms,ptsd,depression,inflammation,muscle-spasms,pain,stress,sweet,citrus,earthy,pungent...</td>\n",
       "      <td>2019-10-10 03:54:37+00</td>\n",
       "      <td>0.500000</td>\n",
       "    </tr>\n",
       "    <tr>\n",
       "      <th>3</th>\n",
       "      <td>2185133</td>\n",
       "      <td>Blazedmexican</td>\n",
       "      <td>Great flavor takes me back to when I first smoked weed. Just the aroma and flavor of the weed is just so nostalgic. Recommend it to every who wants to smoke for the first time/smoke for the first ...</td>\n",
       "      <td>2019-10-11 19:30:43+00</td>\n",
       "      <td>5</td>\n",
       "      <td>https://d3ix816x6wuc0d.cloudfront.net/stars/5/240</td>\n",
       "      <td>NaN</td>\n",
       "      <td>NaN</td>\n",
       "      <td>https://ddd33q3967xhi.cloudfront.net/38RRmfxAfGRd3QxlyCtWhCiOECk=/fit-in/300x300/https%3a%2f%2fpublic.leafly.com%2favatars%2f118.png</td>\n",
       "      <td>{\"score\": 0, \"upVotes\": 0, \"downVotes\": 0}</td>\n",
       "      <td>...</td>\n",
       "      <td>[{\"Id\": \"LogTags-dizzy\", \"Name\": \"Dizzy\", \"Active\": true, \"Category\": \"Negative\", \"DisplayLabel\": \"Dizzy\"}, {\"Id\": \"LogTags-dry-eyes\", \"Name\": \"Dry Eyes\", \"Active\": true, \"Category\": \"Negative\", \"...</td>\n",
       "      <td>[{\"Id\": \"LogTags-sweet\", \"Name\": \"Sweet\", \"Active\": true, \"Category\": \"Flavor\", \"DisplayLabel\": \"Sweet\"}, {\"Id\": \"LogTags-berry\", \"Name\": \"Berry\", \"Active\": true, \"Category\": \"Flavor\", \"DisplayLab...</td>\n",
       "      <td>[{\"Id\": \"LogTags-depression\", \"Name\": \"Depression\", \"Active\": true, \"Category\": \"Symptom\", \"DisplayLabel\": \"Depression\"}, {\"Id\": \"LogTags-insomnia\", \"Name\": \"Insomnia\", \"Active\": true, \"Category\":...</td>\n",
       "      <td>[{\"Id\": \"LogTags-addadhd\", \"Name\": \"ADD/ADHD\", \"Active\": true, \"Category\": \"Condition\", \"DisplayLabel\": \"ADD/ADHD\"}, {\"Id\": \"LogTags-anxiety\", \"Name\": \"Anxiety\", \"Active\": true, \"Category\": \"Condi...</td>\n",
       "      <td>{\"berry-burst\": 13.323500491642084, \"diesel-fuel\": 17.593411996066862, \"manage-pain\": 12.146017699115049, \"citrus-squeeze\": 0.0, \"overcome-anxiety\": -56.666666666666686, \"good-nights-sleep\": 150.9...</td>\n",
       "      <td>https://mobileapi.leafly.com/indica/3x-crazy</td>\n",
       "      <td>3X Crazy</td>\n",
       "      <td>{euphoric,happy,relaxed,sleepy,tingly,dizzy,dry-eyes,dry-mouth,paranoid,anxious,addadhd,anxiety,fibromyalgia,migraines,ptsd,depression,insomnia,lack-of-appetite,pain,stress,sweet,berry,lavender,ea...</td>\n",
       "      <td>2019-10-10 03:54:37+00</td>\n",
       "      <td>0.243077</td>\n",
       "    </tr>\n",
       "    <tr>\n",
       "      <th>4</th>\n",
       "      <td>2165833</td>\n",
       "      <td>fraser_patz</td>\n",
       "      <td>This 1 is dankkk\\nMy favourite strain at the moment!</td>\n",
       "      <td>2019-09-24 21:50:19+00</td>\n",
       "      <td>5</td>\n",
       "      <td>https://d3ix816x6wuc0d.cloudfront.net/stars/5/240</td>\n",
       "      <td>NaN</td>\n",
       "      <td>NaN</td>\n",
       "      <td>https://ddd33q3967xhi.cloudfront.net/BZ1r09SF1xOMbVwxL2UsPiKbzWg=/fit-in/300x300/https%3a%2f%2fpublic.leafly.com%2favatars%2f142.png</td>\n",
       "      <td>{\"score\": 0, \"upVotes\": 0, \"downVotes\": 0}</td>\n",
       "      <td>...</td>\n",
       "      <td>[{\"Id\": \"LogTags-dizzy\", \"Name\": \"Dizzy\", \"Active\": true, \"Category\": \"Negative\", \"DisplayLabel\": \"Dizzy\"}, {\"Id\": \"LogTags-dry-eyes\", \"Name\": \"Dry Eyes\", \"Active\": true, \"Category\": \"Negative\", \"...</td>\n",
       "      <td>[{\"Id\": \"LogTags-sweet\", \"Name\": \"Sweet\", \"Active\": true, \"Category\": \"Flavor\", \"DisplayLabel\": \"Sweet\"}, {\"Id\": \"LogTags-berry\", \"Name\": \"Berry\", \"Active\": true, \"Category\": \"Flavor\", \"DisplayLab...</td>\n",
       "      <td>[{\"Id\": \"LogTags-depression\", \"Name\": \"Depression\", \"Active\": true, \"Category\": \"Symptom\", \"DisplayLabel\": \"Depression\"}, {\"Id\": \"LogTags-insomnia\", \"Name\": \"Insomnia\", \"Active\": true, \"Category\":...</td>\n",
       "      <td>[{\"Id\": \"LogTags-addadhd\", \"Name\": \"ADD/ADHD\", \"Active\": true, \"Category\": \"Condition\", \"DisplayLabel\": \"ADD/ADHD\"}, {\"Id\": \"LogTags-anxiety\", \"Name\": \"Anxiety\", \"Active\": true, \"Category\": \"Condi...</td>\n",
       "      <td>{\"berry-burst\": 13.323500491642084, \"diesel-fuel\": 17.593411996066862, \"manage-pain\": 12.146017699115049, \"citrus-squeeze\": 0.0, \"overcome-anxiety\": -56.666666666666686, \"good-nights-sleep\": 150.9...</td>\n",
       "      <td>https://mobileapi.leafly.com/indica/3x-crazy</td>\n",
       "      <td>3X Crazy</td>\n",
       "      <td>{euphoric,happy,relaxed,sleepy,tingly,dizzy,dry-eyes,dry-mouth,paranoid,anxious,addadhd,anxiety,fibromyalgia,migraines,ptsd,depression,insomnia,lack-of-appetite,pain,stress,sweet,berry,lavender,ea...</td>\n",
       "      <td>2019-10-10 03:54:37+00</td>\n",
       "      <td>0.000000</td>\n",
       "    </tr>\n",
       "  </tbody>\n",
       "</table>\n",
       "<p>5 rows × 37 columns</p>\n",
       "</div>"
      ],
      "text/plain": [
       "   review_id             username  \\\n",
       "0    1264200        hardknoxxlif3   \n",
       "1    2200248  BrazilianRedneck870   \n",
       "2    1261599              dubabud   \n",
       "3    2185133        Blazedmexican   \n",
       "4    2165833          fraser_patz   \n",
       "\n",
       "                                                                                                                                                                                                      text  \\\n",
       "0                                                                                                                                                                                 fire get it why it's hot   \n",
       "1                                                                                                                                Extremely relaxing. Good head space. Does well to remove stress and pain.   \n",
       "2                                                                                                                                I really like the taste of this strain, great for morning and afternoon.    \n",
       "3  Great flavor takes me back to when I first smoked weed. Just the aroma and flavor of the weed is just so nostalgic. Recommend it to every who wants to smoke for the first time/smoke for the first ...   \n",
       "4                                                                                                                                                     This 1 is dankkk\\nMy favourite strain at the moment!   \n",
       "\n",
       "             review_added  rating  \\\n",
       "0  2016-04-23 03:36:25+00       5   \n",
       "1  2019-10-27 17:20:30+00       4   \n",
       "2  2016-04-21 20:42:57+00       5   \n",
       "3  2019-10-11 19:30:43+00       5   \n",
       "4  2019-09-24 21:50:19+00       5   \n",
       "\n",
       "                                          star_image location_slug  \\\n",
       "0  https://d3ix816x6wuc0d.cloudfront.net/stars/5/240           NaN   \n",
       "1  https://d3ix816x6wuc0d.cloudfront.net/stars/4/240           NaN   \n",
       "2  https://d3ix816x6wuc0d.cloudfront.net/stars/5/240           NaN   \n",
       "3  https://d3ix816x6wuc0d.cloudfront.net/stars/5/240           NaN   \n",
       "4  https://d3ix816x6wuc0d.cloudfront.net/stars/5/240           NaN   \n",
       "\n",
       "  location_name  \\\n",
       "0           NaN   \n",
       "1           NaN   \n",
       "2           NaN   \n",
       "3           NaN   \n",
       "4           NaN   \n",
       "\n",
       "                                                                                                                                 avatar  \\\n",
       "0   https://ddd33q3967xhi.cloudfront.net/_LwUSia9OLq1vh_A-_6Ux_-Ybj0=/fit-in/300x300/https%3a%2f%2fpublic.leafly.com%2favatars%2f70.png   \n",
       "1   https://ddd33q3967xhi.cloudfront.net/mB7zjHN07KpJA9EMeBhVV9a1An0=/fit-in/300x300/https%3a%2f%2fpublic.leafly.com%2favatars%2f16.png   \n",
       "2  https://ddd33q3967xhi.cloudfront.net/zL9jSVD3kxPJsOKmdrIVVcQ0X2E=/fit-in/300x300/https%3a%2f%2fpublic.leafly.com%2favatars%2f114.png   \n",
       "3  https://ddd33q3967xhi.cloudfront.net/38RRmfxAfGRd3QxlyCtWhCiOECk=/fit-in/300x300/https%3a%2f%2fpublic.leafly.com%2favatars%2f118.png   \n",
       "4  https://ddd33q3967xhi.cloudfront.net/BZ1r09SF1xOMbVwxL2UsPiKbzWg=/fit-in/300x300/https%3a%2f%2fpublic.leafly.com%2favatars%2f142.png   \n",
       "\n",
       "                                   log_rating  ...  \\\n",
       "0  {\"score\": 1, \"upVotes\": 1, \"downVotes\": 0}  ...   \n",
       "1  {\"score\": 0, \"upVotes\": 0, \"downVotes\": 0}  ...   \n",
       "2  {\"score\": 0, \"upVotes\": 0, \"downVotes\": 0}  ...   \n",
       "3  {\"score\": 0, \"upVotes\": 0, \"downVotes\": 0}  ...   \n",
       "4  {\"score\": 0, \"upVotes\": 0, \"downVotes\": 0}  ...   \n",
       "\n",
       "                                                                                                                                                                                          negative_effects  \\\n",
       "0  [{\"Id\": \"LogTags-dizzy\", \"Name\": \"Dizzy\", \"Active\": true, \"Category\": \"Negative\", \"DisplayLabel\": \"Dizzy\"}, {\"Id\": \"LogTags-dry-eyes\", \"Name\": \"Dry Eyes\", \"Active\": true, \"Category\": \"Negative\", \"...   \n",
       "1  [{\"Id\": \"LogTags-dizzy\", \"Name\": \"Dizzy\", \"Active\": true, \"Category\": \"Negative\", \"DisplayLabel\": \"Dizzy\"}, {\"Id\": \"LogTags-dry-eyes\", \"Name\": \"Dry Eyes\", \"Active\": true, \"Category\": \"Negative\", \"...   \n",
       "2  [{\"Id\": \"LogTags-dizzy\", \"Name\": \"Dizzy\", \"Active\": true, \"Category\": \"Negative\", \"DisplayLabel\": \"Dizzy\"}, {\"Id\": \"LogTags-dry-eyes\", \"Name\": \"Dry Eyes\", \"Active\": true, \"Category\": \"Negative\", \"...   \n",
       "3  [{\"Id\": \"LogTags-dizzy\", \"Name\": \"Dizzy\", \"Active\": true, \"Category\": \"Negative\", \"DisplayLabel\": \"Dizzy\"}, {\"Id\": \"LogTags-dry-eyes\", \"Name\": \"Dry Eyes\", \"Active\": true, \"Category\": \"Negative\", \"...   \n",
       "4  [{\"Id\": \"LogTags-dizzy\", \"Name\": \"Dizzy\", \"Active\": true, \"Category\": \"Negative\", \"DisplayLabel\": \"Dizzy\"}, {\"Id\": \"LogTags-dry-eyes\", \"Name\": \"Dry Eyes\", \"Active\": true, \"Category\": \"Negative\", \"...   \n",
       "\n",
       "                                                                                                                                                                                                   flavors  \\\n",
       "0  [{\"Id\": \"LogTags-sweet\", \"Name\": \"Sweet\", \"Active\": true, \"Category\": \"Flavor\", \"DisplayLabel\": \"Sweet\"}, {\"Id\": \"LogTags-citrus\", \"Name\": \"Citrus\", \"Active\": true, \"Category\": \"Flavor\", \"DisplayL...   \n",
       "1  [{\"Id\": \"LogTags-sweet\", \"Name\": \"Sweet\", \"Active\": true, \"Category\": \"Flavor\", \"DisplayLabel\": \"Sweet\"}, {\"Id\": \"LogTags-berry\", \"Name\": \"Berry\", \"Active\": true, \"Category\": \"Flavor\", \"DisplayLab...   \n",
       "2  [{\"Id\": \"LogTags-sweet\", \"Name\": \"Sweet\", \"Active\": true, \"Category\": \"Flavor\", \"DisplayLabel\": \"Sweet\"}, {\"Id\": \"LogTags-citrus\", \"Name\": \"Citrus\", \"Active\": true, \"Category\": \"Flavor\", \"DisplayL...   \n",
       "3  [{\"Id\": \"LogTags-sweet\", \"Name\": \"Sweet\", \"Active\": true, \"Category\": \"Flavor\", \"DisplayLabel\": \"Sweet\"}, {\"Id\": \"LogTags-berry\", \"Name\": \"Berry\", \"Active\": true, \"Category\": \"Flavor\", \"DisplayLab...   \n",
       "4  [{\"Id\": \"LogTags-sweet\", \"Name\": \"Sweet\", \"Active\": true, \"Category\": \"Flavor\", \"DisplayLabel\": \"Sweet\"}, {\"Id\": \"LogTags-berry\", \"Name\": \"Berry\", \"Active\": true, \"Category\": \"Flavor\", \"DisplayLab...   \n",
       "\n",
       "                                                                                                                                                                                                  symptoms  \\\n",
       "0  [{\"Id\": \"LogTags-depression\", \"Name\": \"Depression\", \"Active\": true, \"Category\": \"Symptom\", \"DisplayLabel\": \"Depression\"}, {\"Id\": \"LogTags-inflammation\", \"Name\": \"Inflammation\", \"Active\": true, \"Ca...   \n",
       "1  [{\"Id\": \"LogTags-depression\", \"Name\": \"Depression\", \"Active\": true, \"Category\": \"Symptom\", \"DisplayLabel\": \"Depression\"}, {\"Id\": \"LogTags-insomnia\", \"Name\": \"Insomnia\", \"Active\": true, \"Category\":...   \n",
       "2  [{\"Id\": \"LogTags-depression\", \"Name\": \"Depression\", \"Active\": true, \"Category\": \"Symptom\", \"DisplayLabel\": \"Depression\"}, {\"Id\": \"LogTags-inflammation\", \"Name\": \"Inflammation\", \"Active\": true, \"Ca...   \n",
       "3  [{\"Id\": \"LogTags-depression\", \"Name\": \"Depression\", \"Active\": true, \"Category\": \"Symptom\", \"DisplayLabel\": \"Depression\"}, {\"Id\": \"LogTags-insomnia\", \"Name\": \"Insomnia\", \"Active\": true, \"Category\":...   \n",
       "4  [{\"Id\": \"LogTags-depression\", \"Name\": \"Depression\", \"Active\": true, \"Category\": \"Symptom\", \"DisplayLabel\": \"Depression\"}, {\"Id\": \"LogTags-insomnia\", \"Name\": \"Insomnia\", \"Active\": true, \"Category\":...   \n",
       "\n",
       "                                                                                                                                                                                                conditions  \\\n",
       "0  [{\"Id\": \"LogTags-addadhd\", \"Name\": \"ADD/ADHD\", \"Active\": true, \"Category\": \"Condition\", \"DisplayLabel\": \"ADD/ADHD\"}, {\"Id\": \"LogTags-anxiety\", \"Name\": \"Anxiety\", \"Active\": true, \"Category\": \"Condi...   \n",
       "1  [{\"Id\": \"LogTags-addadhd\", \"Name\": \"ADD/ADHD\", \"Active\": true, \"Category\": \"Condition\", \"DisplayLabel\": \"ADD/ADHD\"}, {\"Id\": \"LogTags-anxiety\", \"Name\": \"Anxiety\", \"Active\": true, \"Category\": \"Condi...   \n",
       "2  [{\"Id\": \"LogTags-addadhd\", \"Name\": \"ADD/ADHD\", \"Active\": true, \"Category\": \"Condition\", \"DisplayLabel\": \"ADD/ADHD\"}, {\"Id\": \"LogTags-anxiety\", \"Name\": \"Anxiety\", \"Active\": true, \"Category\": \"Condi...   \n",
       "3  [{\"Id\": \"LogTags-addadhd\", \"Name\": \"ADD/ADHD\", \"Active\": true, \"Category\": \"Condition\", \"DisplayLabel\": \"ADD/ADHD\"}, {\"Id\": \"LogTags-anxiety\", \"Name\": \"Anxiety\", \"Active\": true, \"Category\": \"Condi...   \n",
       "4  [{\"Id\": \"LogTags-addadhd\", \"Name\": \"ADD/ADHD\", \"Active\": true, \"Category\": \"Condition\", \"DisplayLabel\": \"ADD/ADHD\"}, {\"Id\": \"LogTags-anxiety\", \"Name\": \"Anxiety\", \"Active\": true, \"Category\": \"Condi...   \n",
       "\n",
       "                                                                                                                                                                                 kiosk_curated_list_scores  \\\n",
       "0  {\"berry-burst\": 0.0, \"diesel-fuel\": 15.605824907095325, \"manage-pain\": 25.035919540229884, \"citrus-squeeze\": 14.054532883933973, \"overcome-anxiety\": 104.58905885403161, \"good-nights-sleep\": 50.855...   \n",
       "1  {\"berry-burst\": 13.323500491642084, \"diesel-fuel\": 17.593411996066862, \"manage-pain\": 12.146017699115049, \"citrus-squeeze\": 0.0, \"overcome-anxiety\": -56.666666666666686, \"good-nights-sleep\": 150.9...   \n",
       "2  {\"berry-burst\": 0.0, \"diesel-fuel\": 15.605824907095325, \"manage-pain\": 25.035919540229884, \"citrus-squeeze\": 14.054532883933973, \"overcome-anxiety\": 104.58905885403161, \"good-nights-sleep\": 50.855...   \n",
       "3  {\"berry-burst\": 13.323500491642084, \"diesel-fuel\": 17.593411996066862, \"manage-pain\": 12.146017699115049, \"citrus-squeeze\": 0.0, \"overcome-anxiety\": -56.666666666666686, \"good-nights-sleep\": 150.9...   \n",
       "4  {\"berry-burst\": 13.323500491642084, \"diesel-fuel\": 17.593411996066862, \"manage-pain\": 12.146017699115049, \"citrus-squeeze\": 0.0, \"overcome-anxiety\": -56.666666666666686, \"good-nights-sleep\": 150.9...   \n",
       "\n",
       "                                          permalink     sort_name  \\\n",
       "0  https://mobileapi.leafly.com/hybrid/707-headband  707 Headband   \n",
       "1      https://mobileapi.leafly.com/indica/3x-crazy      3X Crazy   \n",
       "2  https://mobileapi.leafly.com/hybrid/707-headband  707 Headband   \n",
       "3      https://mobileapi.leafly.com/indica/3x-crazy      3X Crazy   \n",
       "4      https://mobileapi.leafly.com/indica/3x-crazy      3X Crazy   \n",
       "\n",
       "                                                                                                                                                                                                  log_tags  \\\n",
       "0  {creative,euphoric,happy,relaxed,uplifted,dizzy,dry-eyes,dry-mouth,paranoid,anxious,addadhd,anxiety,migraines,pms,ptsd,depression,inflammation,muscle-spasms,pain,stress,sweet,citrus,earthy,pungent...   \n",
       "1  {euphoric,happy,relaxed,sleepy,tingly,dizzy,dry-eyes,dry-mouth,paranoid,anxious,addadhd,anxiety,fibromyalgia,migraines,ptsd,depression,insomnia,lack-of-appetite,pain,stress,sweet,berry,lavender,ea...   \n",
       "2  {creative,euphoric,happy,relaxed,uplifted,dizzy,dry-eyes,dry-mouth,paranoid,anxious,addadhd,anxiety,migraines,pms,ptsd,depression,inflammation,muscle-spasms,pain,stress,sweet,citrus,earthy,pungent...   \n",
       "3  {euphoric,happy,relaxed,sleepy,tingly,dizzy,dry-eyes,dry-mouth,paranoid,anxious,addadhd,anxiety,fibromyalgia,migraines,ptsd,depression,insomnia,lack-of-appetite,pain,stress,sweet,berry,lavender,ea...   \n",
       "4  {euphoric,happy,relaxed,sleepy,tingly,dizzy,dry-eyes,dry-mouth,paranoid,anxious,addadhd,anxiety,fibromyalgia,migraines,ptsd,depression,insomnia,lack-of-appetite,pain,stress,sweet,berry,lavender,ea...   \n",
       "\n",
       "             created_at.1  polarity  \n",
       "0  2019-10-10 03:54:37+00  0.250000  \n",
       "1  2019-10-10 03:54:37+00  0.287500  \n",
       "2  2019-10-10 03:54:37+00  0.500000  \n",
       "3  2019-10-10 03:54:37+00  0.243077  \n",
       "4  2019-10-10 03:54:37+00  0.000000  \n",
       "\n",
       "[5 rows x 37 columns]"
      ]
     },
     "execution_count": 8,
     "metadata": {},
     "output_type": "execute_result"
    }
   ],
   "source": [
    "df['text']=df['text'].astype(str)\n",
    "def detect_polarity(text):\n",
    "    return TextBlob(text).sentiment.polarity\n",
    "df['polarity'] = df['text'].apply(detect_polarity)\n",
    "df.head()"
   ]
  },
  {
   "cell_type": "code",
   "execution_count": 41,
   "metadata": {},
   "outputs": [
    {
     "data": {
      "image/png": "[encoded data removed]",
      "text/plain": [
       "<Figure size 720x432 with 1 Axes>"
      ]
     },
     "metadata": {
      "needs_background": "light"
     },
     "output_type": "display_data"
    }
   ],
   "source": [
    "# A histogram of the polarity scores.\n",
    "num_bins = 50\n",
    "plt.figure(figsize=(10,6))\n",
    "n, bins, patches = plt.hist(df['polarity'], num_bins, facecolor='blue', alpha=0.5)\n",
    "plt.xlabel('Polarity')\n",
    "plt.ylabel('Count')\n",
    "plt.title('Histogram of polarity')\n",
    "plt.show();"
   ]
  },
  {
   "cell_type": "code",
   "execution_count": 43,
   "metadata": {},
   "outputs": [
    {
     "data": {
      "image/png": "[encoded data removed]",
      "text/plain": [
       "<Figure size 720x432 with 1 Axes>"
      ]
     },
     "metadata": {
      "needs_background": "light"
     },
     "output_type": "display_data"
    }
   ],
   "source": [
    "# Box plot of sentiment grouped by stars\n",
    "plt.figure(figsize=(10,6))\n",
    "sns.boxenplot(x='rating', y='polarity', data=df)\n",
    "plt.show();"
   ]
  },
  {
   "cell_type": "code",
   "execution_count": null,
   "metadata": {},
   "outputs": [],
   "source": []
  },
  {
   "cell_type": "code",
   "execution_count": null,
   "metadata": {},
   "outputs": [],
   "source": [
    "search=['pain','headache']\n",
    "for i in search"
   ]
  },
  {
   "cell_type": "code",
   "execution_count": 9,
   "metadata": {},
   "outputs": [],
   "source": [
    "df['pain']=df['text'].apply(lambda x: 1 if 'pain' in str(x) else 0)"
   ]
  },
  {
   "cell_type": "code",
   "execution_count": 10,
   "metadata": {},
   "outputs": [
    {
     "ename": "KeyError",
     "evalue": "\"['year', 'month'] not in index\"",
     "output_type": "error",
     "traceback": [
      "\u001b[0;31m---------------------------------------------------------------------------\u001b[0m",
      "\u001b[0;31mKeyError\u001b[0m                                  Traceback (most recent call last)",
      "\u001b[0;32m<ipython-input-10-c0bf94df1e7d>\u001b[0m in \u001b[0;36m<module>\u001b[0;34m\u001b[0m\n\u001b[0;32m----> 1\u001b[0;31m \u001b[0mdf1\u001b[0m \u001b[0;34m=\u001b[0m \u001b[0mdf\u001b[0m\u001b[0;34m[\u001b[0m\u001b[0;34m[\u001b[0m\u001b[0;34m'review_id'\u001b[0m\u001b[0;34m,\u001b[0m\u001b[0;34m'text'\u001b[0m\u001b[0;34m,\u001b[0m \u001b[0;34m'rating'\u001b[0m\u001b[0;34m,\u001b[0m\u001b[0;34m'strain_id'\u001b[0m\u001b[0;34m,\u001b[0m \u001b[0;34m'year'\u001b[0m\u001b[0;34m,\u001b[0m\u001b[0;34m'month'\u001b[0m\u001b[0;34m,\u001b[0m \u001b[0;34m'name'\u001b[0m\u001b[0;34m,\u001b[0m \u001b[0;34m'location_name'\u001b[0m\u001b[0;34m,\u001b[0m\u001b[0;34m'pain'\u001b[0m\u001b[0;34m,\u001b[0m\u001b[0;34m'polarity'\u001b[0m\u001b[0;34m]\u001b[0m\u001b[0;34m]\u001b[0m\u001b[0;34m\u001b[0m\u001b[0;34m\u001b[0m\u001b[0m\n\u001b[0m\u001b[1;32m      2\u001b[0m \u001b[0mdf1\u001b[0m\u001b[0;34m.\u001b[0m\u001b[0mhead\u001b[0m\u001b[0;34m(\u001b[0m\u001b[0;34m)\u001b[0m\u001b[0;34m\u001b[0m\u001b[0;34m\u001b[0m\u001b[0m\n",
      "\u001b[0;32m/anaconda3/lib/python3.7/site-packages/pandas/core/frame.py\u001b[0m in \u001b[0;36m__getitem__\u001b[0;34m(self, key)\u001b[0m\n\u001b[1;32m   2932\u001b[0m                 \u001b[0mkey\u001b[0m \u001b[0;34m=\u001b[0m \u001b[0mlist\u001b[0m\u001b[0;34m(\u001b[0m\u001b[0mkey\u001b[0m\u001b[0;34m)\u001b[0m\u001b[0;34m\u001b[0m\u001b[0;34m\u001b[0m\u001b[0m\n\u001b[1;32m   2933\u001b[0m             indexer = self.loc._convert_to_indexer(key, axis=1,\n\u001b[0;32m-> 2934\u001b[0;31m                                                    raise_missing=True)\n\u001b[0m\u001b[1;32m   2935\u001b[0m \u001b[0;34m\u001b[0m\u001b[0m\n\u001b[1;32m   2936\u001b[0m         \u001b[0;31m# take() does not accept boolean indexers\u001b[0m\u001b[0;34m\u001b[0m\u001b[0;34m\u001b[0m\u001b[0;34m\u001b[0m\u001b[0m\n",
      "\u001b[0;32m/anaconda3/lib/python3.7/site-packages/pandas/core/indexing.py\u001b[0m in \u001b[0;36m_convert_to_indexer\u001b[0;34m(self, obj, axis, is_setter, raise_missing)\u001b[0m\n\u001b[1;32m   1352\u001b[0m                 kwargs = {'raise_missing': True if is_setter else\n\u001b[1;32m   1353\u001b[0m                           raise_missing}\n\u001b[0;32m-> 1354\u001b[0;31m                 \u001b[0;32mreturn\u001b[0m \u001b[0mself\u001b[0m\u001b[0;34m.\u001b[0m\u001b[0m_get_listlike_indexer\u001b[0m\u001b[0;34m(\u001b[0m\u001b[0mobj\u001b[0m\u001b[0;34m,\u001b[0m \u001b[0maxis\u001b[0m\u001b[0;34m,\u001b[0m \u001b[0;34m**\u001b[0m\u001b[0mkwargs\u001b[0m\u001b[0;34m)\u001b[0m\u001b[0;34m[\u001b[0m\u001b[0;36m1\u001b[0m\u001b[0;34m]\u001b[0m\u001b[0;34m\u001b[0m\u001b[0;34m\u001b[0m\u001b[0m\n\u001b[0m\u001b[1;32m   1355\u001b[0m         \u001b[0;32melse\u001b[0m\u001b[0;34m:\u001b[0m\u001b[0;34m\u001b[0m\u001b[0;34m\u001b[0m\u001b[0m\n\u001b[1;32m   1356\u001b[0m             \u001b[0;32mtry\u001b[0m\u001b[0;34m:\u001b[0m\u001b[0;34m\u001b[0m\u001b[0;34m\u001b[0m\u001b[0m\n",
      "\u001b[0;32m/anaconda3/lib/python3.7/site-packages/pandas/core/indexing.py\u001b[0m in \u001b[0;36m_get_listlike_indexer\u001b[0;34m(self, key, axis, raise_missing)\u001b[0m\n\u001b[1;32m   1159\u001b[0m         self._validate_read_indexer(keyarr, indexer,\n\u001b[1;32m   1160\u001b[0m                                     \u001b[0mo\u001b[0m\u001b[0;34m.\u001b[0m\u001b[0m_get_axis_number\u001b[0m\u001b[0;34m(\u001b[0m\u001b[0maxis\u001b[0m\u001b[0;34m)\u001b[0m\u001b[0;34m,\u001b[0m\u001b[0;34m\u001b[0m\u001b[0;34m\u001b[0m\u001b[0m\n\u001b[0;32m-> 1161\u001b[0;31m                                     raise_missing=raise_missing)\n\u001b[0m\u001b[1;32m   1162\u001b[0m         \u001b[0;32mreturn\u001b[0m \u001b[0mkeyarr\u001b[0m\u001b[0;34m,\u001b[0m \u001b[0mindexer\u001b[0m\u001b[0;34m\u001b[0m\u001b[0;34m\u001b[0m\u001b[0m\n\u001b[1;32m   1163\u001b[0m \u001b[0;34m\u001b[0m\u001b[0m\n",
      "\u001b[0;32m/anaconda3/lib/python3.7/site-packages/pandas/core/indexing.py\u001b[0m in \u001b[0;36m_validate_read_indexer\u001b[0;34m(self, key, indexer, axis, raise_missing)\u001b[0m\n\u001b[1;32m   1250\u001b[0m             \u001b[0;32mif\u001b[0m \u001b[0;32mnot\u001b[0m\u001b[0;34m(\u001b[0m\u001b[0mself\u001b[0m\u001b[0;34m.\u001b[0m\u001b[0mname\u001b[0m \u001b[0;34m==\u001b[0m \u001b[0;34m'loc'\u001b[0m \u001b[0;32mand\u001b[0m \u001b[0;32mnot\u001b[0m \u001b[0mraise_missing\u001b[0m\u001b[0;34m)\u001b[0m\u001b[0;34m:\u001b[0m\u001b[0;34m\u001b[0m\u001b[0;34m\u001b[0m\u001b[0m\n\u001b[1;32m   1251\u001b[0m                 \u001b[0mnot_found\u001b[0m \u001b[0;34m=\u001b[0m \u001b[0mlist\u001b[0m\u001b[0;34m(\u001b[0m\u001b[0mset\u001b[0m\u001b[0;34m(\u001b[0m\u001b[0mkey\u001b[0m\u001b[0;34m)\u001b[0m \u001b[0;34m-\u001b[0m \u001b[0mset\u001b[0m\u001b[0;34m(\u001b[0m\u001b[0max\u001b[0m\u001b[0;34m)\u001b[0m\u001b[0;34m)\u001b[0m\u001b[0;34m\u001b[0m\u001b[0;34m\u001b[0m\u001b[0m\n\u001b[0;32m-> 1252\u001b[0;31m                 \u001b[0;32mraise\u001b[0m \u001b[0mKeyError\u001b[0m\u001b[0;34m(\u001b[0m\u001b[0;34m\"{} not in index\"\u001b[0m\u001b[0;34m.\u001b[0m\u001b[0mformat\u001b[0m\u001b[0;34m(\u001b[0m\u001b[0mnot_found\u001b[0m\u001b[0;34m)\u001b[0m\u001b[0;34m)\u001b[0m\u001b[0;34m\u001b[0m\u001b[0;34m\u001b[0m\u001b[0m\n\u001b[0m\u001b[1;32m   1253\u001b[0m \u001b[0;34m\u001b[0m\u001b[0m\n\u001b[1;32m   1254\u001b[0m             \u001b[0;31m# we skip the warning on Categorical/Interval\u001b[0m\u001b[0;34m\u001b[0m\u001b[0;34m\u001b[0m\u001b[0;34m\u001b[0m\u001b[0m\n",
      "\u001b[0;31mKeyError\u001b[0m: \"['year', 'month'] not in index\""
     ]
    }
   ],
   "source": [
    "df1 = df[['review_id','text', 'rating','strain_id', 'year','month', 'name', 'location_name','pain','polarity']]\n",
    "df1.head()"
   ]
  },
  {
   "cell_type": "code",
   "execution_count": 58,
   "metadata": {},
   "outputs": [],
   "source": [
    "np.savetxt(\"df1.csv\", df1, delimiter=\",\",fmt='%s', header=True)"
   ]
  },
  {
   "cell_type": "code",
   "execution_count": 61,
   "metadata": {},
   "outputs": [],
   "source": [
    "df1.to_csv('mvp1.csv', header=True)"
   ]
  },
  {
   "cell_type": "code",
   "execution_count": 54,
   "metadata": {},
   "outputs": [
    {
     "data": {
      "text/plain": [
       "2349"
      ]
     },
     "execution_count": 54,
     "metadata": {},
     "output_type": "execute_result"
    }
   ],
   "source": [
    "len(df['location_name'].unique())"
   ]
  },
  {
   "cell_type": "code",
   "execution_count": 57,
   "metadata": {},
   "outputs": [
    {
     "data": {
      "text/plain": [
       "array(['The Clinic Effingham', 'Silver State Relief', 'Acres Cannabis',\n",
       "       'Ann Arbor Health Patient Collective',\n",
       "       'HCI Alternatives - Collinsville', 'The Gallery - Spanaway',\n",
       "       'The Green Solution - Normal', '112th St. Cannabis',\n",
       "       'The Partakery', 'EarthMed - Addison',\n",
       "       \"CBCB (Cannabis Buyers' Club of Berkeley)\",\n",
       "       'Kush21 - SeaTac Airport', 'Oregrown - Bend, Oregon',\n",
       "       'Canna Culture Collective', 'The Green Planet - Beaverton',\n",
       "       'Green Solutions Sacramento', 'Harborside - Oakland',\n",
       "       'Salveo Health & Wellness',\n",
       "       'TerraVida Holistic Centers - Abington',\n",
       "       'TerraVida Holistic Centers - Malvern',\n",
       "       'Cure Pennsylvania - Lancaster', 'BEYOND / HELLO - Bristol',\n",
       "       '3C Compassionate Care Center Naperville', 'Preserve Oregon',\n",
       "       'BEYOND / HELLO - Center City Philadelphia',\n",
       "       'Herbology - Gettysburg', 'Herbology - DuBois', 'The Dispensary',\n",
       "       'RISE York', 'The Healing Center - Washington',\n",
       "       'Midway Dispensary', \"Nature's Medicines - State College\",\n",
       "       'RISE Erie', 'Keystone Shops - King of Prussia',\n",
       "       'Mission Allentown', 'WAM (Wickenburg Alternative Medicine)',\n",
       "       'Trinity Compassionate Care Centers', 'Airfield Supply Co.',\n",
       "       'The Mint Dispensary - Tempe', 'MedMar Rockford',\n",
       "       'Reef Dispensaries - North Las Vegas',\n",
       "       'Greenleaf Compassionate Care Center, Inc.', 'Green2Go',\n",
       "       'Dispensary 33 Chicago', \"Buddha's Wellness Center\",\n",
       "       'Fireside Dispensary', 'Kaleafa Cannabis Co. - Oak Harbor',\n",
       "       \"Maggie's Farm in Manitou Springs\",\n",
       "       'Rogue River Herbal Pain Management Center', 'Chronic Therapy',\n",
       "       'Pueblo West Organics - Recreational', 'Track Town Collective',\n",
       "       'Arizona Natural Selections of Mesa', 'Sespe Creek Collective',\n",
       "       'Oakland Organics', 'Collective Awakenings',\n",
       "       'Emerald City Wellness', 'Trulieve - Edgewater',\n",
       "       'Trulieve - Gainesville', 'Greenhouse Mokena',\n",
       "       'Trulieve - Jacksonville', 'Trulieve - Bonita Springs',\n",
       "       'Trulieve - Ft. Lauderdale',\n",
       "       'The Evergreen Market - Kirkland - Now Open!',\n",
       "       'Trulieve - Orlando', 'Trulieve - Clearwater',\n",
       "       'Trulieve - St. Augustine', 'Trulieve - Bradenton',\n",
       "       'Trulieve - Pensacola', 'Trulieve - Orlando South',\n",
       "       'Trulieve - Miami', 'Trulieve - Tallahassee',\n",
       "       'Trulieve - New Port Richey', 'Have a Heart - Ocean Shores',\n",
       "       'Trulieve - Tampa', \"Earth's Healing South\", 'Lotus Medical',\n",
       "       'Trulieve - Sarasota', 'Trulieve - West Palm Beach',\n",
       "       'Trulieve - Boynton Beach', 'American Mary - Seattle',\n",
       "       'Trulieve - Deerfield Beach', 'Trulieve - Dadeland',\n",
       "       'Trulieve - North Fort Myers',\n",
       "       'Thrive Cannabis Marketplace - North Las Vegas', 'Desert Rose',\n",
       "       'Cultivate Recreational', 'Origins - Redmond',\n",
       "       'Natural Alternatives', 'Portland Canna Connection',\n",
       "       'Chronic Solutions', 'One Love Wellness', 'Strange Leaf',\n",
       "       'Paradise Found', 'Nectar - Gresham', 'Seattle Cannabis Company',\n",
       "       'Trulieve - Vero Beach', 'T Brothers 502 Recreational',\n",
       "       'Going Green Grand Ronde', 'The Vth LMNT Hillsboro',\n",
       "       'Trulieve - St. Petersburg', 'MMMP Collective',\n",
       "       \"Floyd's Cannabis Co. - Pullman\", 'Depot Town Dispensary',\n",
       "       'Kaleafa Cannabis Co. - Oregon City', 'Nectar - Salem',\n",
       "       'Freedom Market Ilwaco - Recreational',\n",
       "       'Cannabis and Glass - Spokane Valley', 'Plantae Bend',\n",
       "       \"Floyd's Fine Cannabis on Broadway\", 'High Quality',\n",
       "       'Holistic Health Wayne', 'Michigan Compassion Center',\n",
       "       'GoodBuds - Quincy', 'Clear Choice Cannabis', \"Oregon's Finest\",\n",
       "       'Nectar - Lents', 'Green Oasis NE', 'Essence Vegas - West',\n",
       "       'Healing Tree Wellness Center', \"Maggie's Farm Pueblo West\",\n",
       "       'Origins - West Seattle', 'Herbs House',\n",
       "       'A Greener Today - Lynnwood', 'The Apothecarium - Las Vegas',\n",
       "       'Spokane Green Leaf', 'The Green Room - Oak Harbor',\n",
       "       'Health for Life McDowell', 'Seattle Tonics',\n",
       "       'West Salem Cannabis', 'Urban Greenhouse',\n",
       "       \"Cathy's Compassion Center\", 'Going Green Albany',\n",
       "       'Curaleaf - Glendale', 'World of Weed - Tacoma',\n",
       "       'Green Cross Cannabis Emporium - South', 'Bud Hut - Everett',\n",
       "       'Botanica', 'Bloom Room', 'Local Roots Marijuana - Lynnwood',\n",
       "       \"Nature's Wonder Dispensary - Apache Junction\",\n",
       "       \"Cathy's Compassion Center - Delivery\",\n",
       "       'Top Shelf Wellness Center Southern Oregon', 'Edgewood Wellness',\n",
       "       'Attis Trading - 2606 SE Gladstone', 'The Source - Las Vegas',\n",
       "       'Nectar - Sandy', \"Nature's Medicines - Phoenix\",\n",
       "       'The Evergreen Market - North Renton', 'Las Vegas ReLeaf',\n",
       "       'Top Shelf Express Delivery', 'Attis Trading - 7737 SW Barbur',\n",
       "       'TREE PDX', 'The West Seattle Marijuana Store', 'AmericannaRx',\n",
       "       'Green-Way', 'Pipe Dreams Dispensary - Lincoln City',\n",
       "       'Greenway Marijuana', \"Uncle Ike's - Central District\",\n",
       "       'Mount Shasta Patients Collective', 'Elemental Wellness',\n",
       "       'The Novel Tree - Bellevue', 'The Prime Leaf',\n",
       "       'Local Product of Colorado', 'Green Lady Marijuana - West Olympia',\n",
       "       'Reef Dispensaries - Las Vegas',\n",
       "       'The Weed Shack - Hoquiam, Ocean Shores', 'Mister Buds',\n",
       "       'Planet 13', 'SWC Tempe', \"Today's Herbal Choice - Fremont\",\n",
       "       'Route 66 Dispensary', 'Sweet Flower - Studio City',\n",
       "       'Mr. Nice Guy - Eugene - 7th Ave', 'Herban Legends of Towson',\n",
       "       'Smuggler Brothers - Recreational', 'The Gallery - Tacoma',\n",
       "       'Peake ReLeaf - Maryland', 'KushMart - South Everett',\n",
       "       'Destination Hwy 420', 'Southern Maryland Relief',\n",
       "       'Green Fire Cannabis - Seattle', 'Satori - Pullman',\n",
       "       'Green Pharms Dispensary Mesa', 'Sierra Well - Carson City',\n",
       "       'Southwest Organic Producers (SWOP)', 'Bloom Tucson',\n",
       "       'Lux Pot Shop - Ballard', 'Blum - Reno', 'High Society',\n",
       "       'Hashtag Cannabis - Fremont', 'The Grove - Las Vegas',\n",
       "       'The Herbery  - St. Johns', 'Harvest HOC - Tempe',\n",
       "       'High End Market Place', 'Euphorium in Covington',\n",
       "       'La Mota Roseburg', 'Exhale - Flamingo', 'Brothers Cannabis'],\n",
       "      dtype=object)"
      ]
     },
     "execution_count": 57,
     "metadata": {},
     "output_type": "execute_result"
    }
   ],
   "source": [
    "df['location_name'].unique()[1:200]"
   ]
  },
  {
   "cell_type": "code",
   "execution_count": null,
   "metadata": {},
   "outputs": [],
   "source": []
  },
  {
   "cell_type": "code",
   "execution_count": null,
   "metadata": {},
   "outputs": [],
   "source": []
  },
  {
   "cell_type": "code",
   "execution_count": null,
   "metadata": {},
   "outputs": [],
   "source": []
  },
  {
   "cell_type": "code",
   "execution_count": null,
   "metadata": {},
   "outputs": [],
   "source": []
  },
  {
   "cell_type": "code",
   "execution_count": null,
   "metadata": {},
   "outputs": [],
   "source": []
  },
  {
   "cell_type": "code",
   "execution_count": null,
   "metadata": {},
   "outputs": [],
   "source": []
  },
  {
   "cell_type": "code",
   "execution_count": null,
   "metadata": {},
   "outputs": [],
   "source": []
  },
  {
   "cell_type": "code",
   "execution_count": 24,
   "metadata": {},
   "outputs": [],
   "source": []
  },
  {
   "cell_type": "code",
   "execution_count": 26,
   "metadata": {},
   "outputs": [
    {
     "data": {
      "text/plain": [
       "1    2019\n",
       "2    2016\n",
       "3    2019\n",
       "4    2019\n",
       "5    2019\n",
       "Name: year, dtype: int64"
      ]
     },
     "execution_count": 26,
     "metadata": {},
     "output_type": "execute_result"
    }
   ],
   "source": [
    "df[\"Date\"]= pd.to_datetime(df[\"review_added\"]) \n",
    "df['year'] = df[\"Date\"].dt.year\n",
    "df['year'][1:6]"
   ]
  },
  {
   "cell_type": "code",
   "execution_count": 28,
   "metadata": {},
   "outputs": [
    {
     "data": {
      "text/plain": [
       "1    10\n",
       "2     4\n",
       "3    10\n",
       "4     9\n",
       "5     9\n",
       "Name: month, dtype: int64"
      ]
     },
     "execution_count": 28,
     "metadata": {},
     "output_type": "execute_result"
    }
   ],
   "source": [
    "df['month'] = df[\"Date\"].dt.month\n",
    "df['month'][1:6]"
   ]
  },
  {
   "cell_type": "code",
   "execution_count": null,
   "metadata": {},
   "outputs": [],
   "source": [
    "dfPain=df1['pain'==1]"
   ]
  },
  {
   "cell_type": "code",
   "execution_count": null,
   "metadata": {},
   "outputs": [],
   "source": [
    "dfPain['text'][1:20]"
   ]
  },
  {
   "cell_type": "code",
   "execution_count": null,
   "metadata": {},
   "outputs": [],
   "source": []
  },
  {
   "cell_type": "code",
   "execution_count": 9,
   "metadata": {},
   "outputs": [
    {
     "data": {
      "text/html": [
       "<div>\n",
       "<style scoped>\n",
       "    .dataframe tbody tr th:only-of-type {\n",
       "        vertical-align: middle;\n",
       "    }\n",
       "\n",
       "    .dataframe tbody tr th {\n",
       "        vertical-align: top;\n",
       "    }\n",
       "\n",
       "    .dataframe thead th {\n",
       "        text-align: right;\n",
       "    }\n",
       "</style>\n",
       "<table border=\"1\" class=\"dataframe\">\n",
       "  <thead>\n",
       "    <tr style=\"text-align: right;\">\n",
       "      <th></th>\n",
       "      <th>review_id</th>\n",
       "      <th>username</th>\n",
       "      <th>text</th>\n",
       "      <th>review_added</th>\n",
       "      <th>rating</th>\n",
       "      <th>star_image</th>\n",
       "      <th>location_slug</th>\n",
       "      <th>location_name</th>\n",
       "      <th>avatar</th>\n",
       "      <th>log_rating</th>\n",
       "      <th>...</th>\n",
       "      <th>tags</th>\n",
       "      <th>negative_effects</th>\n",
       "      <th>flavors</th>\n",
       "      <th>symptoms</th>\n",
       "      <th>conditions</th>\n",
       "      <th>kiosk_curated_list_scores</th>\n",
       "      <th>permalink</th>\n",
       "      <th>sort_name</th>\n",
       "      <th>log_tags</th>\n",
       "      <th>created_at.1</th>\n",
       "    </tr>\n",
       "  </thead>\n",
       "  <tbody>\n",
       "    <tr>\n",
       "      <th>0</th>\n",
       "      <td>1264200</td>\n",
       "      <td>hardknoxxlif3</td>\n",
       "      <td>fire get it why it's hot</td>\n",
       "      <td>2016-04-23 03:36:25+00</td>\n",
       "      <td>5</td>\n",
       "      <td>https://d3ix816x6wuc0d.cloudfront.net/stars/5/240</td>\n",
       "      <td>NaN</td>\n",
       "      <td>NaN</td>\n",
       "      <td>https://ddd33q3967xhi.cloudfront.net/_LwUSia9OLq1vh_A-_6Ux_-Ybj0=/fit-in/300x300/https%3a%2f%2fpublic.leafly.com%2favatars%2f70.png</td>\n",
       "      <td>{\"score\": 1, \"upVotes\": 1, \"downVotes\": 0}</td>\n",
       "      <td>...</td>\n",
       "      <td>[{\"Id\": \"LogTags-creative\", \"Name\": \"Creative\", \"Active\": true, \"Category\": \"Effect\", \"DisplayLabel\": \"Creative\"}, {\"Id\": \"LogTags-euphoric\", \"Name\": \"Euphoric\", \"Active\": true, \"Category\": \"Effec...</td>\n",
       "      <td>[{\"Id\": \"LogTags-dizzy\", \"Name\": \"Dizzy\", \"Active\": true, \"Category\": \"Negative\", \"DisplayLabel\": \"Dizzy\"}, {\"Id\": \"LogTags-dry-eyes\", \"Name\": \"Dry Eyes\", \"Active\": true, \"Category\": \"Negative\", \"...</td>\n",
       "      <td>[{\"Id\": \"LogTags-sweet\", \"Name\": \"Sweet\", \"Active\": true, \"Category\": \"Flavor\", \"DisplayLabel\": \"Sweet\"}, {\"Id\": \"LogTags-citrus\", \"Name\": \"Citrus\", \"Active\": true, \"Category\": \"Flavor\", \"DisplayL...</td>\n",
       "      <td>[{\"Id\": \"LogTags-depression\", \"Name\": \"Depression\", \"Active\": true, \"Category\": \"Symptom\", \"DisplayLabel\": \"Depression\"}, {\"Id\": \"LogTags-inflammation\", \"Name\": \"Inflammation\", \"Active\": true, \"Ca...</td>\n",
       "      <td>[{\"Id\": \"LogTags-addadhd\", \"Name\": \"ADD/ADHD\", \"Active\": true, \"Category\": \"Condition\", \"DisplayLabel\": \"ADD/ADHD\"}, {\"Id\": \"LogTags-anxiety\", \"Name\": \"Anxiety\", \"Active\": true, \"Category\": \"Condi...</td>\n",
       "      <td>{\"berry-burst\": 0.0, \"diesel-fuel\": 15.605824907095325, \"manage-pain\": 25.035919540229884, \"citrus-squeeze\": 14.054532883933973, \"overcome-anxiety\": 104.58905885403161, \"good-nights-sleep\": 50.855...</td>\n",
       "      <td>https://mobileapi.leafly.com/hybrid/707-headband</td>\n",
       "      <td>707 Headband</td>\n",
       "      <td>{creative,euphoric,happy,relaxed,uplifted,dizzy,dry-eyes,dry-mouth,paranoid,anxious,addadhd,anxiety,migraines,pms,ptsd,depression,inflammation,muscle-spasms,pain,stress,sweet,citrus,earthy,pungent...</td>\n",
       "      <td>2019-10-10 03:54:37+00</td>\n",
       "    </tr>\n",
       "    <tr>\n",
       "      <th>1</th>\n",
       "      <td>2200248</td>\n",
       "      <td>BrazilianRedneck870</td>\n",
       "      <td>Extremely relaxing. Good head space. Does well to remove stress and pain.</td>\n",
       "      <td>2019-10-27 17:20:30+00</td>\n",
       "      <td>4</td>\n",
       "      <td>https://d3ix816x6wuc0d.cloudfront.net/stars/4/240</td>\n",
       "      <td>NaN</td>\n",
       "      <td>NaN</td>\n",
       "      <td>https://ddd33q3967xhi.cloudfront.net/mB7zjHN07KpJA9EMeBhVV9a1An0=/fit-in/300x300/https%3a%2f%2fpublic.leafly.com%2favatars%2f16.png</td>\n",
       "      <td>{\"score\": 0, \"upVotes\": 0, \"downVotes\": 0}</td>\n",
       "      <td>...</td>\n",
       "      <td>[{\"Id\": \"LogTags-euphoric\", \"Name\": \"Euphoric\", \"Active\": true, \"Category\": \"Effect\", \"DisplayLabel\": \"Euphoric\"}, {\"Id\": \"LogTags-happy\", \"Name\": \"Happy\", \"Active\": true, \"Category\": \"Effect\", \"D...</td>\n",
       "      <td>[{\"Id\": \"LogTags-dizzy\", \"Name\": \"Dizzy\", \"Active\": true, \"Category\": \"Negative\", \"DisplayLabel\": \"Dizzy\"}, {\"Id\": \"LogTags-dry-eyes\", \"Name\": \"Dry Eyes\", \"Active\": true, \"Category\": \"Negative\", \"...</td>\n",
       "      <td>[{\"Id\": \"LogTags-sweet\", \"Name\": \"Sweet\", \"Active\": true, \"Category\": \"Flavor\", \"DisplayLabel\": \"Sweet\"}, {\"Id\": \"LogTags-berry\", \"Name\": \"Berry\", \"Active\": true, \"Category\": \"Flavor\", \"DisplayLab...</td>\n",
       "      <td>[{\"Id\": \"LogTags-depression\", \"Name\": \"Depression\", \"Active\": true, \"Category\": \"Symptom\", \"DisplayLabel\": \"Depression\"}, {\"Id\": \"LogTags-insomnia\", \"Name\": \"Insomnia\", \"Active\": true, \"Category\":...</td>\n",
       "      <td>[{\"Id\": \"LogTags-addadhd\", \"Name\": \"ADD/ADHD\", \"Active\": true, \"Category\": \"Condition\", \"DisplayLabel\": \"ADD/ADHD\"}, {\"Id\": \"LogTags-anxiety\", \"Name\": \"Anxiety\", \"Active\": true, \"Category\": \"Condi...</td>\n",
       "      <td>{\"berry-burst\": 13.323500491642084, \"diesel-fuel\": 17.593411996066862, \"manage-pain\": 12.146017699115049, \"citrus-squeeze\": 0.0, \"overcome-anxiety\": -56.666666666666686, \"good-nights-sleep\": 150.9...</td>\n",
       "      <td>https://mobileapi.leafly.com/indica/3x-crazy</td>\n",
       "      <td>3X Crazy</td>\n",
       "      <td>{euphoric,happy,relaxed,sleepy,tingly,dizzy,dry-eyes,dry-mouth,paranoid,anxious,addadhd,anxiety,fibromyalgia,migraines,ptsd,depression,insomnia,lack-of-appetite,pain,stress,sweet,berry,lavender,ea...</td>\n",
       "      <td>2019-10-10 03:54:37+00</td>\n",
       "    </tr>\n",
       "    <tr>\n",
       "      <th>2</th>\n",
       "      <td>1261599</td>\n",
       "      <td>dubabud</td>\n",
       "      <td>I really like the taste of this strain, great for morning and afternoon.</td>\n",
       "      <td>2016-04-21 20:42:57+00</td>\n",
       "      <td>5</td>\n",
       "      <td>https://d3ix816x6wuc0d.cloudfront.net/stars/5/240</td>\n",
       "      <td>NaN</td>\n",
       "      <td>NaN</td>\n",
       "      <td>https://ddd33q3967xhi.cloudfront.net/zL9jSVD3kxPJsOKmdrIVVcQ0X2E=/fit-in/300x300/https%3a%2f%2fpublic.leafly.com%2favatars%2f114.png</td>\n",
       "      <td>{\"score\": 0, \"upVotes\": 0, \"downVotes\": 0}</td>\n",
       "      <td>...</td>\n",
       "      <td>[{\"Id\": \"LogTags-creative\", \"Name\": \"Creative\", \"Active\": true, \"Category\": \"Effect\", \"DisplayLabel\": \"Creative\"}, {\"Id\": \"LogTags-euphoric\", \"Name\": \"Euphoric\", \"Active\": true, \"Category\": \"Effec...</td>\n",
       "      <td>[{\"Id\": \"LogTags-dizzy\", \"Name\": \"Dizzy\", \"Active\": true, \"Category\": \"Negative\", \"DisplayLabel\": \"Dizzy\"}, {\"Id\": \"LogTags-dry-eyes\", \"Name\": \"Dry Eyes\", \"Active\": true, \"Category\": \"Negative\", \"...</td>\n",
       "      <td>[{\"Id\": \"LogTags-sweet\", \"Name\": \"Sweet\", \"Active\": true, \"Category\": \"Flavor\", \"DisplayLabel\": \"Sweet\"}, {\"Id\": \"LogTags-citrus\", \"Name\": \"Citrus\", \"Active\": true, \"Category\": \"Flavor\", \"DisplayL...</td>\n",
       "      <td>[{\"Id\": \"LogTags-depression\", \"Name\": \"Depression\", \"Active\": true, \"Category\": \"Symptom\", \"DisplayLabel\": \"Depression\"}, {\"Id\": \"LogTags-inflammation\", \"Name\": \"Inflammation\", \"Active\": true, \"Ca...</td>\n",
       "      <td>[{\"Id\": \"LogTags-addadhd\", \"Name\": \"ADD/ADHD\", \"Active\": true, \"Category\": \"Condition\", \"DisplayLabel\": \"ADD/ADHD\"}, {\"Id\": \"LogTags-anxiety\", \"Name\": \"Anxiety\", \"Active\": true, \"Category\": \"Condi...</td>\n",
       "      <td>{\"berry-burst\": 0.0, \"diesel-fuel\": 15.605824907095325, \"manage-pain\": 25.035919540229884, \"citrus-squeeze\": 14.054532883933973, \"overcome-anxiety\": 104.58905885403161, \"good-nights-sleep\": 50.855...</td>\n",
       "      <td>https://mobileapi.leafly.com/hybrid/707-headband</td>\n",
       "      <td>707 Headband</td>\n",
       "      <td>{creative,euphoric,happy,relaxed,uplifted,dizzy,dry-eyes,dry-mouth,paranoid,anxious,addadhd,anxiety,migraines,pms,ptsd,depression,inflammation,muscle-spasms,pain,stress,sweet,citrus,earthy,pungent...</td>\n",
       "      <td>2019-10-10 03:54:37+00</td>\n",
       "    </tr>\n",
       "    <tr>\n",
       "      <th>3</th>\n",
       "      <td>2185133</td>\n",
       "      <td>Blazedmexican</td>\n",
       "      <td>Great flavor takes me back to when I first smoked weed. Just the aroma and flavor of the weed is just so nostalgic. Recommend it to every who wants to smoke for the first time/smoke for the first ...</td>\n",
       "      <td>2019-10-11 19:30:43+00</td>\n",
       "      <td>5</td>\n",
       "      <td>https://d3ix816x6wuc0d.cloudfront.net/stars/5/240</td>\n",
       "      <td>NaN</td>\n",
       "      <td>NaN</td>\n",
       "      <td>https://ddd33q3967xhi.cloudfront.net/38RRmfxAfGRd3QxlyCtWhCiOECk=/fit-in/300x300/https%3a%2f%2fpublic.leafly.com%2favatars%2f118.png</td>\n",
       "      <td>{\"score\": 0, \"upVotes\": 0, \"downVotes\": 0}</td>\n",
       "      <td>...</td>\n",
       "      <td>[{\"Id\": \"LogTags-euphoric\", \"Name\": \"Euphoric\", \"Active\": true, \"Category\": \"Effect\", \"DisplayLabel\": \"Euphoric\"}, {\"Id\": \"LogTags-happy\", \"Name\": \"Happy\", \"Active\": true, \"Category\": \"Effect\", \"D...</td>\n",
       "      <td>[{\"Id\": \"LogTags-dizzy\", \"Name\": \"Dizzy\", \"Active\": true, \"Category\": \"Negative\", \"DisplayLabel\": \"Dizzy\"}, {\"Id\": \"LogTags-dry-eyes\", \"Name\": \"Dry Eyes\", \"Active\": true, \"Category\": \"Negative\", \"...</td>\n",
       "      <td>[{\"Id\": \"LogTags-sweet\", \"Name\": \"Sweet\", \"Active\": true, \"Category\": \"Flavor\", \"DisplayLabel\": \"Sweet\"}, {\"Id\": \"LogTags-berry\", \"Name\": \"Berry\", \"Active\": true, \"Category\": \"Flavor\", \"DisplayLab...</td>\n",
       "      <td>[{\"Id\": \"LogTags-depression\", \"Name\": \"Depression\", \"Active\": true, \"Category\": \"Symptom\", \"DisplayLabel\": \"Depression\"}, {\"Id\": \"LogTags-insomnia\", \"Name\": \"Insomnia\", \"Active\": true, \"Category\":...</td>\n",
       "      <td>[{\"Id\": \"LogTags-addadhd\", \"Name\": \"ADD/ADHD\", \"Active\": true, \"Category\": \"Condition\", \"DisplayLabel\": \"ADD/ADHD\"}, {\"Id\": \"LogTags-anxiety\", \"Name\": \"Anxiety\", \"Active\": true, \"Category\": \"Condi...</td>\n",
       "      <td>{\"berry-burst\": 13.323500491642084, \"diesel-fuel\": 17.593411996066862, \"manage-pain\": 12.146017699115049, \"citrus-squeeze\": 0.0, \"overcome-anxiety\": -56.666666666666686, \"good-nights-sleep\": 150.9...</td>\n",
       "      <td>https://mobileapi.leafly.com/indica/3x-crazy</td>\n",
       "      <td>3X Crazy</td>\n",
       "      <td>{euphoric,happy,relaxed,sleepy,tingly,dizzy,dry-eyes,dry-mouth,paranoid,anxious,addadhd,anxiety,fibromyalgia,migraines,ptsd,depression,insomnia,lack-of-appetite,pain,stress,sweet,berry,lavender,ea...</td>\n",
       "      <td>2019-10-10 03:54:37+00</td>\n",
       "    </tr>\n",
       "    <tr>\n",
       "      <th>4</th>\n",
       "      <td>2165833</td>\n",
       "      <td>fraser_patz</td>\n",
       "      <td>This 1 is dankkk\\nMy favourite strain at the moment!</td>\n",
       "      <td>2019-09-24 21:50:19+00</td>\n",
       "      <td>5</td>\n",
       "      <td>https://d3ix816x6wuc0d.cloudfront.net/stars/5/240</td>\n",
       "      <td>NaN</td>\n",
       "      <td>NaN</td>\n",
       "      <td>https://ddd33q3967xhi.cloudfront.net/BZ1r09SF1xOMbVwxL2UsPiKbzWg=/fit-in/300x300/https%3a%2f%2fpublic.leafly.com%2favatars%2f142.png</td>\n",
       "      <td>{\"score\": 0, \"upVotes\": 0, \"downVotes\": 0}</td>\n",
       "      <td>...</td>\n",
       "      <td>[{\"Id\": \"LogTags-euphoric\", \"Name\": \"Euphoric\", \"Active\": true, \"Category\": \"Effect\", \"DisplayLabel\": \"Euphoric\"}, {\"Id\": \"LogTags-happy\", \"Name\": \"Happy\", \"Active\": true, \"Category\": \"Effect\", \"D...</td>\n",
       "      <td>[{\"Id\": \"LogTags-dizzy\", \"Name\": \"Dizzy\", \"Active\": true, \"Category\": \"Negative\", \"DisplayLabel\": \"Dizzy\"}, {\"Id\": \"LogTags-dry-eyes\", \"Name\": \"Dry Eyes\", \"Active\": true, \"Category\": \"Negative\", \"...</td>\n",
       "      <td>[{\"Id\": \"LogTags-sweet\", \"Name\": \"Sweet\", \"Active\": true, \"Category\": \"Flavor\", \"DisplayLabel\": \"Sweet\"}, {\"Id\": \"LogTags-berry\", \"Name\": \"Berry\", \"Active\": true, \"Category\": \"Flavor\", \"DisplayLab...</td>\n",
       "      <td>[{\"Id\": \"LogTags-depression\", \"Name\": \"Depression\", \"Active\": true, \"Category\": \"Symptom\", \"DisplayLabel\": \"Depression\"}, {\"Id\": \"LogTags-insomnia\", \"Name\": \"Insomnia\", \"Active\": true, \"Category\":...</td>\n",
       "      <td>[{\"Id\": \"LogTags-addadhd\", \"Name\": \"ADD/ADHD\", \"Active\": true, \"Category\": \"Condition\", \"DisplayLabel\": \"ADD/ADHD\"}, {\"Id\": \"LogTags-anxiety\", \"Name\": \"Anxiety\", \"Active\": true, \"Category\": \"Condi...</td>\n",
       "      <td>{\"berry-burst\": 13.323500491642084, \"diesel-fuel\": 17.593411996066862, \"manage-pain\": 12.146017699115049, \"citrus-squeeze\": 0.0, \"overcome-anxiety\": -56.666666666666686, \"good-nights-sleep\": 150.9...</td>\n",
       "      <td>https://mobileapi.leafly.com/indica/3x-crazy</td>\n",
       "      <td>3X Crazy</td>\n",
       "      <td>{euphoric,happy,relaxed,sleepy,tingly,dizzy,dry-eyes,dry-mouth,paranoid,anxious,addadhd,anxiety,fibromyalgia,migraines,ptsd,depression,insomnia,lack-of-appetite,pain,stress,sweet,berry,lavender,ea...</td>\n",
       "      <td>2019-10-10 03:54:37+00</td>\n",
       "    </tr>\n",
       "  </tbody>\n",
       "</table>\n",
       "<p>5 rows × 36 columns</p>\n",
       "</div>"
      ],
      "text/plain": [
       "   review_id             username  \\\n",
       "0    1264200        hardknoxxlif3   \n",
       "1    2200248  BrazilianRedneck870   \n",
       "2    1261599              dubabud   \n",
       "3    2185133        Blazedmexican   \n",
       "4    2165833          fraser_patz   \n",
       "\n",
       "                                                                                                                                                                                                      text  \\\n",
       "0                                                                                                                                                                                 fire get it why it's hot   \n",
       "1                                                                                                                                Extremely relaxing. Good head space. Does well to remove stress and pain.   \n",
       "2                                                                                                                                I really like the taste of this strain, great for morning and afternoon.    \n",
       "3  Great flavor takes me back to when I first smoked weed. Just the aroma and flavor of the weed is just so nostalgic. Recommend it to every who wants to smoke for the first time/smoke for the first ...   \n",
       "4                                                                                                                                                     This 1 is dankkk\\nMy favourite strain at the moment!   \n",
       "\n",
       "             review_added  rating  \\\n",
       "0  2016-04-23 03:36:25+00       5   \n",
       "1  2019-10-27 17:20:30+00       4   \n",
       "2  2016-04-21 20:42:57+00       5   \n",
       "3  2019-10-11 19:30:43+00       5   \n",
       "4  2019-09-24 21:50:19+00       5   \n",
       "\n",
       "                                          star_image location_slug  \\\n",
       "0  https://d3ix816x6wuc0d.cloudfront.net/stars/5/240           NaN   \n",
       "1  https://d3ix816x6wuc0d.cloudfront.net/stars/4/240           NaN   \n",
       "2  https://d3ix816x6wuc0d.cloudfront.net/stars/5/240           NaN   \n",
       "3  https://d3ix816x6wuc0d.cloudfront.net/stars/5/240           NaN   \n",
       "4  https://d3ix816x6wuc0d.cloudfront.net/stars/5/240           NaN   \n",
       "\n",
       "  location_name  \\\n",
       "0           NaN   \n",
       "1           NaN   \n",
       "2           NaN   \n",
       "3           NaN   \n",
       "4           NaN   \n",
       "\n",
       "                                                                                                                                 avatar  \\\n",
       "0   https://ddd33q3967xhi.cloudfront.net/_LwUSia9OLq1vh_A-_6Ux_-Ybj0=/fit-in/300x300/https%3a%2f%2fpublic.leafly.com%2favatars%2f70.png   \n",
       "1   https://ddd33q3967xhi.cloudfront.net/mB7zjHN07KpJA9EMeBhVV9a1An0=/fit-in/300x300/https%3a%2f%2fpublic.leafly.com%2favatars%2f16.png   \n",
       "2  https://ddd33q3967xhi.cloudfront.net/zL9jSVD3kxPJsOKmdrIVVcQ0X2E=/fit-in/300x300/https%3a%2f%2fpublic.leafly.com%2favatars%2f114.png   \n",
       "3  https://ddd33q3967xhi.cloudfront.net/38RRmfxAfGRd3QxlyCtWhCiOECk=/fit-in/300x300/https%3a%2f%2fpublic.leafly.com%2favatars%2f118.png   \n",
       "4  https://ddd33q3967xhi.cloudfront.net/BZ1r09SF1xOMbVwxL2UsPiKbzWg=/fit-in/300x300/https%3a%2f%2fpublic.leafly.com%2favatars%2f142.png   \n",
       "\n",
       "                                   log_rating  ...  \\\n",
       "0  {\"score\": 1, \"upVotes\": 1, \"downVotes\": 0}  ...   \n",
       "1  {\"score\": 0, \"upVotes\": 0, \"downVotes\": 0}  ...   \n",
       "2  {\"score\": 0, \"upVotes\": 0, \"downVotes\": 0}  ...   \n",
       "3  {\"score\": 0, \"upVotes\": 0, \"downVotes\": 0}  ...   \n",
       "4  {\"score\": 0, \"upVotes\": 0, \"downVotes\": 0}  ...   \n",
       "\n",
       "                                                                                                                                                                                                      tags  \\\n",
       "0  [{\"Id\": \"LogTags-creative\", \"Name\": \"Creative\", \"Active\": true, \"Category\": \"Effect\", \"DisplayLabel\": \"Creative\"}, {\"Id\": \"LogTags-euphoric\", \"Name\": \"Euphoric\", \"Active\": true, \"Category\": \"Effec...   \n",
       "1  [{\"Id\": \"LogTags-euphoric\", \"Name\": \"Euphoric\", \"Active\": true, \"Category\": \"Effect\", \"DisplayLabel\": \"Euphoric\"}, {\"Id\": \"LogTags-happy\", \"Name\": \"Happy\", \"Active\": true, \"Category\": \"Effect\", \"D...   \n",
       "2  [{\"Id\": \"LogTags-creative\", \"Name\": \"Creative\", \"Active\": true, \"Category\": \"Effect\", \"DisplayLabel\": \"Creative\"}, {\"Id\": \"LogTags-euphoric\", \"Name\": \"Euphoric\", \"Active\": true, \"Category\": \"Effec...   \n",
       "3  [{\"Id\": \"LogTags-euphoric\", \"Name\": \"Euphoric\", \"Active\": true, \"Category\": \"Effect\", \"DisplayLabel\": \"Euphoric\"}, {\"Id\": \"LogTags-happy\", \"Name\": \"Happy\", \"Active\": true, \"Category\": \"Effect\", \"D...   \n",
       "4  [{\"Id\": \"LogTags-euphoric\", \"Name\": \"Euphoric\", \"Active\": true, \"Category\": \"Effect\", \"DisplayLabel\": \"Euphoric\"}, {\"Id\": \"LogTags-happy\", \"Name\": \"Happy\", \"Active\": true, \"Category\": \"Effect\", \"D...   \n",
       "\n",
       "                                                                                                                                                                                          negative_effects  \\\n",
       "0  [{\"Id\": \"LogTags-dizzy\", \"Name\": \"Dizzy\", \"Active\": true, \"Category\": \"Negative\", \"DisplayLabel\": \"Dizzy\"}, {\"Id\": \"LogTags-dry-eyes\", \"Name\": \"Dry Eyes\", \"Active\": true, \"Category\": \"Negative\", \"...   \n",
       "1  [{\"Id\": \"LogTags-dizzy\", \"Name\": \"Dizzy\", \"Active\": true, \"Category\": \"Negative\", \"DisplayLabel\": \"Dizzy\"}, {\"Id\": \"LogTags-dry-eyes\", \"Name\": \"Dry Eyes\", \"Active\": true, \"Category\": \"Negative\", \"...   \n",
       "2  [{\"Id\": \"LogTags-dizzy\", \"Name\": \"Dizzy\", \"Active\": true, \"Category\": \"Negative\", \"DisplayLabel\": \"Dizzy\"}, {\"Id\": \"LogTags-dry-eyes\", \"Name\": \"Dry Eyes\", \"Active\": true, \"Category\": \"Negative\", \"...   \n",
       "3  [{\"Id\": \"LogTags-dizzy\", \"Name\": \"Dizzy\", \"Active\": true, \"Category\": \"Negative\", \"DisplayLabel\": \"Dizzy\"}, {\"Id\": \"LogTags-dry-eyes\", \"Name\": \"Dry Eyes\", \"Active\": true, \"Category\": \"Negative\", \"...   \n",
       "4  [{\"Id\": \"LogTags-dizzy\", \"Name\": \"Dizzy\", \"Active\": true, \"Category\": \"Negative\", \"DisplayLabel\": \"Dizzy\"}, {\"Id\": \"LogTags-dry-eyes\", \"Name\": \"Dry Eyes\", \"Active\": true, \"Category\": \"Negative\", \"...   \n",
       "\n",
       "                                                                                                                                                                                                   flavors  \\\n",
       "0  [{\"Id\": \"LogTags-sweet\", \"Name\": \"Sweet\", \"Active\": true, \"Category\": \"Flavor\", \"DisplayLabel\": \"Sweet\"}, {\"Id\": \"LogTags-citrus\", \"Name\": \"Citrus\", \"Active\": true, \"Category\": \"Flavor\", \"DisplayL...   \n",
       "1  [{\"Id\": \"LogTags-sweet\", \"Name\": \"Sweet\", \"Active\": true, \"Category\": \"Flavor\", \"DisplayLabel\": \"Sweet\"}, {\"Id\": \"LogTags-berry\", \"Name\": \"Berry\", \"Active\": true, \"Category\": \"Flavor\", \"DisplayLab...   \n",
       "2  [{\"Id\": \"LogTags-sweet\", \"Name\": \"Sweet\", \"Active\": true, \"Category\": \"Flavor\", \"DisplayLabel\": \"Sweet\"}, {\"Id\": \"LogTags-citrus\", \"Name\": \"Citrus\", \"Active\": true, \"Category\": \"Flavor\", \"DisplayL...   \n",
       "3  [{\"Id\": \"LogTags-sweet\", \"Name\": \"Sweet\", \"Active\": true, \"Category\": \"Flavor\", \"DisplayLabel\": \"Sweet\"}, {\"Id\": \"LogTags-berry\", \"Name\": \"Berry\", \"Active\": true, \"Category\": \"Flavor\", \"DisplayLab...   \n",
       "4  [{\"Id\": \"LogTags-sweet\", \"Name\": \"Sweet\", \"Active\": true, \"Category\": \"Flavor\", \"DisplayLabel\": \"Sweet\"}, {\"Id\": \"LogTags-berry\", \"Name\": \"Berry\", \"Active\": true, \"Category\": \"Flavor\", \"DisplayLab...   \n",
       "\n",
       "                                                                                                                                                                                                  symptoms  \\\n",
       "0  [{\"Id\": \"LogTags-depression\", \"Name\": \"Depression\", \"Active\": true, \"Category\": \"Symptom\", \"DisplayLabel\": \"Depression\"}, {\"Id\": \"LogTags-inflammation\", \"Name\": \"Inflammation\", \"Active\": true, \"Ca...   \n",
       "1  [{\"Id\": \"LogTags-depression\", \"Name\": \"Depression\", \"Active\": true, \"Category\": \"Symptom\", \"DisplayLabel\": \"Depression\"}, {\"Id\": \"LogTags-insomnia\", \"Name\": \"Insomnia\", \"Active\": true, \"Category\":...   \n",
       "2  [{\"Id\": \"LogTags-depression\", \"Name\": \"Depression\", \"Active\": true, \"Category\": \"Symptom\", \"DisplayLabel\": \"Depression\"}, {\"Id\": \"LogTags-inflammation\", \"Name\": \"Inflammation\", \"Active\": true, \"Ca...   \n",
       "3  [{\"Id\": \"LogTags-depression\", \"Name\": \"Depression\", \"Active\": true, \"Category\": \"Symptom\", \"DisplayLabel\": \"Depression\"}, {\"Id\": \"LogTags-insomnia\", \"Name\": \"Insomnia\", \"Active\": true, \"Category\":...   \n",
       "4  [{\"Id\": \"LogTags-depression\", \"Name\": \"Depression\", \"Active\": true, \"Category\": \"Symptom\", \"DisplayLabel\": \"Depression\"}, {\"Id\": \"LogTags-insomnia\", \"Name\": \"Insomnia\", \"Active\": true, \"Category\":...   \n",
       "\n",
       "                                                                                                                                                                                                conditions  \\\n",
       "0  [{\"Id\": \"LogTags-addadhd\", \"Name\": \"ADD/ADHD\", \"Active\": true, \"Category\": \"Condition\", \"DisplayLabel\": \"ADD/ADHD\"}, {\"Id\": \"LogTags-anxiety\", \"Name\": \"Anxiety\", \"Active\": true, \"Category\": \"Condi...   \n",
       "1  [{\"Id\": \"LogTags-addadhd\", \"Name\": \"ADD/ADHD\", \"Active\": true, \"Category\": \"Condition\", \"DisplayLabel\": \"ADD/ADHD\"}, {\"Id\": \"LogTags-anxiety\", \"Name\": \"Anxiety\", \"Active\": true, \"Category\": \"Condi...   \n",
       "2  [{\"Id\": \"LogTags-addadhd\", \"Name\": \"ADD/ADHD\", \"Active\": true, \"Category\": \"Condition\", \"DisplayLabel\": \"ADD/ADHD\"}, {\"Id\": \"LogTags-anxiety\", \"Name\": \"Anxiety\", \"Active\": true, \"Category\": \"Condi...   \n",
       "3  [{\"Id\": \"LogTags-addadhd\", \"Name\": \"ADD/ADHD\", \"Active\": true, \"Category\": \"Condition\", \"DisplayLabel\": \"ADD/ADHD\"}, {\"Id\": \"LogTags-anxiety\", \"Name\": \"Anxiety\", \"Active\": true, \"Category\": \"Condi...   \n",
       "4  [{\"Id\": \"LogTags-addadhd\", \"Name\": \"ADD/ADHD\", \"Active\": true, \"Category\": \"Condition\", \"DisplayLabel\": \"ADD/ADHD\"}, {\"Id\": \"LogTags-anxiety\", \"Name\": \"Anxiety\", \"Active\": true, \"Category\": \"Condi...   \n",
       "\n",
       "                                                                                                                                                                                 kiosk_curated_list_scores  \\\n",
       "0  {\"berry-burst\": 0.0, \"diesel-fuel\": 15.605824907095325, \"manage-pain\": 25.035919540229884, \"citrus-squeeze\": 14.054532883933973, \"overcome-anxiety\": 104.58905885403161, \"good-nights-sleep\": 50.855...   \n",
       "1  {\"berry-burst\": 13.323500491642084, \"diesel-fuel\": 17.593411996066862, \"manage-pain\": 12.146017699115049, \"citrus-squeeze\": 0.0, \"overcome-anxiety\": -56.666666666666686, \"good-nights-sleep\": 150.9...   \n",
       "2  {\"berry-burst\": 0.0, \"diesel-fuel\": 15.605824907095325, \"manage-pain\": 25.035919540229884, \"citrus-squeeze\": 14.054532883933973, \"overcome-anxiety\": 104.58905885403161, \"good-nights-sleep\": 50.855...   \n",
       "3  {\"berry-burst\": 13.323500491642084, \"diesel-fuel\": 17.593411996066862, \"manage-pain\": 12.146017699115049, \"citrus-squeeze\": 0.0, \"overcome-anxiety\": -56.666666666666686, \"good-nights-sleep\": 150.9...   \n",
       "4  {\"berry-burst\": 13.323500491642084, \"diesel-fuel\": 17.593411996066862, \"manage-pain\": 12.146017699115049, \"citrus-squeeze\": 0.0, \"overcome-anxiety\": -56.666666666666686, \"good-nights-sleep\": 150.9...   \n",
       "\n",
       "                                          permalink     sort_name  \\\n",
       "0  https://mobileapi.leafly.com/hybrid/707-headband  707 Headband   \n",
       "1      https://mobileapi.leafly.com/indica/3x-crazy      3X Crazy   \n",
       "2  https://mobileapi.leafly.com/hybrid/707-headband  707 Headband   \n",
       "3      https://mobileapi.leafly.com/indica/3x-crazy      3X Crazy   \n",
       "4      https://mobileapi.leafly.com/indica/3x-crazy      3X Crazy   \n",
       "\n",
       "                                                                                                                                                                                                  log_tags  \\\n",
       "0  {creative,euphoric,happy,relaxed,uplifted,dizzy,dry-eyes,dry-mouth,paranoid,anxious,addadhd,anxiety,migraines,pms,ptsd,depression,inflammation,muscle-spasms,pain,stress,sweet,citrus,earthy,pungent...   \n",
       "1  {euphoric,happy,relaxed,sleepy,tingly,dizzy,dry-eyes,dry-mouth,paranoid,anxious,addadhd,anxiety,fibromyalgia,migraines,ptsd,depression,insomnia,lack-of-appetite,pain,stress,sweet,berry,lavender,ea...   \n",
       "2  {creative,euphoric,happy,relaxed,uplifted,dizzy,dry-eyes,dry-mouth,paranoid,anxious,addadhd,anxiety,migraines,pms,ptsd,depression,inflammation,muscle-spasms,pain,stress,sweet,citrus,earthy,pungent...   \n",
       "3  {euphoric,happy,relaxed,sleepy,tingly,dizzy,dry-eyes,dry-mouth,paranoid,anxious,addadhd,anxiety,fibromyalgia,migraines,ptsd,depression,insomnia,lack-of-appetite,pain,stress,sweet,berry,lavender,ea...   \n",
       "4  {euphoric,happy,relaxed,sleepy,tingly,dizzy,dry-eyes,dry-mouth,paranoid,anxious,addadhd,anxiety,fibromyalgia,migraines,ptsd,depression,insomnia,lack-of-appetite,pain,stress,sweet,berry,lavender,ea...   \n",
       "\n",
       "             created_at.1  \n",
       "0  2019-10-10 03:54:37+00  \n",
       "1  2019-10-10 03:54:37+00  \n",
       "2  2019-10-10 03:54:37+00  \n",
       "3  2019-10-10 03:54:37+00  \n",
       "4  2019-10-10 03:54:37+00  \n",
       "\n",
       "[5 rows x 36 columns]"
      ]
     },
     "execution_count": 9,
     "metadata": {},
     "output_type": "execute_result"
    }
   ],
   "source": [
    "df.head()"
   ]
  },
  {
   "cell_type": "code",
   "execution_count": 32,
   "metadata": {},
   "outputs": [],
   "source": [
    "posrate=df[df['rating']>=4]\n",
    "pos=posrate['text']"
   ]
  },
  {
   "cell_type": "code",
   "execution_count": 36,
   "metadata": {},
   "outputs": [],
   "source": [
    "np.savetxt(\"pos.txt\", pos, fmt='%s')"
   ]
  },
  {
   "cell_type": "code",
   "execution_count": 37,
   "metadata": {},
   "outputs": [],
   "source": [
    "negrate=df[df['rating']<=2]\n",
    "neg=negrate['text']\n",
    "np.savetxt(\"neg.txt\", neg, fmt='%s')"
   ]
  },
  {
   "cell_type": "code",
   "execution_count": 17,
   "metadata": {},
   "outputs": [
    {
     "data": {
      "text/plain": [
       "7904"
      ]
     },
     "execution_count": 17,
     "metadata": {},
     "output_type": "execute_result"
    }
   ],
   "source": [
    "len(neg)"
   ]
  },
  {
   "cell_type": "code",
   "execution_count": 39,
   "metadata": {},
   "outputs": [],
   "source": [
    "import pandas as pd\n",
    "import re\n",
    "import codecs\n",
    "import sys\n",
    "import nltk\n",
    "import numpy as np\n",
    "from sklearn.model_selection import train_test_split\n",
    "from nltk.corpus import stopwords\n",
    "import string\n",
    "\n",
    "# Function to remove Stopwords\n",
    "def remove_stopwords(line):\n",
    "    \n",
    "    stop_words = set(stopwords.words('english'))\n",
    "    line = [w for w in line if not w in stop_words]\n",
    "    return line\n",
    "\n",
    "#Function to remove Punctuation and normalize characters to lowercase\n",
    "def remove_punc_lower(line):\n",
    "    line=\"\".join([char for char in line if char not in string.punctuation])\n",
    "    line=line.lower()\n",
    "    return line\n",
    "\n",
    "# Function to Tokenize words\n",
    "def tokenize(line):\n",
    "    tokens = re.split('\\W+', line)\n",
    "    return tokens\n",
    "\n",
    "if __name__ == \"__main__\":\n",
    "    input_path = 'neg.txt'\n",
    "    f=open(input_path)\n",
    "    pos=f.read().split('\\n')\n",
    "    pos_stop=[]\n",
    "    pos_no_stop=[]\n",
    "    for i in range (len(pos)):\n",
    "        p=tokenize(remove_punc_lower(pos[i]))\n",
    "        pos_no_stop.append(p)\n",
    "#         p=remove_stopwords(p)\n",
    "#         pos_stop.append(p)\n",
    "#     train_list,val_list=train_test_split(pos_stop,train_size=0.8,random_state=0)\n",
    "#     val_list,test_list=train_test_split(val_list,test_size=0.5,random_state=0)\n",
    "#     np.savetxt(\"train.csv\", train_list, delimiter=\",\",fmt='%s')\n",
    "#     np.savetxt(\"val.csv\", val_list, delimiter=\",\", fmt='%s')\n",
    "#     np.savetxt(\"test.csv\", test_list, delimiter=\",\", fmt='%s')\n",
    "    train_list_no_stopword,val_list_no_stopword=train_test_split(pos_no_stop,train_size=0.8,random_state=0)\n",
    "    val_list_no_stopword,test_list_no_stopword=train_test_split(val_list_no_stopword,test_size=0.5,random_state=0)\n",
    "    np.savetxt(\"train_no_stopword.csv\", train_list_no_stopword,delimiter=\",\", fmt='%s')\n",
    "    np.savetxt(\"val_no_stopword.csv\", val_list_no_stopword,delimiter=\",\", fmt='%s')\n",
    "    np.savetxt(\"test_no_stopword.csv\", test_list_no_stopword,delimiter=\",\", fmt='%s')"
   ]
  },
  {
   "cell_type": "code",
   "execution_count": 2,
   "metadata": {},
   "outputs": [],
   "source": [
    "import pandas as pd\n",
    "from sklearn.utils import shuffle\n",
    "from sklearn.feature_extraction.text import CountVectorizer\n",
    "from sklearn.model_selection import train_test_split\n",
    "from sklearn.naive_bayes import MultinomialNB\n",
    "from sklearn import metrics\n",
    "import seaborn as sns\n",
    "import matplotlib.pyplot as plt\n",
    "%matplotlib inline"
   ]
  },
  {
   "cell_type": "code",
   "execution_count": 3,
   "metadata": {},
   "outputs": [],
   "source": [
    "# open without stopword cleaned datasets\n",
    "pos_train_no_stopword=open(\"/Users/shuotian/GitHub/Cannabis Market Analytics/notebooks/input/positive/train_no_stopword.csv\")\n",
    "pos_val_no_stopword=open(\"/Users/shuotian/GitHub/Cannabis Market Analytics/notebooks/input/positive/val_no_stopword.csv\")\n",
    "pos_test_no_stopword=open(\"/Users/shuotian/GitHub/Cannabis Market Analytics/notebooks/input/positive/test_no_stopword.csv\")\n",
    "\n",
    "neg_train_no_stopword=open(\"/Users/shuotian/GitHub/Cannabis Market Analytics/notebooks/input/negative/train_no_stopword.csv\")\n",
    "neg_val_no_stopword=open(\"/Users/shuotian/GitHub/Cannabis Market Analytics/notebooks/input/negative/val_no_stopword.csv\")\n",
    "neg_test_no_stopword=open(\"/Users/shuotian/GitHub/Cannabis Market Analytics/notebooks/input/negative/test_no_stopword.csv\")\n",
    "\n",
    "# Read without stopword cleaned datasets by line\n",
    "pos_nostop_train=pos_train_no_stopword.read().split('\\n')\n",
    "pos_nostop_val=pos_val_no_stopword.read().split('\\n')\n",
    "pos_nostop_test=pos_test_no_stopword.read().split('\\n')\n",
    "neg_nostop_train=neg_train_no_stopword.read().split('\\n')\n",
    "neg_nostop_val=neg_val_no_stopword.read().split('\\n')\n",
    "neg_nostop_test=neg_test_no_stopword.read().split('\\n')\n",
    "# Convert without stopword cleaned datasets to DataFrame\n",
    "pos_nostop_train= pd.DataFrame(pos_nostop_train, columns=[\"Clean_text\"])\n",
    "pos_nostop_val= pd.DataFrame(pos_nostop_val, columns=[\"Clean_text\"])\n",
    "pos_nostop_test= pd.DataFrame(pos_nostop_test, columns=[\"Clean_text\"])\n",
    "neg_nostop_train= pd.DataFrame(neg_nostop_train, columns=[\"Clean_text\"])\n",
    "neg_nostop_val= pd.DataFrame(neg_nostop_val, columns=[\"Clean_text\"])\n",
    "neg_nostop_test= pd.DataFrame(neg_nostop_test, columns=[\"Clean_text\"])\n",
    "# Add a new column 'Sentiment'\n",
    "pos_nostop_train[\"Sentiment\"]=1\n",
    "pos_nostop_val[\"Sentiment\"]=1\n",
    "pos_nostop_test[\"Sentiment\"]=1\n",
    "neg_nostop_train[\"Sentiment\"]=0\n",
    "neg_nostop_val[\"Sentiment\"]=0\n",
    "neg_nostop_test[\"Sentiment\"]=0\n",
    "# Combine all the datasets above \n",
    "nostop= shuffle(pd.concat([pos_nostop_train, neg_nostop_train,pos_nostop_val,neg_nostop_val,pos_nostop_test, neg_nostop_test]))"
   ]
  },
  {
   "cell_type": "code",
   "execution_count": 4,
   "metadata": {},
   "outputs": [
    {
     "data": {
      "text/html": [
       "<div>\n",
       "<style scoped>\n",
       "    .dataframe tbody tr th:only-of-type {\n",
       "        vertical-align: middle;\n",
       "    }\n",
       "\n",
       "    .dataframe tbody tr th {\n",
       "        vertical-align: top;\n",
       "    }\n",
       "\n",
       "    .dataframe thead th {\n",
       "        text-align: right;\n",
       "    }\n",
       "</style>\n",
       "<table border=\"1\" class=\"dataframe\">\n",
       "  <thead>\n",
       "    <tr style=\"text-align: right;\">\n",
       "      <th></th>\n",
       "      <th>Clean_text</th>\n",
       "      <th>Sentiment</th>\n",
       "    </tr>\n",
       "  </thead>\n",
       "  <tbody>\n",
       "    <tr>\n",
       "      <th>98875</th>\n",
       "      <td>['strain', 'is', 'nuckin', 'futs']</td>\n",
       "      <td>1</td>\n",
       "    </tr>\n",
       "    <tr>\n",
       "      <th>180708</th>\n",
       "      <td>['this', 'one', 'was', 'a', 'real', 'life', 's...</td>\n",
       "      <td>1</td>\n",
       "    </tr>\n",
       "    <tr>\n",
       "      <th>15868</th>\n",
       "      <td>['so', 'quick', 'to', 'melt', 'away', 'the', '...</td>\n",
       "      <td>1</td>\n",
       "    </tr>\n",
       "    <tr>\n",
       "      <th>82391</th>\n",
       "      <td>['this', 'strain', 'is', 'extremely', 'potent'...</td>\n",
       "      <td>1</td>\n",
       "    </tr>\n",
       "    <tr>\n",
       "      <th>162081</th>\n",
       "      <td>['one', 'of', 'my', 'favorites', 'for', 'going...</td>\n",
       "      <td>1</td>\n",
       "    </tr>\n",
       "  </tbody>\n",
       "</table>\n",
       "</div>"
      ],
      "text/plain": [
       "                                               Clean_text  Sentiment\n",
       "98875                  ['strain', 'is', 'nuckin', 'futs']          1\n",
       "180708  ['this', 'one', 'was', 'a', 'real', 'life', 's...          1\n",
       "15868   ['so', 'quick', 'to', 'melt', 'away', 'the', '...          1\n",
       "82391   ['this', 'strain', 'is', 'extremely', 'potent'...          1\n",
       "162081  ['one', 'of', 'my', 'favorites', 'for', 'going...          1"
      ]
     },
     "execution_count": 4,
     "metadata": {},
     "output_type": "execute_result"
    }
   ],
   "source": [
    "nostop.head()"
   ]
  },
  {
   "cell_type": "code",
   "execution_count": 53,
   "metadata": {},
   "outputs": [
    {
     "name": "stderr",
     "output_type": "stream",
     "text": [
      "/anaconda3/lib/python3.7/site-packages/sklearn/naive_bayes.py:480: UserWarning: alpha too small will result in numeric errors, setting alpha = 1.0e-10\n",
      "  'setting alpha = %.1e' % _ALPHA_MIN)\n"
     ]
    },
    {
     "data": {
      "text/plain": [
       "Text(0, 0.5, 'accurate_rate')"
      ]
     },
     "execution_count": 53,
     "metadata": {},
     "output_type": "execute_result"
    },
    {
     "data": {
      "image/png": "[encoded data removed]",
      "text/plain": [
       "<Figure size 720x432 with 1 Axes>"
      ]
     },
     "metadata": {
      "needs_background": "light"
     },
     "output_type": "display_data"
    }
   ],
   "source": [
    "# Tune the parameter of alpha\n",
    "\n",
    "#Unigram LM without stopword dataset\n",
    "vectorizer = CountVectorizer(ngram_range=(1, 2))\n",
    "text_counts = vectorizer.fit_transform(nostop[\"Clean_text\"])\n",
    "X=text_counts\n",
    "y=nostop[\"Sentiment\"]\n",
    "\n",
    "# Split the dataset to train, validate, and test subsets\n",
    "X_train, X_test, y_train, y_test = train_test_split(X, y, test_size=0.1, random_state=1)\n",
    "X_train, X_val, y_train, y_val = train_test_split(X_train, y_train, test_size=0.1, random_state=1)\n",
    "\n",
    "accurate_rate = []\n",
    "for i in np.arange(0.0, 3.0, 0.3):\n",
    "    clf = MultinomialNB(alpha=i).fit(X_train, y_train)\n",
    "    predicted= clf.predict(X_val)\n",
    "    # print(\"MultinomialNB Accuracy:\",metrics.accuracy_score(y_nostop_val, predicted))\n",
    "    accurate_rate.append(metrics.accuracy_score(y_val, predicted))\n",
    "\n",
    "\n",
    "plt.figure(figsize=(10,6))\n",
    "plt.plot(np.arange(0.0, 3.0, 0.3),accurate_rate, color='blue',linestyle='dashed',marker='o', markerfacecolor='red', markersize='10')\n",
    "plt.xlabel('Val of alpha')\n",
    "plt.ylabel('accurate_rate')"
   ]
  },
  {
   "cell_type": "code",
   "execution_count": 51,
   "metadata": {},
   "outputs": [
    {
     "name": "stdout",
     "output_type": "stream",
     "text": [
      "Bigram LM without stopword dataset MultinomialNB Accuracy: 0.9314809602316136\n"
     ]
    }
   ],
   "source": [
    "# Bigram LM without stopword dataset MultinomialNB Accuracy\n",
    "vectorizer = CountVectorizer(ngram_range=(2, 2))\n",
    "text_counts = vectorizer.fit_transform(nostop[\"Clean_text\"])\n",
    "X=text_counts\n",
    "y=nostop[\"Sentiment\"]\n",
    "    # Split the dataset to train, validate, and test subsets\n",
    "X_train, X_test, y_train, y_test = train_test_split(X, y, test_size=0.1, random_state=1)\n",
    "X_train, X_val, y_train, y_val = train_test_split(X_train, y_train, test_size=0.1, random_state=1)\n",
    "\n",
    "    # Model Generation Using Multinomial Naive Bayes\n",
    "clf = MultinomialNB(alpha = 0.9).fit(X_train, y_train)\n",
    "predicted= clf.predict(X_test)\n",
    "    #Import scikit-learn metrics module for accuracy calculation\n",
    "score=metrics.accuracy_score(y_test, predicted) \n",
    "print(\"Bigram LM without stopword dataset MultinomialNB Accuracy:\",score)\n"
   ]
  },
  {
   "cell_type": "code",
   "execution_count": 52,
   "metadata": {},
   "outputs": [
    {
     "name": "stdout",
     "output_type": "stream",
     "text": [
      "Bigram LM without stopword dataset MultinomialNB Accuracy: 0.9433431179379951\n"
     ]
    }
   ],
   "source": [
    "# Bigram LM without stopword dataset MultinomialNB Accuracy\n",
    "vectorizer = CountVectorizer(ngram_range=(1, 1))\n",
    "text_counts = vectorizer.fit_transform(nostop[\"Clean_text\"])\n",
    "X=text_counts\n",
    "y=nostop[\"Sentiment\"]\n",
    "    # Split the dataset to train, validate, and test subsets\n",
    "X_train, X_test, y_train, y_test = train_test_split(X, y, test_size=0.1, random_state=1)\n",
    "X_train, X_val, y_train, y_val = train_test_split(X_train, y_train, test_size=0.1, random_state=1)\n",
    "\n",
    "    # Model Generation Using Multinomial Naive Bayes\n",
    "clf = MultinomialNB(alpha = 0.9).fit(X_train, y_train)\n",
    "predicted= clf.predict(X_test)\n",
    "    #Import scikit-learn metrics module for accuracy calculation\n",
    "score=metrics.accuracy_score(y_test, predicted) \n",
    "print(\"Bigram LM without stopword dataset MultinomialNB Accuracy:\",score)\n"
   ]
  },
  {
   "cell_type": "code",
   "execution_count": 54,
   "metadata": {},
   "outputs": [
    {
     "name": "stdout",
     "output_type": "stream",
     "text": [
      "Bigram LM without stopword dataset MultinomialNB Accuracy: 0.9429812216011902\n"
     ]
    }
   ],
   "source": [
    "# Bigram LM without stopword dataset MultinomialNB Accuracy\n",
    "vectorizer = CountVectorizer(ngram_range=(1, 2))\n",
    "text_counts = vectorizer.fit_transform(nostop[\"Clean_text\"])\n",
    "X=text_counts\n",
    "y=nostop[\"Sentiment\"]\n",
    "    # Split the dataset to train, validate, and test subsets\n",
    "X_train, X_test, y_train, y_test = train_test_split(X, y, test_size=0.1, random_state=1)\n",
    "X_train, X_val, y_train, y_val = train_test_split(X_train, y_train, test_size=0.1, random_state=1)\n",
    "\n",
    "    # Model Generation Using Multinomial Naive Bayes\n",
    "clf = MultinomialNB(alpha = 0.9).fit(X_train, y_train)\n",
    "predicted= clf.predict(X_test)\n",
    "    #Import scikit-learn metrics module for accuracy calculation\n",
    "score=metrics.accuracy_score(y_test, predicted) \n",
    "print(\"Bigram LM without stopword dataset MultinomialNB Accuracy:\",score)"
   ]
  },
  {
   "cell_type": "code",
   "execution_count": null,
   "metadata": {},
   "outputs": [],
   "source": [
    "from sklearn.svm import SVC\n",
    "model =SVC(kernel='rbf',probability = True, C=20, gamma=0.005)\n",
    "model.fit(X_train, y_train)\n",
    "proba_value = model.predict_proba(X_test)\n",
    "p = proba_value[:, 1]"
   ]
  },
  {
   "cell_type": "code",
   "execution_count": null,
   "metadata": {},
   "outputs": [],
   "source": [
    "score=metrics.accuracy_score(y_test, p) \n",
    "print(\"SVM=========== ROC-AUC score: %.3f\" % roc_auc_score(y_test, p))"
   ]
  },
  {
   "cell_type": "code",
   "execution_count": 62,
   "metadata": {},
   "outputs": [
    {
     "data": {
      "text/plain": [
       "(201437, 1144973)"
      ]
     },
     "execution_count": 62,
     "metadata": {},
     "output_type": "execute_result"
    }
   ],
   "source": [
    "X_train.shape"
   ]
  },
  {
   "cell_type": "code",
   "execution_count": 63,
   "metadata": {},
   "outputs": [
    {
     "data": {
      "text/plain": [
       "(201437,)"
      ]
     },
     "execution_count": 63,
     "metadata": {},
     "output_type": "execute_result"
    }
   ],
   "source": [
    "y_train.shape"
   ]
  },
  {
   "cell_type": "markdown",
   "metadata": {},
   "source": [
    "# Gensim Word2Vec Implementation:"
   ]
  },
  {
   "cell_type": "code",
   "execution_count": 8,
   "metadata": {},
   "outputs": [],
   "source": [
    "from time import time  # To time our operations\n",
    "import logging  # Setting up the loggings to monitor gensim\n",
    "logging.basicConfig(format=\"%(levelname)s - %(asctime)s: %(message)s\", datefmt= '%H:%M:%S', level=logging.INFO)\n",
    "from gensim.models.phrases import Phrases, Phraser\n",
    "import multiprocessing\n",
    "from gensim.models import Word2Vec"
   ]
  },
  {
   "cell_type": "code",
   "execution_count": 11,
   "metadata": {},
   "outputs": [],
   "source": [
    "text_with_stop=nostop['Clean_text']"
   ]
  },
  {
   "cell_type": "code",
   "execution_count": 12,
   "metadata": {},
   "outputs": [
    {
     "name": "stderr",
     "output_type": "stream",
     "text": [
      "INFO - 10:16:39: collecting all words and their counts\n",
      "INFO - 10:16:39: PROGRESS: at sentence #0, processed 0 words and 0 word types\n",
      "INFO - 10:16:43: PROGRESS: at sentence #10000, processed 2229201 words and 1089 word types\n",
      "INFO - 10:16:46: PROGRESS: at sentence #20000, processed 4486869 words and 1226 word types\n",
      "INFO - 10:16:50: PROGRESS: at sentence #30000, processed 6751195 words and 1377 word types\n",
      "INFO - 10:16:54: PROGRESS: at sentence #40000, processed 8983036 words and 1511 word types\n",
      "INFO - 10:16:57: PROGRESS: at sentence #50000, processed 11204052 words and 1648 word types\n",
      "INFO - 10:17:01: PROGRESS: at sentence #60000, processed 13430896 words and 1869 word types\n",
      "INFO - 10:17:05: PROGRESS: at sentence #70000, processed 15705770 words and 1936 word types\n",
      "INFO - 10:17:08: PROGRESS: at sentence #80000, processed 17908526 words and 2048 word types\n",
      "INFO - 10:17:12: PROGRESS: at sentence #90000, processed 20142981 words and 2123 word types\n",
      "INFO - 10:17:15: PROGRESS: at sentence #100000, processed 22412303 words and 2195 word types\n",
      "INFO - 10:17:19: PROGRESS: at sentence #110000, processed 24652723 words and 2280 word types\n",
      "INFO - 10:17:23: PROGRESS: at sentence #120000, processed 26922748 words and 2347 word types\n",
      "INFO - 10:17:26: PROGRESS: at sentence #130000, processed 29164874 words and 2381 word types\n",
      "INFO - 10:17:30: PROGRESS: at sentence #140000, processed 31427609 words and 2416 word types\n",
      "INFO - 10:17:34: PROGRESS: at sentence #150000, processed 33660403 words and 2455 word types\n",
      "INFO - 10:17:38: PROGRESS: at sentence #160000, processed 35879599 words and 2474 word types\n",
      "INFO - 10:17:41: PROGRESS: at sentence #170000, processed 38132850 words and 2569 word types\n",
      "INFO - 10:17:45: PROGRESS: at sentence #180000, processed 40327622 words and 2651 word types\n",
      "INFO - 10:17:49: PROGRESS: at sentence #190000, processed 42593921 words and 2682 word types\n",
      "INFO - 10:17:53: PROGRESS: at sentence #200000, processed 44814712 words and 2765 word types\n",
      "INFO - 10:17:57: PROGRESS: at sentence #210000, processed 47061035 words and 2792 word types\n",
      "INFO - 10:18:00: PROGRESS: at sentence #220000, processed 49317971 words and 2814 word types\n",
      "INFO - 10:18:04: PROGRESS: at sentence #230000, processed 51579853 words and 2845 word types\n",
      "INFO - 10:18:08: PROGRESS: at sentence #240000, processed 53839780 words and 2877 word types\n",
      "INFO - 10:18:11: collected 2896 word types from a corpus of 55751519 words (unigram + bigrams) and 248688 sentences\n",
      "INFO - 10:18:11: using 2896 counts as vocab in Phrases<0 vocab, min_count=30, threshold=10.0, max_vocab_size=40000000>\n",
      "INFO - 10:18:11: source_vocab length 2896\n",
      "INFO - 10:18:12: Phraser built with 0 phrasegrams\n"
     ]
    }
   ],
   "source": [
    "# Creates the relevant phrases from the list of sentences:\n",
    "phrases = Phrases(text_with_stop, min_count=30, progress_per=10000)\n",
    "# The goal of Phraser() is to cut down memory consumption of Phrases()\n",
    "# by discarding model state not strictly needed for the bigram detection task\n",
    "bigram = Phraser(phrases)\n",
    "#Transform the corpus based on the bigrams detected\n",
    "sentences = bigram[text_with_stop]"
   ]
  },
  {
   "cell_type": "code",
   "execution_count": 13,
   "metadata": {},
   "outputs": [
    {
     "data": {
      "text/plain": [
       "[\"['this', 'one', 'was', 'a', 'real', 'life', 'saver', 'today', 'helps', 'break', 'away', 'the', 'grip', 'of', 'depression', 'and', 'irritability', 'for', 'me', '']\",\n",
       " \"['so', 'quick', 'to', 'melt', 'away', 'the', 'stress', 'and', 'restore', 'a', 'sense', 'or', 'wellbeing', 'i', 'love', 'bb3', 'a', 'lot', 'i', 'think', 'more', 'people', 'should', 'give', 'it', 'a', 'whirl', 'and', 'see', 'if', 'you', 'too', 'wont', 'cozy', 'up', 'to', 'bruce', '']\",\n",
       " \"['this', 'strain', 'is', 'extremely', 'potent', 'the', 'name', 'electric', 'lemonade', 'does', 'not', 'give', 'it', 'justice', 'this', 'is', 'a', 'heavy', 'hitter', 'because', 'of', 'the', 'tahoe', 'og', 'one', 'of', 'the', 'strongest', 'strains', 'the', 'taste', 'is', 'lemonade', 'with', 'some', 'blue', 'dream', 'the', 'strongest', 'indicalike', 'sativa', 'ive', 'ever', 'had', 'very', 'interesting', 'strain', 'that', 'is', 'a', 'must', 'try']\",\n",
       " \"['one', 'of', 'my', 'favorites', 'for', 'going', 'out', 'and', 'having', 'fun', 'must', 'try', 'this', 'strain', 'when', 'going', 'hiking']\",\n",
       " \"['una', 'cosa', 'es', 'segura', 'es', 'una', 'planta', 'feliz', 'que', 'te', 'va', 'a', 'hacer', 'reír', 'y', 'reír', 'excel', 'note', 'para', 'estar', 'como', 'n', 'los', 'amigos', 'disfrutando', '']\",\n",
       " \"['this', 'is', 'not', 'your', 'high', 'school', 'columbian', 'gold', 'but', 'then', 'again', 'it', 'doesnt', 'cost', '5', 'for', 'a', '14', 'ounce', 'this', 'is', 'a', 'nice', 'smooth', 'smoke', 'with', 'an', 'earth', 'taste', 'and', 'just', 'the', 'right', 'amount', 'of', 'mellow', 'and', 'pain', 'relief', 'to', 'get', 'me', 'thru', 'a', 'couple', 'of', 'hours', '420sweepstakes']\",\n",
       " \"['really', 'sweet', 'fruity', 'taste', 'really', 'potent', '']\",\n",
       " \"['strong', 'but', 'smooth', 'inhale', 'and', 'gives', 'a', 'heavy', 'head', 'high', 'recommend', 'it', 'for', 'frequent', 'smokers', 'a']\",\n",
       " \"['smell', 'extremely', 'potent', 'definitely', 'cant', 'hide', 'this', 'one', '']\"]"
      ]
     },
     "execution_count": 13,
     "metadata": {},
     "output_type": "execute_result"
    }
   ],
   "source": [
    "sentences[1:10]"
   ]
  },
  {
   "cell_type": "code",
   "execution_count": 14,
   "metadata": {},
   "outputs": [],
   "source": [
    "cores = multiprocessing.cpu_count() # Count the number of cores in a computer\n",
    "w2v_model = Word2Vec(min_count=20,\n",
    "                     window=2,\n",
    "                     size=300,\n",
    "                     sample=6e-5, \n",
    "                     alpha=0.03, \n",
    "                     min_alpha=0.0007, \n",
    "                     negative=20,\n",
    "                     workers=cores-1)"
   ]
  },
  {
   "cell_type": "code",
   "execution_count": 15,
   "metadata": {},
   "outputs": [
    {
     "name": "stderr",
     "output_type": "stream",
     "text": [
      "INFO - 10:18:40: collecting all words and their counts\n",
      "WARNING - 10:18:40: Each 'sentences' item should be a list of words (usually unicode strings). First item here is instead plain <class 'str'>.\n",
      "INFO - 10:18:40: PROGRESS: at sentence #0, processed 0 words, keeping 0 word types\n",
      "INFO - 10:18:41: PROGRESS: at sentence #10000, processed 2229201 words, keeping 63 word types\n",
      "INFO - 10:18:41: PROGRESS: at sentence #20000, processed 4486869 words, keeping 67 word types\n",
      "INFO - 10:18:41: PROGRESS: at sentence #30000, processed 6751195 words, keeping 85 word types\n",
      "INFO - 10:18:42: PROGRESS: at sentence #40000, processed 8983036 words, keeping 109 word types\n",
      "INFO - 10:18:42: PROGRESS: at sentence #50000, processed 11204483 words, keeping 127 word types\n",
      "INFO - 10:18:42: PROGRESS: at sentence #60000, processed 13431364 words, keeping 140 word types\n",
      "INFO - 10:18:42: PROGRESS: at sentence #70000, processed 15706211 words, keeping 148 word types\n",
      "INFO - 10:18:43: PROGRESS: at sentence #80000, processed 17908710 words, keeping 160 word types\n",
      "INFO - 10:18:43: PROGRESS: at sentence #90000, processed 20142994 words, keeping 169 word types\n",
      "INFO - 10:18:43: PROGRESS: at sentence #100000, processed 22413268 words, keeping 176 word types\n",
      "INFO - 10:18:43: PROGRESS: at sentence #110000, processed 24652916 words, keeping 197 word types\n",
      "INFO - 10:18:44: PROGRESS: at sentence #120000, processed 26923848 words, keeping 209 word types\n",
      "INFO - 10:18:44: PROGRESS: at sentence #130000, processed 29165147 words, keeping 213 word types\n",
      "INFO - 10:18:44: PROGRESS: at sentence #140000, processed 31428017 words, keeping 215 word types\n",
      "INFO - 10:18:45: PROGRESS: at sentence #150000, processed 33661703 words, keeping 224 word types\n",
      "INFO - 10:18:45: PROGRESS: at sentence #160000, processed 35880030 words, keeping 227 word types\n",
      "INFO - 10:18:45: PROGRESS: at sentence #170000, processed 38133186 words, keeping 239 word types\n",
      "INFO - 10:18:45: PROGRESS: at sentence #180000, processed 40328051 words, keeping 262 word types\n",
      "INFO - 10:18:46: PROGRESS: at sentence #190000, processed 42595323 words, keeping 269 word types\n",
      "INFO - 10:18:46: PROGRESS: at sentence #200000, processed 44815462 words, keeping 297 word types\n",
      "INFO - 10:18:46: PROGRESS: at sentence #210000, processed 47061399 words, keeping 302 word types\n",
      "INFO - 10:18:47: PROGRESS: at sentence #220000, processed 49318754 words, keeping 304 word types\n",
      "INFO - 10:18:47: PROGRESS: at sentence #230000, processed 51581353 words, keeping 305 word types\n",
      "INFO - 10:18:47: PROGRESS: at sentence #240000, processed 53841328 words, keeping 311 word types\n",
      "INFO - 10:18:48: collected 316 word types from a corpus of 55751519 raw words and 248682 sentences\n",
      "INFO - 10:18:48: Loading a fresh vocabulary\n",
      "INFO - 10:18:48: effective_min_count=20 retains 79 unique words (25% of original 316, drops 237)\n",
      "INFO - 10:18:48: effective_min_count=20 leaves 55750900 word corpus (99% of original 55751519, drops 619)\n",
      "INFO - 10:18:48: deleting the raw counts dictionary of 316 items\n",
      "INFO - 10:18:48: sample=6e-05 downsamples 37 most-common words\n",
      "INFO - 10:18:48: downsampling leaves estimated 2176741 word corpus (3.9% of prior 55750900)\n",
      "INFO - 10:18:48: estimated required memory for 79 words and 300 dimensions: 229100 bytes\n",
      "INFO - 10:18:48: resetting layer weights\n"
     ]
    },
    {
     "name": "stdout",
     "output_type": "stream",
     "text": [
      "Time to build vocab: 0.12 mins\n"
     ]
    }
   ],
   "source": [
    "t = time()\n",
    "\n",
    "w2v_model.build_vocab(sentences, progress_per=10000)\n",
    "\n",
    "print('Time to build vocab: {} mins'.format(round((time() - t) / 60, 2)))"
   ]
  },
  {
   "cell_type": "code",
   "execution_count": 16,
   "metadata": {},
   "outputs": [
    {
     "name": "stderr",
     "output_type": "stream",
     "text": [
      "INFO - 10:19:34: training model with 3 workers on 79 vocabulary and 300 features, using sg=0 hs=0 sample=6e-05 negative=20 window=2\n",
      "INFO - 10:19:35: EPOCH 1 - PROGRESS: at 6.45% examples, 140418 words/s, in_qsize 6, out_qsize 0\n",
      "INFO - 10:19:36: EPOCH 1 - PROGRESS: at 13.32% examples, 145441 words/s, in_qsize 5, out_qsize 0\n",
      "INFO - 10:19:37: EPOCH 1 - PROGRESS: at 20.71% examples, 149777 words/s, in_qsize 4, out_qsize 2\n",
      "INFO - 10:19:38: EPOCH 1 - PROGRESS: at 31.26% examples, 169754 words/s, in_qsize 6, out_qsize 3\n",
      "INFO - 10:19:39: EPOCH 1 - PROGRESS: at 40.34% examples, 175376 words/s, in_qsize 5, out_qsize 0\n",
      "INFO - 10:19:40: EPOCH 1 - PROGRESS: at 48.57% examples, 176221 words/s, in_qsize 5, out_qsize 0\n",
      "INFO - 10:19:41: EPOCH 1 - PROGRESS: at 57.00% examples, 177366 words/s, in_qsize 5, out_qsize 0\n",
      "INFO - 10:19:42: EPOCH 1 - PROGRESS: at 64.39% examples, 175038 words/s, in_qsize 5, out_qsize 1\n",
      "INFO - 10:19:43: EPOCH 1 - PROGRESS: at 75.49% examples, 182324 words/s, in_qsize 5, out_qsize 0\n",
      "INFO - 10:19:44: EPOCH 1 - PROGRESS: at 86.62% examples, 188339 words/s, in_qsize 5, out_qsize 0\n",
      "INFO - 10:19:45: EPOCH 1 - PROGRESS: at 97.92% examples, 193649 words/s, in_qsize 5, out_qsize 0\n",
      "INFO - 10:19:45: worker thread finished; awaiting finish of 2 more threads\n",
      "INFO - 10:19:45: worker thread finished; awaiting finish of 1 more threads\n",
      "INFO - 10:19:45: worker thread finished; awaiting finish of 0 more threads\n",
      "INFO - 10:19:45: EPOCH - 1 : training on 55751519 raw words (2178546 effective words) took 11.2s, 194425 effective words/s\n",
      "INFO - 10:19:46: EPOCH 2 - PROGRESS: at 10.84% examples, 236667 words/s, in_qsize 5, out_qsize 0\n",
      "INFO - 10:19:47: EPOCH 2 - PROGRESS: at 19.93% examples, 216331 words/s, in_qsize 5, out_qsize 0\n",
      "INFO - 10:19:48: EPOCH 2 - PROGRESS: at 28.67% examples, 207524 words/s, in_qsize 5, out_qsize 0\n",
      "INFO - 10:19:49: EPOCH 2 - PROGRESS: at 38.77% examples, 210166 words/s, in_qsize 4, out_qsize 2\n",
      "INFO - 10:19:50: EPOCH 2 - PROGRESS: at 47.15% examples, 204536 words/s, in_qsize 3, out_qsize 4\n",
      "INFO - 10:19:51: EPOCH 2 - PROGRESS: at 55.08% examples, 199173 words/s, in_qsize 5, out_qsize 1\n",
      "INFO - 10:19:52: EPOCH 2 - PROGRESS: at 66.42% examples, 205853 words/s, in_qsize 5, out_qsize 1\n",
      "INFO - 10:19:53: EPOCH 2 - PROGRESS: at 76.96% examples, 208702 words/s, in_qsize 5, out_qsize 1\n",
      "INFO - 10:19:54: EPOCH 2 - PROGRESS: at 88.50% examples, 213358 words/s, in_qsize 5, out_qsize 0\n",
      "INFO - 10:19:55: worker thread finished; awaiting finish of 2 more threads\n",
      "INFO - 10:19:55: worker thread finished; awaiting finish of 1 more threads\n",
      "INFO - 10:19:55: worker thread finished; awaiting finish of 0 more threads\n",
      "INFO - 10:19:55: EPOCH - 2 : training on 55751519 raw words (2175609 effective words) took 10.0s, 217018 effective words/s\n",
      "INFO - 10:19:56: EPOCH 3 - PROGRESS: at 10.76% examples, 235030 words/s, in_qsize 3, out_qsize 2\n",
      "INFO - 10:19:57: EPOCH 3 - PROGRESS: at 21.44% examples, 232358 words/s, in_qsize 5, out_qsize 0\n",
      "INFO - 10:19:58: EPOCH 3 - PROGRESS: at 31.41% examples, 227281 words/s, in_qsize 5, out_qsize 0\n",
      "INFO - 10:19:59: EPOCH 3 - PROGRESS: at 40.69% examples, 220948 words/s, in_qsize 4, out_qsize 2\n",
      "INFO - 10:20:00: EPOCH 3 - PROGRESS: at 51.28% examples, 222964 words/s, in_qsize 5, out_qsize 0\n",
      "INFO - 10:20:01: EPOCH 3 - PROGRESS: at 61.44% examples, 222610 words/s, in_qsize 5, out_qsize 3\n",
      "INFO - 10:20:02: EPOCH 3 - PROGRESS: at 72.56% examples, 224981 words/s, in_qsize 5, out_qsize 0\n",
      "INFO - 10:20:03: EPOCH 3 - PROGRESS: at 83.35% examples, 226139 words/s, in_qsize 5, out_qsize 1\n",
      "INFO - 10:20:04: EPOCH 3 - PROGRESS: at 92.38% examples, 222848 words/s, in_qsize 5, out_qsize 0\n",
      "INFO - 10:20:05: EPOCH 3 - PROGRESS: at 99.33% examples, 215588 words/s, in_qsize 6, out_qsize 0\n",
      "INFO - 10:20:05: worker thread finished; awaiting finish of 2 more threads\n",
      "INFO - 10:20:05: worker thread finished; awaiting finish of 1 more threads\n",
      "INFO - 10:20:05: worker thread finished; awaiting finish of 0 more threads\n",
      "INFO - 10:20:05: EPOCH - 3 : training on 55751519 raw words (2174987 effective words) took 10.1s, 215261 effective words/s\n",
      "INFO - 10:20:06: EPOCH 4 - PROGRESS: at 10.89% examples, 237306 words/s, in_qsize 6, out_qsize 0\n",
      "INFO - 10:20:07: EPOCH 4 - PROGRESS: at 20.35% examples, 220257 words/s, in_qsize 4, out_qsize 1\n",
      "INFO - 10:20:08: EPOCH 4 - PROGRESS: at 30.33% examples, 219215 words/s, in_qsize 5, out_qsize 0\n",
      "INFO - 10:20:09: EPOCH 4 - PROGRESS: at 39.72% examples, 215498 words/s, in_qsize 5, out_qsize 0\n",
      "INFO - 10:20:10: EPOCH 4 - PROGRESS: at 50.47% examples, 219429 words/s, in_qsize 5, out_qsize 0\n",
      "INFO - 10:20:11: EPOCH 4 - PROGRESS: at 59.54% examples, 215578 words/s, in_qsize 4, out_qsize 1\n",
      "INFO - 10:20:12: EPOCH 4 - PROGRESS: at 68.40% examples, 212144 words/s, in_qsize 5, out_qsize 3\n",
      "INFO - 10:20:13: EPOCH 4 - PROGRESS: at 76.72% examples, 208143 words/s, in_qsize 4, out_qsize 1\n",
      "INFO - 10:20:14: EPOCH 4 - PROGRESS: at 85.40% examples, 205907 words/s, in_qsize 5, out_qsize 1\n",
      "INFO - 10:20:15: EPOCH 4 - PROGRESS: at 93.81% examples, 203763 words/s, in_qsize 4, out_qsize 2\n",
      "INFO - 10:20:16: worker thread finished; awaiting finish of 2 more threads\n",
      "INFO - 10:20:16: worker thread finished; awaiting finish of 1 more threads\n",
      "INFO - 10:20:16: worker thread finished; awaiting finish of 0 more threads\n",
      "INFO - 10:20:16: EPOCH - 4 : training on 55751519 raw words (2176328 effective words) took 10.6s, 204700 effective words/s\n",
      "INFO - 10:20:17: EPOCH 5 - PROGRESS: at 10.31% examples, 224355 words/s, in_qsize 5, out_qsize 1\n",
      "INFO - 10:20:18: EPOCH 5 - PROGRESS: at 20.88% examples, 226077 words/s, in_qsize 5, out_qsize 0\n",
      "INFO - 10:20:19: EPOCH 5 - PROGRESS: at 31.89% examples, 230069 words/s, in_qsize 6, out_qsize 5\n",
      "INFO - 10:20:20: EPOCH 5 - PROGRESS: at 41.79% examples, 226363 words/s, in_qsize 5, out_qsize 3\n",
      "INFO - 10:20:21: EPOCH 5 - PROGRESS: at 51.39% examples, 223098 words/s, in_qsize 5, out_qsize 0\n",
      "INFO - 10:20:22: EPOCH 5 - PROGRESS: at 60.22% examples, 217836 words/s, in_qsize 4, out_qsize 1\n",
      "INFO - 10:20:23: EPOCH 5 - PROGRESS: at 69.80% examples, 216188 words/s, in_qsize 5, out_qsize 2\n",
      "INFO - 10:20:24: EPOCH 5 - PROGRESS: at 80.45% examples, 218050 words/s, in_qsize 5, out_qsize 2\n",
      "INFO - 10:20:25: EPOCH 5 - PROGRESS: at 90.81% examples, 218892 words/s, in_qsize 5, out_qsize 0\n",
      "INFO - 10:20:26: worker thread finished; awaiting finish of 2 more threads\n",
      "INFO - 10:20:26: worker thread finished; awaiting finish of 1 more threads\n",
      "INFO - 10:20:26: worker thread finished; awaiting finish of 0 more threads\n",
      "INFO - 10:20:26: EPOCH - 5 : training on 55751519 raw words (2175880 effective words) took 9.9s, 218704 effective words/s\n",
      "INFO - 10:20:27: EPOCH 6 - PROGRESS: at 10.48% examples, 229494 words/s, in_qsize 5, out_qsize 1\n",
      "INFO - 10:20:28: EPOCH 6 - PROGRESS: at 21.29% examples, 231144 words/s, in_qsize 5, out_qsize 0\n",
      "INFO - 10:20:29: EPOCH 6 - PROGRESS: at 29.40% examples, 212921 words/s, in_qsize 5, out_qsize 1\n",
      "INFO - 10:20:30: EPOCH 6 - PROGRESS: at 38.18% examples, 206823 words/s, in_qsize 5, out_qsize 1\n",
      "INFO - 10:20:31: EPOCH 6 - PROGRESS: at 49.18% examples, 213996 words/s, in_qsize 5, out_qsize 0\n",
      "INFO - 10:20:32: EPOCH 6 - PROGRESS: at 60.56% examples, 219595 words/s, in_qsize 5, out_qsize 0\n",
      "INFO - 10:20:33: EPOCH 6 - PROGRESS: at 72.01% examples, 223499 words/s, in_qsize 5, out_qsize 0\n",
      "INFO - 10:20:34: EPOCH 6 - PROGRESS: at 83.43% examples, 226686 words/s, in_qsize 5, out_qsize 0\n",
      "INFO - 10:20:35: EPOCH 6 - PROGRESS: at 94.22% examples, 227694 words/s, in_qsize 5, out_qsize 1\n",
      "INFO - 10:20:36: worker thread finished; awaiting finish of 2 more threads\n",
      "INFO - 10:20:36: worker thread finished; awaiting finish of 1 more threads\n",
      "INFO - 10:20:36: worker thread finished; awaiting finish of 0 more threads\n",
      "INFO - 10:20:36: EPOCH - 6 : training on 55751519 raw words (2177330 effective words) took 9.6s, 227197 effective words/s\n",
      "INFO - 10:20:37: EPOCH 7 - PROGRESS: at 9.22% examples, 200957 words/s, in_qsize 5, out_qsize 0\n",
      "INFO - 10:20:38: EPOCH 7 - PROGRESS: at 19.80% examples, 214442 words/s, in_qsize 4, out_qsize 1\n",
      "INFO - 10:20:39: EPOCH 7 - PROGRESS: at 28.70% examples, 207521 words/s, in_qsize 4, out_qsize 1\n",
      "INFO - 10:20:40: EPOCH 7 - PROGRESS: at 36.17% examples, 195852 words/s, in_qsize 5, out_qsize 0\n"
     ]
    },
    {
     "name": "stderr",
     "output_type": "stream",
     "text": [
      "INFO - 10:20:41: EPOCH 7 - PROGRESS: at 43.16% examples, 187363 words/s, in_qsize 5, out_qsize 0\n",
      "INFO - 10:20:42: EPOCH 7 - PROGRESS: at 52.05% examples, 188591 words/s, in_qsize 5, out_qsize 1\n",
      "INFO - 10:20:43: EPOCH 7 - PROGRESS: at 62.08% examples, 192738 words/s, in_qsize 5, out_qsize 4\n",
      "INFO - 10:20:44: EPOCH 7 - PROGRESS: at 71.53% examples, 194065 words/s, in_qsize 5, out_qsize 0\n",
      "INFO - 10:20:45: EPOCH 7 - PROGRESS: at 80.99% examples, 195235 words/s, in_qsize 4, out_qsize 4\n",
      "INFO - 10:20:46: EPOCH 7 - PROGRESS: at 89.95% examples, 195229 words/s, in_qsize 5, out_qsize 0\n",
      "INFO - 10:20:47: EPOCH 7 - PROGRESS: at 97.63% examples, 192755 words/s, in_qsize 5, out_qsize 0\n",
      "INFO - 10:20:47: worker thread finished; awaiting finish of 2 more threads\n",
      "INFO - 10:20:47: worker thread finished; awaiting finish of 1 more threads\n",
      "INFO - 10:20:47: worker thread finished; awaiting finish of 0 more threads\n",
      "INFO - 10:20:47: EPOCH - 7 : training on 55751519 raw words (2178236 effective words) took 11.3s, 192975 effective words/s\n",
      "INFO - 10:20:48: EPOCH 8 - PROGRESS: at 9.50% examples, 207991 words/s, in_qsize 5, out_qsize 0\n",
      "INFO - 10:20:49: EPOCH 8 - PROGRESS: at 18.38% examples, 199329 words/s, in_qsize 4, out_qsize 1\n",
      "INFO - 10:20:50: EPOCH 8 - PROGRESS: at 25.53% examples, 184970 words/s, in_qsize 5, out_qsize 0\n",
      "INFO - 10:20:51: EPOCH 8 - PROGRESS: at 34.05% examples, 184930 words/s, in_qsize 5, out_qsize 0\n",
      "INFO - 10:20:52: EPOCH 8 - PROGRESS: at 44.65% examples, 193985 words/s, in_qsize 5, out_qsize 1\n",
      "INFO - 10:20:53: EPOCH 8 - PROGRESS: at 54.20% examples, 196179 words/s, in_qsize 6, out_qsize 0\n",
      "INFO - 10:20:54: EPOCH 8 - PROGRESS: at 63.49% examples, 197074 words/s, in_qsize 6, out_qsize 0\n",
      "INFO - 10:20:55: EPOCH 8 - PROGRESS: at 73.97% examples, 200686 words/s, in_qsize 5, out_qsize 0\n",
      "INFO - 10:20:56: EPOCH 8 - PROGRESS: at 83.91% examples, 202459 words/s, in_qsize 5, out_qsize 0\n",
      "INFO - 10:20:57: EPOCH 8 - PROGRESS: at 94.10% examples, 204543 words/s, in_qsize 5, out_qsize 0\n",
      "INFO - 10:20:58: worker thread finished; awaiting finish of 2 more threads\n",
      "INFO - 10:20:58: worker thread finished; awaiting finish of 1 more threads\n",
      "INFO - 10:20:58: worker thread finished; awaiting finish of 0 more threads\n",
      "INFO - 10:20:58: EPOCH - 8 : training on 55751519 raw words (2177197 effective words) took 10.6s, 204709 effective words/s\n",
      "INFO - 10:20:59: EPOCH 9 - PROGRESS: at 8.33% examples, 181251 words/s, in_qsize 5, out_qsize 0\n",
      "INFO - 10:21:00: EPOCH 9 - PROGRESS: at 19.18% examples, 207758 words/s, in_qsize 4, out_qsize 2\n",
      "INFO - 10:21:01: EPOCH 9 - PROGRESS: at 28.41% examples, 205677 words/s, in_qsize 5, out_qsize 4\n",
      "INFO - 10:21:02: EPOCH 9 - PROGRESS: at 37.34% examples, 202366 words/s, in_qsize 4, out_qsize 1\n",
      "INFO - 10:21:03: EPOCH 9 - PROGRESS: at 44.79% examples, 194287 words/s, in_qsize 5, out_qsize 0\n",
      "INFO - 10:21:04: EPOCH 9 - PROGRESS: at 55.78% examples, 201987 words/s, in_qsize 5, out_qsize 1\n",
      "INFO - 10:21:05: EPOCH 9 - PROGRESS: at 65.40% examples, 202748 words/s, in_qsize 5, out_qsize 0\n",
      "INFO - 10:21:06: EPOCH 9 - PROGRESS: at 74.54% examples, 202104 words/s, in_qsize 4, out_qsize 2\n",
      "INFO - 10:21:07: EPOCH 9 - PROGRESS: at 82.81% examples, 199520 words/s, in_qsize 6, out_qsize 0\n",
      "INFO - 10:21:08: EPOCH 9 - PROGRESS: at 91.46% examples, 198416 words/s, in_qsize 6, out_qsize 0\n",
      "INFO - 10:21:08: worker thread finished; awaiting finish of 2 more threads\n",
      "INFO - 10:21:08: worker thread finished; awaiting finish of 1 more threads\n",
      "INFO - 10:21:08: worker thread finished; awaiting finish of 0 more threads\n",
      "INFO - 10:21:08: EPOCH - 9 : training on 55751519 raw words (2174698 effective words) took 10.9s, 199600 effective words/s\n",
      "INFO - 10:21:09: EPOCH 10 - PROGRESS: at 8.65% examples, 188930 words/s, in_qsize 6, out_qsize 0\n",
      "INFO - 10:21:10: EPOCH 10 - PROGRESS: at 17.37% examples, 188283 words/s, in_qsize 5, out_qsize 2\n",
      "INFO - 10:21:11: EPOCH 10 - PROGRESS: at 27.53% examples, 199508 words/s, in_qsize 4, out_qsize 5\n",
      "INFO - 10:21:12: EPOCH 10 - PROGRESS: at 38.42% examples, 208597 words/s, in_qsize 5, out_qsize 0\n",
      "INFO - 10:21:13: EPOCH 10 - PROGRESS: at 47.93% examples, 208401 words/s, in_qsize 5, out_qsize 2\n",
      "INFO - 10:21:15: EPOCH 10 - PROGRESS: at 58.41% examples, 211731 words/s, in_qsize 5, out_qsize 0\n",
      "INFO - 10:21:16: EPOCH 10 - PROGRESS: at 68.68% examples, 213323 words/s, in_qsize 5, out_qsize 0\n",
      "INFO - 10:21:17: EPOCH 10 - PROGRESS: at 79.32% examples, 215365 words/s, in_qsize 5, out_qsize 0\n",
      "INFO - 10:21:18: EPOCH 10 - PROGRESS: at 89.19% examples, 215250 words/s, in_qsize 5, out_qsize 0\n",
      "INFO - 10:21:19: EPOCH 10 - PROGRESS: at 98.93% examples, 214930 words/s, in_qsize 5, out_qsize 0\n",
      "INFO - 10:21:19: worker thread finished; awaiting finish of 2 more threads\n",
      "INFO - 10:21:19: worker thread finished; awaiting finish of 1 more threads\n",
      "INFO - 10:21:19: worker thread finished; awaiting finish of 0 more threads\n",
      "INFO - 10:21:19: EPOCH - 10 : training on 55751519 raw words (2176774 effective words) took 10.1s, 215120 effective words/s\n",
      "INFO - 10:21:19: training on a 557515190 raw words (21765585 effective words) took 104.6s, 208068 effective words/s\n"
     ]
    },
    {
     "name": "stdout",
     "output_type": "stream",
     "text": [
      "Time to train the model: 1.74 mins\n"
     ]
    }
   ],
   "source": [
    "t = time()\n",
    "\n",
    "w2v_model.train(sentences, total_examples=w2v_model.corpus_count, epochs=10, report_delay=1)\n",
    "\n",
    "print('Time to train the model: {} mins'.format(round((time() - t) / 60, 2)))"
   ]
  },
  {
   "cell_type": "code",
   "execution_count": null,
   "metadata": {},
   "outputs": [],
   "source": [
    "# Bigram LM without stopword dataset MultinomialNB Accuracy\n",
    "vectorizer = CountVectorizer(ngram_range=(2, 2))\n",
    "text_counts = vectorizer.fit_transform(nostop[\"Clean_text\"])\n",
    "X=text_counts\n",
    "y=nostop[\"Sentiment\"]\n",
    "    # Split the dataset to train, validate, and test subsets\n",
    "X_train, X_test, y_train, y_test = train_test_split(X, y, test_size=0.1, random_state=1)\n",
    "X_train, X_val, y_train, y_val = train_test_split(X_train, y_train, test_size=0.1, random_state=1)\n",
    "\n",
    "    # Model Generation Using Multinomial Naive Bayes\n",
    "clf = MultinomialNB(alpha = 0.9).fit(X_train, y_train)\n",
    "predicted= clf.predict(X_test)\n",
    "    #Import scikit-learn metrics module for accuracy calculation\n",
    "score=metrics.accuracy_score(y_test, predicted) \n",
    "print(\"Bigram LM without stopword dataset MultinomialNB Accuracy:\",score)\n",
    "\n"
   ]
  },
  {
   "cell_type": "code",
   "execution_count": null,
   "metadata": {},
   "outputs": [],
   "source": []
  },
  {
   "cell_type": "code",
   "execution_count": null,
   "metadata": {},
   "outputs": [],
   "source": []
  },
  {
   "cell_type": "code",
   "execution_count": null,
   "metadata": {},
   "outputs": [],
   "source": []
  },
  {
   "cell_type": "code",
   "execution_count": null,
   "metadata": {},
   "outputs": [],
   "source": []
  }
 ],
 "metadata": {
  "kernelspec": {
   "display_name": "Python 3",
   "language": "python",
   "name": "python3"
  },
  "language_info": {
   "codemirror_mode": {
    "name": "ipython",
    "version": 3
   },
   "file_extension": ".py",
   "mimetype": "text/x-python",
   "name": "python",
   "nbconvert_exporter": "python",
   "pygments_lexer": "ipython3",
   "version": "3.7.3"
  }
 },
 "nbformat": 4,
 "nbformat_minor": 2
}
