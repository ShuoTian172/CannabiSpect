{
 "cells": [
  {
   "cell_type": "code",
   "execution_count": 16,
   "metadata": {},
   "outputs": [],
   "source": [
    "import pandas as pd\n",
    "import re\n",
    "import codecs\n",
    "import sys\n",
    "import nltk\n",
    "import numpy as np\n",
    "from nltk.corpus import stopwords\n",
    "import string\n",
    "import pandas as pd\n",
    "from sklearn.utils import shuffle\n",
    "from sklearn.feature_extraction.text import CountVectorizer\n",
    "from sklearn.model_selection import train_test_split\n",
    "from sklearn.naive_bayes import MultinomialNB\n",
    "from sklearn import metrics\n",
    "import seaborn as sns\n",
    "import matplotlib.pyplot as plt\n",
    "from sklearn.metrics import roc_auc_score\n",
    "%matplotlib inline"
   ]
  },
  {
   "cell_type": "code",
   "execution_count": null,
   "metadata": {},
   "outputs": [],
   "source": [
    "# Function to remove Stopwords\n",
    "def remove_stopwords(line):\n",
    "    \n",
    "    stop_words = set(stopwords.words('english'))\n",
    "    line = [w for w in line if not w in stop_words]\n",
    "    return line\n",
    "\n",
    "#Function to remove Punctuation and normalize characters to lowercase\n",
    "def remove_punc_lower(line):\n",
    "    line=\"\".join([char for char in line if char not in string.punctuation])\n",
    "    line=line.lower()\n",
    "    return line\n",
    "\n",
    "# Function to Tokenize words\n",
    "def tokenize(line):\n",
    "    tokens = re.split('\\W+', line)\n",
    "    return tokens\n",
    "\n",
    "if __name__ == \"__main__\":\n",
    "    input_path = 'neg.txt'\n",
    "    f=open(input_path)\n",
    "    pos=f.read().split('\\n')\n",
    "    pos_stop=[]\n",
    "    pos_no_stop=[]\n",
    "    for i in range (len(pos)):\n",
    "        p=tokenize(remove_punc_lower(pos[i]))\n",
    "        pos_no_stop.append(p)\n",
    "#         p=remove_stopwords(p)\n",
    "#         pos_stop.append(p)\n",
    "#     train_list,val_list=train_test_split(pos_stop,train_size=0.8,random_state=0)\n",
    "#     val_list,test_list=train_test_split(val_list,test_size=0.5,random_state=0)\n",
    "#     np.savetxt(\"train.csv\", train_list, delimiter=\",\",fmt='%s')\n",
    "#     np.savetxt(\"val.csv\", val_list, delimiter=\",\", fmt='%s')\n",
    "#     np.savetxt(\"test.csv\", test_list, delimiter=\",\", fmt='%s')\n",
    "    train_list_no_stopword,val_list_no_stopword=train_test_split(pos_no_stop,train_size=0.8,random_state=0)\n",
    "    val_list_no_stopword,test_list_no_stopword=train_test_split(val_list_no_stopword,test_size=0.5,random_state=0)\n",
    "    np.savetxt(\"train_no_stopword.csv\", train_list_no_stopword,delimiter=\",\", fmt='%s')\n",
    "    np.savetxt(\"val_no_stopword.csv\", val_list_no_stopword,delimiter=\",\", fmt='%s')\n",
    "    np.savetxt(\"test_no_stopword.csv\", test_list_no_stopword,delimiter=\",\", fmt='%s')"
   ]
  },
  {
   "cell_type": "code",
   "execution_count": 2,
   "metadata": {},
   "outputs": [],
   "source": [
    "# open without stopword cleaned datasets\n",
    "pos_train_no_stopword=open(\"../input/positive/train_no_stopword.csv\")\n",
    "pos_val_no_stopword=open(\"../input/positive/val_no_stopword.csv\")\n",
    "pos_test_no_stopword=open(\"../input/positive/test_no_stopword.csv\")\n",
    "\n",
    "neg_train_no_stopword=open(\"../input/negative/train_no_stopword.csv\")\n",
    "neg_val_no_stopword=open(\"../input/negative/val_no_stopword.csv\")\n",
    "neg_test_no_stopword=open(\"../input/negative/test_no_stopword.csv\")\n",
    "\n",
    "# Read without stopword cleaned datasets by line\n",
    "pos_nostop_train=pos_train_no_stopword.read().split('\\n')\n",
    "pos_nostop_val=pos_val_no_stopword.read().split('\\n')\n",
    "pos_nostop_test=pos_test_no_stopword.read().split('\\n')\n",
    "neg_nostop_train=neg_train_no_stopword.read().split('\\n')\n",
    "neg_nostop_val=neg_val_no_stopword.read().split('\\n')\n",
    "neg_nostop_test=neg_test_no_stopword.read().split('\\n')\n",
    "# Convert without stopword cleaned datasets to DataFrame\n",
    "pos_nostop_train= pd.DataFrame(pos_nostop_train, columns=[\"Clean_text\"])\n",
    "pos_nostop_val= pd.DataFrame(pos_nostop_val, columns=[\"Clean_text\"])\n",
    "pos_nostop_test= pd.DataFrame(pos_nostop_test, columns=[\"Clean_text\"])\n",
    "neg_nostop_train= pd.DataFrame(neg_nostop_train, columns=[\"Clean_text\"])\n",
    "neg_nostop_val= pd.DataFrame(neg_nostop_val, columns=[\"Clean_text\"])\n",
    "neg_nostop_test= pd.DataFrame(neg_nostop_test, columns=[\"Clean_text\"])\n",
    "# Add a new column 'Sentiment'\n",
    "pos_nostop_train[\"Sentiment\"]=1\n",
    "pos_nostop_val[\"Sentiment\"]=1\n",
    "pos_nostop_test[\"Sentiment\"]=1\n",
    "neg_nostop_train[\"Sentiment\"]=0\n",
    "neg_nostop_val[\"Sentiment\"]=0\n",
    "neg_nostop_test[\"Sentiment\"]=0\n",
    "# Combine all the datasets above \n",
    "nostop= shuffle(pd.concat([pos_nostop_train, neg_nostop_train,pos_nostop_val,neg_nostop_val,pos_nostop_test, neg_nostop_test]))"
   ]
  },
  {
   "cell_type": "code",
   "execution_count": 3,
   "metadata": {},
   "outputs": [
    {
     "data": {
      "text/html": [
       "<div>\n",
       "<style scoped>\n",
       "    .dataframe tbody tr th:only-of-type {\n",
       "        vertical-align: middle;\n",
       "    }\n",
       "\n",
       "    .dataframe tbody tr th {\n",
       "        vertical-align: top;\n",
       "    }\n",
       "\n",
       "    .dataframe thead th {\n",
       "        text-align: right;\n",
       "    }\n",
       "</style>\n",
       "<table border=\"1\" class=\"dataframe\">\n",
       "  <thead>\n",
       "    <tr style=\"text-align: right;\">\n",
       "      <th></th>\n",
       "      <th>Clean_text</th>\n",
       "      <th>Sentiment</th>\n",
       "    </tr>\n",
       "  </thead>\n",
       "  <tbody>\n",
       "    <tr>\n",
       "      <th>94234</th>\n",
       "      <td>['its', 'almost', 'the', 'kind', 'of', 'sativa...</td>\n",
       "      <td>1</td>\n",
       "    </tr>\n",
       "    <tr>\n",
       "      <th>95391</th>\n",
       "      <td>['']</td>\n",
       "      <td>1</td>\n",
       "    </tr>\n",
       "    <tr>\n",
       "      <th>36964</th>\n",
       "      <td>['gives', 'one', 'of', 'my', 'favorite', 'head...</td>\n",
       "      <td>1</td>\n",
       "    </tr>\n",
       "    <tr>\n",
       "      <th>37801</th>\n",
       "      <td>['let', 'me', 'relax', 'and', 'do', 'things', ...</td>\n",
       "      <td>1</td>\n",
       "    </tr>\n",
       "    <tr>\n",
       "      <th>103008</th>\n",
       "      <td>['i', 'was', 'just', 'chilling', 'at', 'my', '...</td>\n",
       "      <td>1</td>\n",
       "    </tr>\n",
       "  </tbody>\n",
       "</table>\n",
       "</div>"
      ],
      "text/plain": [
       "                                               Clean_text  Sentiment\n",
       "94234   ['its', 'almost', 'the', 'kind', 'of', 'sativa...          1\n",
       "95391                                                ['']          1\n",
       "36964   ['gives', 'one', 'of', 'my', 'favorite', 'head...          1\n",
       "37801   ['let', 'me', 'relax', 'and', 'do', 'things', ...          1\n",
       "103008  ['i', 'was', 'just', 'chilling', 'at', 'my', '...          1"
      ]
     },
     "execution_count": 3,
     "metadata": {},
     "output_type": "execute_result"
    }
   ],
   "source": [
    "nostop.head()"
   ]
  },
  {
   "cell_type": "code",
   "execution_count": 18,
   "metadata": {},
   "outputs": [
    {
     "name": "stderr",
     "output_type": "stream",
     "text": [
      "/anaconda3/lib/python3.7/site-packages/sklearn/naive_bayes.py:480: UserWarning: alpha too small will result in numeric errors, setting alpha = 1.0e-10\n",
      "  'setting alpha = %.1e' % _ALPHA_MIN)\n"
     ]
    },
    {
     "data": {
      "text/plain": [
       "Text(0, 0.5, 'roc_auc_score')"
      ]
     },
     "execution_count": 18,
     "metadata": {},
     "output_type": "execute_result"
    },
    {
     "data": {
      "image/png": "[encoded data removed]",
      "text/plain": [
       "<Figure size 720x432 with 1 Axes>"
      ]
     },
     "metadata": {
      "needs_background": "light"
     },
     "output_type": "display_data"
    }
   ],
   "source": [
    "# Tune the parameter of alpha\n",
    "\n",
    "#Unigram LM without stopword dataset\n",
    "vectorizer = CountVectorizer(ngram_range=(1, 2))\n",
    "text_counts = vectorizer.fit_transform(nostop[\"Clean_text\"])\n",
    "X=text_counts\n",
    "y=nostop[\"Sentiment\"]\n",
    "\n",
    "# Split the dataset to train, validate, and test subsets\n",
    "X_train, X_test, y_train, y_test = train_test_split(X, y, test_size=0.1, random_state=1)\n",
    "X_train, X_val, y_train, y_val = train_test_split(X_train, y_train, test_size=0.1, random_state=1)\n",
    "\n",
    "rscore = []\n",
    "for i in np.arange(0.0, 3.0, 0.3):\n",
    "    clf = MultinomialNB(alpha=i).fit(X_train, y_train)\n",
    "    proba_value = clf.predict_proba(X_test)\n",
    "    p = np.array(proba_value[:, 1])\n",
    "    # print(\"MultinomialNB Accuracy:\",metrics.accuracy_score(y_nostop_val, predicted))\n",
    "    y_test=np.array(y_test)\n",
    "    score=roc_auc_score(y_test, p)\n",
    "    rscore.append(score)\n",
    "\n",
    "plt.figure(figsize=(10,6))\n",
    "plt.plot(np.arange(0.0, 3.0, 0.3),rscore, color='blue',linestyle='dashed',marker='o', markerfacecolor='red', markersize='10')\n",
    "plt.xlabel('Val of alpha')\n",
    "plt.ylabel('roc_auc_score')"
   ]
  },
  {
   "cell_type": "code",
   "execution_count": 19,
   "metadata": {},
   "outputs": [
    {
     "name": "stdout",
     "output_type": "stream",
     "text": [
      "Bigram LM without stopword dataset MultinomialNB =========== ROC-AUC score: 0.706\n"
     ]
    }
   ],
   "source": [
    "# Bigram LM without stopword dataset MultinomialNB Accuracy\n",
    "vectorizer = CountVectorizer(ngram_range=(2, 2))\n",
    "text_counts = vectorizer.fit_transform(nostop[\"Clean_text\"])\n",
    "X=text_counts\n",
    "y=nostop[\"Sentiment\"]\n",
    "    # Split the dataset to train, validate, and test subsets\n",
    "X_train, X_test, y_train, y_test = train_test_split(X, y, test_size=0.1, random_state=1)\n",
    "X_train, X_val, y_train, y_val = train_test_split(X_train, y_train, test_size=0.1, random_state=1)\n",
    "\n",
    "    # Model Generation Using Multinomial Naive Bayes\n",
    "clf = MultinomialNB(alpha = 0.3).fit(X_train, y_train)\n",
    "\n",
    "proba_value = clf.predict_proba(X_test)\n",
    "p = proba_value[:, 1]\n",
    "print(\"Bigram LM without stopword dataset MultinomialNB =========== ROC-AUC score: %.3f\" % roc_auc_score(y_test, p))"
   ]
  },
  {
   "cell_type": "markdown",
   "metadata": {},
   "source": [
    "# Gensim Word2Vec Implementation:"
   ]
  },
  {
   "cell_type": "code",
   "execution_count": 8,
   "metadata": {},
   "outputs": [],
   "source": [
    "from time import time  # To time our operations\n",
    "import logging  # Setting up the loggings to monitor gensim\n",
    "logging.basicConfig(format=\"%(levelname)s - %(asctime)s: %(message)s\", datefmt= '%H:%M:%S', level=logging.INFO)\n",
    "from gensim.models.phrases import Phrases, Phraser\n",
    "import multiprocessing\n",
    "from gensim.models import Word2Vec"
   ]
  },
  {
   "cell_type": "code",
   "execution_count": 11,
   "metadata": {},
   "outputs": [],
   "source": [
    "text_with_stop=nostop['Clean_text']"
   ]
  },
  {
   "cell_type": "code",
   "execution_count": 12,
   "metadata": {},
   "outputs": [
    {
     "name": "stderr",
     "output_type": "stream",
     "text": [
      "INFO - 10:16:39: collecting all words and their counts\n",
      "INFO - 10:16:39: PROGRESS: at sentence #0, processed 0 words and 0 word types\n",
      "INFO - 10:16:43: PROGRESS: at sentence #10000, processed 2229201 words and 1089 word types\n",
      "INFO - 10:16:46: PROGRESS: at sentence #20000, processed 4486869 words and 1226 word types\n",
      "INFO - 10:16:50: PROGRESS: at sentence #30000, processed 6751195 words and 1377 word types\n",
      "INFO - 10:16:54: PROGRESS: at sentence #40000, processed 8983036 words and 1511 word types\n",
      "INFO - 10:16:57: PROGRESS: at sentence #50000, processed 11204052 words and 1648 word types\n",
      "INFO - 10:17:01: PROGRESS: at sentence #60000, processed 13430896 words and 1869 word types\n",
      "INFO - 10:17:05: PROGRESS: at sentence #70000, processed 15705770 words and 1936 word types\n",
      "INFO - 10:17:08: PROGRESS: at sentence #80000, processed 17908526 words and 2048 word types\n",
      "INFO - 10:17:12: PROGRESS: at sentence #90000, processed 20142981 words and 2123 word types\n",
      "INFO - 10:17:15: PROGRESS: at sentence #100000, processed 22412303 words and 2195 word types\n",
      "INFO - 10:17:19: PROGRESS: at sentence #110000, processed 24652723 words and 2280 word types\n",
      "INFO - 10:17:23: PROGRESS: at sentence #120000, processed 26922748 words and 2347 word types\n",
      "INFO - 10:17:26: PROGRESS: at sentence #130000, processed 29164874 words and 2381 word types\n",
      "INFO - 10:17:30: PROGRESS: at sentence #140000, processed 31427609 words and 2416 word types\n",
      "INFO - 10:17:34: PROGRESS: at sentence #150000, processed 33660403 words and 2455 word types\n",
      "INFO - 10:17:38: PROGRESS: at sentence #160000, processed 35879599 words and 2474 word types\n",
      "INFO - 10:17:41: PROGRESS: at sentence #170000, processed 38132850 words and 2569 word types\n",
      "INFO - 10:17:45: PROGRESS: at sentence #180000, processed 40327622 words and 2651 word types\n",
      "INFO - 10:17:49: PROGRESS: at sentence #190000, processed 42593921 words and 2682 word types\n",
      "INFO - 10:17:53: PROGRESS: at sentence #200000, processed 44814712 words and 2765 word types\n",
      "INFO - 10:17:57: PROGRESS: at sentence #210000, processed 47061035 words and 2792 word types\n",
      "INFO - 10:18:00: PROGRESS: at sentence #220000, processed 49317971 words and 2814 word types\n",
      "INFO - 10:18:04: PROGRESS: at sentence #230000, processed 51579853 words and 2845 word types\n",
      "INFO - 10:18:08: PROGRESS: at sentence #240000, processed 53839780 words and 2877 word types\n",
      "INFO - 10:18:11: collected 2896 word types from a corpus of 55751519 words (unigram + bigrams) and 248688 sentences\n",
      "INFO - 10:18:11: using 2896 counts as vocab in Phrases<0 vocab, min_count=30, threshold=10.0, max_vocab_size=40000000>\n",
      "INFO - 10:18:11: source_vocab length 2896\n",
      "INFO - 10:18:12: Phraser built with 0 phrasegrams\n"
     ]
    }
   ],
   "source": [
    "# Creates the relevant phrases from the list of sentences:\n",
    "phrases = Phrases(text_with_stop, min_count=30, progress_per=10000)\n",
    "# The goal of Phraser() is to cut down memory consumption of Phrases()\n",
    "# by discarding model state not strictly needed for the bigram detection task\n",
    "bigram = Phraser(phrases)\n",
    "#Transform the corpus based on the bigrams detected\n",
    "sentences = bigram[text_with_stop]"
   ]
  },
  {
   "cell_type": "code",
   "execution_count": 13,
   "metadata": {},
   "outputs": [
    {
     "data": {
      "text/plain": [
       "[\"['this', 'one', 'was', 'a', 'real', 'life', 'saver', 'today', 'helps', 'break', 'away', 'the', 'grip', 'of', 'depression', 'and', 'irritability', 'for', 'me', '']\",\n",
       " \"['so', 'quick', 'to', 'melt', 'away', 'the', 'stress', 'and', 'restore', 'a', 'sense', 'or', 'wellbeing', 'i', 'love', 'bb3', 'a', 'lot', 'i', 'think', 'more', 'people', 'should', 'give', 'it', 'a', 'whirl', 'and', 'see', 'if', 'you', 'too', 'wont', 'cozy', 'up', 'to', 'bruce', '']\",\n",
       " \"['this', 'strain', 'is', 'extremely', 'potent', 'the', 'name', 'electric', 'lemonade', 'does', 'not', 'give', 'it', 'justice', 'this', 'is', 'a', 'heavy', 'hitter', 'because', 'of', 'the', 'tahoe', 'og', 'one', 'of', 'the', 'strongest', 'strains', 'the', 'taste', 'is', 'lemonade', 'with', 'some', 'blue', 'dream', 'the', 'strongest', 'indicalike', 'sativa', 'ive', 'ever', 'had', 'very', 'interesting', 'strain', 'that', 'is', 'a', 'must', 'try']\",\n",
       " \"['one', 'of', 'my', 'favorites', 'for', 'going', 'out', 'and', 'having', 'fun', 'must', 'try', 'this', 'strain', 'when', 'going', 'hiking']\",\n",
       " \"['una', 'cosa', 'es', 'segura', 'es', 'una', 'planta', 'feliz', 'que', 'te', 'va', 'a', 'hacer', 'reír', 'y', 'reír', 'excel', 'note', 'para', 'estar', 'como', 'n', 'los', 'amigos', 'disfrutando', '']\",\n",
       " \"['this', 'is', 'not', 'your', 'high', 'school', 'columbian', 'gold', 'but', 'then', 'again', 'it', 'doesnt', 'cost', '5', 'for', 'a', '14', 'ounce', 'this', 'is', 'a', 'nice', 'smooth', 'smoke', 'with', 'an', 'earth', 'taste', 'and', 'just', 'the', 'right', 'amount', 'of', 'mellow', 'and', 'pain', 'relief', 'to', 'get', 'me', 'thru', 'a', 'couple', 'of', 'hours', '420sweepstakes']\",\n",
       " \"['really', 'sweet', 'fruity', 'taste', 'really', 'potent', '']\",\n",
       " \"['strong', 'but', 'smooth', 'inhale', 'and', 'gives', 'a', 'heavy', 'head', 'high', 'recommend', 'it', 'for', 'frequent', 'smokers', 'a']\",\n",
       " \"['smell', 'extremely', 'potent', 'definitely', 'cant', 'hide', 'this', 'one', '']\"]"
      ]
     },
     "execution_count": 13,
     "metadata": {},
     "output_type": "execute_result"
    }
   ],
   "source": [
    "sentences[1:10]"
   ]
  },
  {
   "cell_type": "code",
   "execution_count": 14,
   "metadata": {},
   "outputs": [],
   "source": [
    "cores = multiprocessing.cpu_count() # Count the number of cores in a computer\n",
    "w2v_model = Word2Vec(min_count=20,\n",
    "                     window=2,\n",
    "                     size=300,\n",
    "                     sample=6e-5, \n",
    "                     alpha=0.03, \n",
    "                     min_alpha=0.0007, \n",
    "                     negative=20,\n",
    "                     workers=cores-1)"
   ]
  },
  {
   "cell_type": "code",
   "execution_count": 15,
   "metadata": {},
   "outputs": [
    {
     "name": "stderr",
     "output_type": "stream",
     "text": [
      "INFO - 10:18:40: collecting all words and their counts\n",
      "WARNING - 10:18:40: Each 'sentences' item should be a list of words (usually unicode strings). First item here is instead plain <class 'str'>.\n",
      "INFO - 10:18:40: PROGRESS: at sentence #0, processed 0 words, keeping 0 word types\n",
      "INFO - 10:18:41: PROGRESS: at sentence #10000, processed 2229201 words, keeping 63 word types\n",
      "INFO - 10:18:41: PROGRESS: at sentence #20000, processed 4486869 words, keeping 67 word types\n",
      "INFO - 10:18:41: PROGRESS: at sentence #30000, processed 6751195 words, keeping 85 word types\n",
      "INFO - 10:18:42: PROGRESS: at sentence #40000, processed 8983036 words, keeping 109 word types\n",
      "INFO - 10:18:42: PROGRESS: at sentence #50000, processed 11204483 words, keeping 127 word types\n",
      "INFO - 10:18:42: PROGRESS: at sentence #60000, processed 13431364 words, keeping 140 word types\n",
      "INFO - 10:18:42: PROGRESS: at sentence #70000, processed 15706211 words, keeping 148 word types\n",
      "INFO - 10:18:43: PROGRESS: at sentence #80000, processed 17908710 words, keeping 160 word types\n",
      "INFO - 10:18:43: PROGRESS: at sentence #90000, processed 20142994 words, keeping 169 word types\n",
      "INFO - 10:18:43: PROGRESS: at sentence #100000, processed 22413268 words, keeping 176 word types\n",
      "INFO - 10:18:43: PROGRESS: at sentence #110000, processed 24652916 words, keeping 197 word types\n",
      "INFO - 10:18:44: PROGRESS: at sentence #120000, processed 26923848 words, keeping 209 word types\n",
      "INFO - 10:18:44: PROGRESS: at sentence #130000, processed 29165147 words, keeping 213 word types\n",
      "INFO - 10:18:44: PROGRESS: at sentence #140000, processed 31428017 words, keeping 215 word types\n",
      "INFO - 10:18:45: PROGRESS: at sentence #150000, processed 33661703 words, keeping 224 word types\n",
      "INFO - 10:18:45: PROGRESS: at sentence #160000, processed 35880030 words, keeping 227 word types\n",
      "INFO - 10:18:45: PROGRESS: at sentence #170000, processed 38133186 words, keeping 239 word types\n",
      "INFO - 10:18:45: PROGRESS: at sentence #180000, processed 40328051 words, keeping 262 word types\n",
      "INFO - 10:18:46: PROGRESS: at sentence #190000, processed 42595323 words, keeping 269 word types\n",
      "INFO - 10:18:46: PROGRESS: at sentence #200000, processed 44815462 words, keeping 297 word types\n",
      "INFO - 10:18:46: PROGRESS: at sentence #210000, processed 47061399 words, keeping 302 word types\n",
      "INFO - 10:18:47: PROGRESS: at sentence #220000, processed 49318754 words, keeping 304 word types\n",
      "INFO - 10:18:47: PROGRESS: at sentence #230000, processed 51581353 words, keeping 305 word types\n",
      "INFO - 10:18:47: PROGRESS: at sentence #240000, processed 53841328 words, keeping 311 word types\n",
      "INFO - 10:18:48: collected 316 word types from a corpus of 55751519 raw words and 248682 sentences\n",
      "INFO - 10:18:48: Loading a fresh vocabulary\n",
      "INFO - 10:18:48: effective_min_count=20 retains 79 unique words (25% of original 316, drops 237)\n",
      "INFO - 10:18:48: effective_min_count=20 leaves 55750900 word corpus (99% of original 55751519, drops 619)\n",
      "INFO - 10:18:48: deleting the raw counts dictionary of 316 items\n",
      "INFO - 10:18:48: sample=6e-05 downsamples 37 most-common words\n",
      "INFO - 10:18:48: downsampling leaves estimated 2176741 word corpus (3.9% of prior 55750900)\n",
      "INFO - 10:18:48: estimated required memory for 79 words and 300 dimensions: 229100 bytes\n",
      "INFO - 10:18:48: resetting layer weights\n"
     ]
    },
    {
     "name": "stdout",
     "output_type": "stream",
     "text": [
      "Time to build vocab: 0.12 mins\n"
     ]
    }
   ],
   "source": [
    "t = time()\n",
    "\n",
    "w2v_model.build_vocab(sentences, progress_per=10000)\n",
    "\n",
    "print('Time to build vocab: {} mins'.format(round((time() - t) / 60, 2)))"
   ]
  },
  {
   "cell_type": "code",
   "execution_count": 16,
   "metadata": {},
   "outputs": [
    {
     "name": "stderr",
     "output_type": "stream",
     "text": [
      "INFO - 10:19:34: training model with 3 workers on 79 vocabulary and 300 features, using sg=0 hs=0 sample=6e-05 negative=20 window=2\n",
      "INFO - 10:19:35: EPOCH 1 - PROGRESS: at 6.45% examples, 140418 words/s, in_qsize 6, out_qsize 0\n",
      "INFO - 10:19:36: EPOCH 1 - PROGRESS: at 13.32% examples, 145441 words/s, in_qsize 5, out_qsize 0\n",
      "INFO - 10:19:37: EPOCH 1 - PROGRESS: at 20.71% examples, 149777 words/s, in_qsize 4, out_qsize 2\n",
      "INFO - 10:19:38: EPOCH 1 - PROGRESS: at 31.26% examples, 169754 words/s, in_qsize 6, out_qsize 3\n",
      "INFO - 10:19:39: EPOCH 1 - PROGRESS: at 40.34% examples, 175376 words/s, in_qsize 5, out_qsize 0\n",
      "INFO - 10:19:40: EPOCH 1 - PROGRESS: at 48.57% examples, 176221 words/s, in_qsize 5, out_qsize 0\n",
      "INFO - 10:19:41: EPOCH 1 - PROGRESS: at 57.00% examples, 177366 words/s, in_qsize 5, out_qsize 0\n",
      "INFO - 10:19:42: EPOCH 1 - PROGRESS: at 64.39% examples, 175038 words/s, in_qsize 5, out_qsize 1\n",
      "INFO - 10:19:43: EPOCH 1 - PROGRESS: at 75.49% examples, 182324 words/s, in_qsize 5, out_qsize 0\n",
      "INFO - 10:19:44: EPOCH 1 - PROGRESS: at 86.62% examples, 188339 words/s, in_qsize 5, out_qsize 0\n",
      "INFO - 10:19:45: EPOCH 1 - PROGRESS: at 97.92% examples, 193649 words/s, in_qsize 5, out_qsize 0\n",
      "INFO - 10:19:45: worker thread finished; awaiting finish of 2 more threads\n",
      "INFO - 10:19:45: worker thread finished; awaiting finish of 1 more threads\n",
      "INFO - 10:19:45: worker thread finished; awaiting finish of 0 more threads\n",
      "INFO - 10:19:45: EPOCH - 1 : training on 55751519 raw words (2178546 effective words) took 11.2s, 194425 effective words/s\n",
      "INFO - 10:19:46: EPOCH 2 - PROGRESS: at 10.84% examples, 236667 words/s, in_qsize 5, out_qsize 0\n",
      "INFO - 10:19:47: EPOCH 2 - PROGRESS: at 19.93% examples, 216331 words/s, in_qsize 5, out_qsize 0\n",
      "INFO - 10:19:48: EPOCH 2 - PROGRESS: at 28.67% examples, 207524 words/s, in_qsize 5, out_qsize 0\n",
      "INFO - 10:19:49: EPOCH 2 - PROGRESS: at 38.77% examples, 210166 words/s, in_qsize 4, out_qsize 2\n",
      "INFO - 10:19:50: EPOCH 2 - PROGRESS: at 47.15% examples, 204536 words/s, in_qsize 3, out_qsize 4\n",
      "INFO - 10:19:51: EPOCH 2 - PROGRESS: at 55.08% examples, 199173 words/s, in_qsize 5, out_qsize 1\n",
      "INFO - 10:19:52: EPOCH 2 - PROGRESS: at 66.42% examples, 205853 words/s, in_qsize 5, out_qsize 1\n",
      "INFO - 10:19:53: EPOCH 2 - PROGRESS: at 76.96% examples, 208702 words/s, in_qsize 5, out_qsize 1\n",
      "INFO - 10:19:54: EPOCH 2 - PROGRESS: at 88.50% examples, 213358 words/s, in_qsize 5, out_qsize 0\n",
      "INFO - 10:19:55: worker thread finished; awaiting finish of 2 more threads\n",
      "INFO - 10:19:55: worker thread finished; awaiting finish of 1 more threads\n",
      "INFO - 10:19:55: worker thread finished; awaiting finish of 0 more threads\n",
      "INFO - 10:19:55: EPOCH - 2 : training on 55751519 raw words (2175609 effective words) took 10.0s, 217018 effective words/s\n",
      "INFO - 10:19:56: EPOCH 3 - PROGRESS: at 10.76% examples, 235030 words/s, in_qsize 3, out_qsize 2\n",
      "INFO - 10:19:57: EPOCH 3 - PROGRESS: at 21.44% examples, 232358 words/s, in_qsize 5, out_qsize 0\n",
      "INFO - 10:19:58: EPOCH 3 - PROGRESS: at 31.41% examples, 227281 words/s, in_qsize 5, out_qsize 0\n",
      "INFO - 10:19:59: EPOCH 3 - PROGRESS: at 40.69% examples, 220948 words/s, in_qsize 4, out_qsize 2\n",
      "INFO - 10:20:00: EPOCH 3 - PROGRESS: at 51.28% examples, 222964 words/s, in_qsize 5, out_qsize 0\n",
      "INFO - 10:20:01: EPOCH 3 - PROGRESS: at 61.44% examples, 222610 words/s, in_qsize 5, out_qsize 3\n",
      "INFO - 10:20:02: EPOCH 3 - PROGRESS: at 72.56% examples, 224981 words/s, in_qsize 5, out_qsize 0\n",
      "INFO - 10:20:03: EPOCH 3 - PROGRESS: at 83.35% examples, 226139 words/s, in_qsize 5, out_qsize 1\n",
      "INFO - 10:20:04: EPOCH 3 - PROGRESS: at 92.38% examples, 222848 words/s, in_qsize 5, out_qsize 0\n",
      "INFO - 10:20:05: EPOCH 3 - PROGRESS: at 99.33% examples, 215588 words/s, in_qsize 6, out_qsize 0\n",
      "INFO - 10:20:05: worker thread finished; awaiting finish of 2 more threads\n",
      "INFO - 10:20:05: worker thread finished; awaiting finish of 1 more threads\n",
      "INFO - 10:20:05: worker thread finished; awaiting finish of 0 more threads\n",
      "INFO - 10:20:05: EPOCH - 3 : training on 55751519 raw words (2174987 effective words) took 10.1s, 215261 effective words/s\n",
      "INFO - 10:20:06: EPOCH 4 - PROGRESS: at 10.89% examples, 237306 words/s, in_qsize 6, out_qsize 0\n",
      "INFO - 10:20:07: EPOCH 4 - PROGRESS: at 20.35% examples, 220257 words/s, in_qsize 4, out_qsize 1\n",
      "INFO - 10:20:08: EPOCH 4 - PROGRESS: at 30.33% examples, 219215 words/s, in_qsize 5, out_qsize 0\n",
      "INFO - 10:20:09: EPOCH 4 - PROGRESS: at 39.72% examples, 215498 words/s, in_qsize 5, out_qsize 0\n",
      "INFO - 10:20:10: EPOCH 4 - PROGRESS: at 50.47% examples, 219429 words/s, in_qsize 5, out_qsize 0\n",
      "INFO - 10:20:11: EPOCH 4 - PROGRESS: at 59.54% examples, 215578 words/s, in_qsize 4, out_qsize 1\n",
      "INFO - 10:20:12: EPOCH 4 - PROGRESS: at 68.40% examples, 212144 words/s, in_qsize 5, out_qsize 3\n",
      "INFO - 10:20:13: EPOCH 4 - PROGRESS: at 76.72% examples, 208143 words/s, in_qsize 4, out_qsize 1\n",
      "INFO - 10:20:14: EPOCH 4 - PROGRESS: at 85.40% examples, 205907 words/s, in_qsize 5, out_qsize 1\n",
      "INFO - 10:20:15: EPOCH 4 - PROGRESS: at 93.81% examples, 203763 words/s, in_qsize 4, out_qsize 2\n",
      "INFO - 10:20:16: worker thread finished; awaiting finish of 2 more threads\n",
      "INFO - 10:20:16: worker thread finished; awaiting finish of 1 more threads\n",
      "INFO - 10:20:16: worker thread finished; awaiting finish of 0 more threads\n",
      "INFO - 10:20:16: EPOCH - 4 : training on 55751519 raw words (2176328 effective words) took 10.6s, 204700 effective words/s\n",
      "INFO - 10:20:17: EPOCH 5 - PROGRESS: at 10.31% examples, 224355 words/s, in_qsize 5, out_qsize 1\n",
      "INFO - 10:20:18: EPOCH 5 - PROGRESS: at 20.88% examples, 226077 words/s, in_qsize 5, out_qsize 0\n",
      "INFO - 10:20:19: EPOCH 5 - PROGRESS: at 31.89% examples, 230069 words/s, in_qsize 6, out_qsize 5\n",
      "INFO - 10:20:20: EPOCH 5 - PROGRESS: at 41.79% examples, 226363 words/s, in_qsize 5, out_qsize 3\n",
      "INFO - 10:20:21: EPOCH 5 - PROGRESS: at 51.39% examples, 223098 words/s, in_qsize 5, out_qsize 0\n",
      "INFO - 10:20:22: EPOCH 5 - PROGRESS: at 60.22% examples, 217836 words/s, in_qsize 4, out_qsize 1\n",
      "INFO - 10:20:23: EPOCH 5 - PROGRESS: at 69.80% examples, 216188 words/s, in_qsize 5, out_qsize 2\n",
      "INFO - 10:20:24: EPOCH 5 - PROGRESS: at 80.45% examples, 218050 words/s, in_qsize 5, out_qsize 2\n",
      "INFO - 10:20:25: EPOCH 5 - PROGRESS: at 90.81% examples, 218892 words/s, in_qsize 5, out_qsize 0\n",
      "INFO - 10:20:26: worker thread finished; awaiting finish of 2 more threads\n",
      "INFO - 10:20:26: worker thread finished; awaiting finish of 1 more threads\n",
      "INFO - 10:20:26: worker thread finished; awaiting finish of 0 more threads\n",
      "INFO - 10:20:26: EPOCH - 5 : training on 55751519 raw words (2175880 effective words) took 9.9s, 218704 effective words/s\n",
      "INFO - 10:20:27: EPOCH 6 - PROGRESS: at 10.48% examples, 229494 words/s, in_qsize 5, out_qsize 1\n",
      "INFO - 10:20:28: EPOCH 6 - PROGRESS: at 21.29% examples, 231144 words/s, in_qsize 5, out_qsize 0\n",
      "INFO - 10:20:29: EPOCH 6 - PROGRESS: at 29.40% examples, 212921 words/s, in_qsize 5, out_qsize 1\n",
      "INFO - 10:20:30: EPOCH 6 - PROGRESS: at 38.18% examples, 206823 words/s, in_qsize 5, out_qsize 1\n",
      "INFO - 10:20:31: EPOCH 6 - PROGRESS: at 49.18% examples, 213996 words/s, in_qsize 5, out_qsize 0\n",
      "INFO - 10:20:32: EPOCH 6 - PROGRESS: at 60.56% examples, 219595 words/s, in_qsize 5, out_qsize 0\n",
      "INFO - 10:20:33: EPOCH 6 - PROGRESS: at 72.01% examples, 223499 words/s, in_qsize 5, out_qsize 0\n",
      "INFO - 10:20:34: EPOCH 6 - PROGRESS: at 83.43% examples, 226686 words/s, in_qsize 5, out_qsize 0\n",
      "INFO - 10:20:35: EPOCH 6 - PROGRESS: at 94.22% examples, 227694 words/s, in_qsize 5, out_qsize 1\n",
      "INFO - 10:20:36: worker thread finished; awaiting finish of 2 more threads\n",
      "INFO - 10:20:36: worker thread finished; awaiting finish of 1 more threads\n",
      "INFO - 10:20:36: worker thread finished; awaiting finish of 0 more threads\n",
      "INFO - 10:20:36: EPOCH - 6 : training on 55751519 raw words (2177330 effective words) took 9.6s, 227197 effective words/s\n",
      "INFO - 10:20:37: EPOCH 7 - PROGRESS: at 9.22% examples, 200957 words/s, in_qsize 5, out_qsize 0\n",
      "INFO - 10:20:38: EPOCH 7 - PROGRESS: at 19.80% examples, 214442 words/s, in_qsize 4, out_qsize 1\n",
      "INFO - 10:20:39: EPOCH 7 - PROGRESS: at 28.70% examples, 207521 words/s, in_qsize 4, out_qsize 1\n",
      "INFO - 10:20:40: EPOCH 7 - PROGRESS: at 36.17% examples, 195852 words/s, in_qsize 5, out_qsize 0\n"
     ]
    },
    {
     "name": "stderr",
     "output_type": "stream",
     "text": [
      "INFO - 10:20:41: EPOCH 7 - PROGRESS: at 43.16% examples, 187363 words/s, in_qsize 5, out_qsize 0\n",
      "INFO - 10:20:42: EPOCH 7 - PROGRESS: at 52.05% examples, 188591 words/s, in_qsize 5, out_qsize 1\n",
      "INFO - 10:20:43: EPOCH 7 - PROGRESS: at 62.08% examples, 192738 words/s, in_qsize 5, out_qsize 4\n",
      "INFO - 10:20:44: EPOCH 7 - PROGRESS: at 71.53% examples, 194065 words/s, in_qsize 5, out_qsize 0\n",
      "INFO - 10:20:45: EPOCH 7 - PROGRESS: at 80.99% examples, 195235 words/s, in_qsize 4, out_qsize 4\n",
      "INFO - 10:20:46: EPOCH 7 - PROGRESS: at 89.95% examples, 195229 words/s, in_qsize 5, out_qsize 0\n",
      "INFO - 10:20:47: EPOCH 7 - PROGRESS: at 97.63% examples, 192755 words/s, in_qsize 5, out_qsize 0\n",
      "INFO - 10:20:47: worker thread finished; awaiting finish of 2 more threads\n",
      "INFO - 10:20:47: worker thread finished; awaiting finish of 1 more threads\n",
      "INFO - 10:20:47: worker thread finished; awaiting finish of 0 more threads\n",
      "INFO - 10:20:47: EPOCH - 7 : training on 55751519 raw words (2178236 effective words) took 11.3s, 192975 effective words/s\n",
      "INFO - 10:20:48: EPOCH 8 - PROGRESS: at 9.50% examples, 207991 words/s, in_qsize 5, out_qsize 0\n",
      "INFO - 10:20:49: EPOCH 8 - PROGRESS: at 18.38% examples, 199329 words/s, in_qsize 4, out_qsize 1\n",
      "INFO - 10:20:50: EPOCH 8 - PROGRESS: at 25.53% examples, 184970 words/s, in_qsize 5, out_qsize 0\n",
      "INFO - 10:20:51: EPOCH 8 - PROGRESS: at 34.05% examples, 184930 words/s, in_qsize 5, out_qsize 0\n",
      "INFO - 10:20:52: EPOCH 8 - PROGRESS: at 44.65% examples, 193985 words/s, in_qsize 5, out_qsize 1\n",
      "INFO - 10:20:53: EPOCH 8 - PROGRESS: at 54.20% examples, 196179 words/s, in_qsize 6, out_qsize 0\n",
      "INFO - 10:20:54: EPOCH 8 - PROGRESS: at 63.49% examples, 197074 words/s, in_qsize 6, out_qsize 0\n",
      "INFO - 10:20:55: EPOCH 8 - PROGRESS: at 73.97% examples, 200686 words/s, in_qsize 5, out_qsize 0\n",
      "INFO - 10:20:56: EPOCH 8 - PROGRESS: at 83.91% examples, 202459 words/s, in_qsize 5, out_qsize 0\n",
      "INFO - 10:20:57: EPOCH 8 - PROGRESS: at 94.10% examples, 204543 words/s, in_qsize 5, out_qsize 0\n",
      "INFO - 10:20:58: worker thread finished; awaiting finish of 2 more threads\n",
      "INFO - 10:20:58: worker thread finished; awaiting finish of 1 more threads\n",
      "INFO - 10:20:58: worker thread finished; awaiting finish of 0 more threads\n",
      "INFO - 10:20:58: EPOCH - 8 : training on 55751519 raw words (2177197 effective words) took 10.6s, 204709 effective words/s\n",
      "INFO - 10:20:59: EPOCH 9 - PROGRESS: at 8.33% examples, 181251 words/s, in_qsize 5, out_qsize 0\n",
      "INFO - 10:21:00: EPOCH 9 - PROGRESS: at 19.18% examples, 207758 words/s, in_qsize 4, out_qsize 2\n",
      "INFO - 10:21:01: EPOCH 9 - PROGRESS: at 28.41% examples, 205677 words/s, in_qsize 5, out_qsize 4\n",
      "INFO - 10:21:02: EPOCH 9 - PROGRESS: at 37.34% examples, 202366 words/s, in_qsize 4, out_qsize 1\n",
      "INFO - 10:21:03: EPOCH 9 - PROGRESS: at 44.79% examples, 194287 words/s, in_qsize 5, out_qsize 0\n",
      "INFO - 10:21:04: EPOCH 9 - PROGRESS: at 55.78% examples, 201987 words/s, in_qsize 5, out_qsize 1\n",
      "INFO - 10:21:05: EPOCH 9 - PROGRESS: at 65.40% examples, 202748 words/s, in_qsize 5, out_qsize 0\n",
      "INFO - 10:21:06: EPOCH 9 - PROGRESS: at 74.54% examples, 202104 words/s, in_qsize 4, out_qsize 2\n",
      "INFO - 10:21:07: EPOCH 9 - PROGRESS: at 82.81% examples, 199520 words/s, in_qsize 6, out_qsize 0\n",
      "INFO - 10:21:08: EPOCH 9 - PROGRESS: at 91.46% examples, 198416 words/s, in_qsize 6, out_qsize 0\n",
      "INFO - 10:21:08: worker thread finished; awaiting finish of 2 more threads\n",
      "INFO - 10:21:08: worker thread finished; awaiting finish of 1 more threads\n",
      "INFO - 10:21:08: worker thread finished; awaiting finish of 0 more threads\n",
      "INFO - 10:21:08: EPOCH - 9 : training on 55751519 raw words (2174698 effective words) took 10.9s, 199600 effective words/s\n",
      "INFO - 10:21:09: EPOCH 10 - PROGRESS: at 8.65% examples, 188930 words/s, in_qsize 6, out_qsize 0\n",
      "INFO - 10:21:10: EPOCH 10 - PROGRESS: at 17.37% examples, 188283 words/s, in_qsize 5, out_qsize 2\n",
      "INFO - 10:21:11: EPOCH 10 - PROGRESS: at 27.53% examples, 199508 words/s, in_qsize 4, out_qsize 5\n",
      "INFO - 10:21:12: EPOCH 10 - PROGRESS: at 38.42% examples, 208597 words/s, in_qsize 5, out_qsize 0\n",
      "INFO - 10:21:13: EPOCH 10 - PROGRESS: at 47.93% examples, 208401 words/s, in_qsize 5, out_qsize 2\n",
      "INFO - 10:21:15: EPOCH 10 - PROGRESS: at 58.41% examples, 211731 words/s, in_qsize 5, out_qsize 0\n",
      "INFO - 10:21:16: EPOCH 10 - PROGRESS: at 68.68% examples, 213323 words/s, in_qsize 5, out_qsize 0\n",
      "INFO - 10:21:17: EPOCH 10 - PROGRESS: at 79.32% examples, 215365 words/s, in_qsize 5, out_qsize 0\n",
      "INFO - 10:21:18: EPOCH 10 - PROGRESS: at 89.19% examples, 215250 words/s, in_qsize 5, out_qsize 0\n",
      "INFO - 10:21:19: EPOCH 10 - PROGRESS: at 98.93% examples, 214930 words/s, in_qsize 5, out_qsize 0\n",
      "INFO - 10:21:19: worker thread finished; awaiting finish of 2 more threads\n",
      "INFO - 10:21:19: worker thread finished; awaiting finish of 1 more threads\n",
      "INFO - 10:21:19: worker thread finished; awaiting finish of 0 more threads\n",
      "INFO - 10:21:19: EPOCH - 10 : training on 55751519 raw words (2176774 effective words) took 10.1s, 215120 effective words/s\n",
      "INFO - 10:21:19: training on a 557515190 raw words (21765585 effective words) took 104.6s, 208068 effective words/s\n"
     ]
    },
    {
     "name": "stdout",
     "output_type": "stream",
     "text": [
      "Time to train the model: 1.74 mins\n"
     ]
    }
   ],
   "source": [
    "t = time()\n",
    "\n",
    "w2v_model.train(sentences, total_examples=w2v_model.corpus_count, epochs=10, report_delay=1)\n",
    "\n",
    "print('Time to train the model: {} mins'.format(round((time() - t) / 60, 2)))"
   ]
  },
  {
   "cell_type": "code",
   "execution_count": null,
   "metadata": {},
   "outputs": [],
   "source": []
  },
  {
   "cell_type": "code",
   "execution_count": null,
   "metadata": {},
   "outputs": [],
   "source": []
  },
  {
   "cell_type": "code",
   "execution_count": null,
   "metadata": {},
   "outputs": [],
   "source": []
  },
  {
   "cell_type": "code",
   "execution_count": null,
   "metadata": {},
   "outputs": [],
   "source": []
  }
 ],
 "metadata": {
  "kernelspec": {
   "display_name": "Python 3",
   "language": "python",
   "name": "python3"
  },
  "language_info": {
   "codemirror_mode": {
    "name": "ipython",
    "version": 3
   },
   "file_extension": ".py",
   "mimetype": "text/x-python",
   "name": "python",
   "nbconvert_exporter": "python",
   "pygments_lexer": "ipython3",
   "version": "3.7.3"
  }
 },
 "nbformat": 4,
 "nbformat_minor": 2
}
